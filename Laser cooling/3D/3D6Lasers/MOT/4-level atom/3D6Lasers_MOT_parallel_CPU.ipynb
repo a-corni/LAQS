{
  "nbformat": 4,
  "nbformat_minor": 0,
  "metadata": {
    "kernelspec": {
      "display_name": "Julia 1.5.0",
      "language": "julia",
      "name": "julia-1.5"
    },
    "language_info": {
      "file_extension": ".jl",
      "mimetype": "application/julia",
      "name": "julia",
      "version": "1.5.0"
    },
    "colab": {
      "name": "3D6Lasers_MOT_parallel_CPU.ipynb",
      "provenance": [],
      "collapsed_sections": []
    }
  },
  "cells": [
    {
      "cell_type": "code",
      "metadata": {
        "id": "u03M1YiuvhkH",
        "colab": {
          "base_uri": "https://localhost:8080/",
          "height": 146
        },
        "outputId": "68748a57-47be-426c-afbd-7acae23463a5"
      },
      "source": [
        "{\n",
        "  \"nbformat\": 4,\n",
        "  \"nbformat_minor\": 0,\n",
        "  \"metadata\": {\n",
        "    \"colab\": {\n",
        "      \"name\": \"Julia on Colab.ipynb\",\n",
        "      \"version\": \"0.3.2\",\n",
        "      \"provenance\": []\n",
        "    },\n",
        "    \"kernelspec\": {\n",
        "      \"name\": \"julia-1.5\",\n",
        "      \"display_name\": \"Julia 1.5\"\n",
        "    },\n",
        "    \"accelerator\": \"GPU\"\n",
        "  },\n",
        "  \"cells\": [\n",
        "    {\n",
        "      \"metadata\": {\n",
        "        \"id\": \"oMSuTc3pDlHv\",\n",
        "        \"colab_type\": \"code\",\n",
        "        \"colab\": {}\n",
        "      },\n",
        "      \"cell_type\": \"code\",\n",
        "      \"source\": [\n",
        "        \"\"\n",
        "      ],\n",
        "      \"execution_count\": 0,\n",
        "      \"outputs\": []\n",
        "    }\n",
        "  ]\n",
        "}"
      ],
      "execution_count": null,
      "outputs": [
        {
          "output_type": "error",
          "ename": "LoadError",
          "evalue": "ignored",
          "traceback": [
            "syntax: { } vector syntax is discontinued around In[1]:1",
            "",
            "Stacktrace:",
            " [1] top-level scope at In[1]:1",
            " [2] include_string(::Function, ::Module, ::String, ::String) at ./loading.jl:1091"
          ]
        }
      ]
    },
    {
      "cell_type": "markdown",
      "metadata": {
        "id": "Pxq0htYsPUop"
      },
      "source": [
        "Run the following lines to charge Julia environment"
      ]
    },
    {
      "cell_type": "code",
      "metadata": {
        "id": "uGBf_Dg1jE_9",
        "colab": {
          "base_uri": "https://localhost:8080/",
          "height": 161
        },
        "outputId": "39bae296-0c2e-48b4-8727-a6de9c85677a"
      },
      "source": [
        ""
      ],
      "execution_count": null,
      "outputs": [
        {
          "output_type": "error",
          "ename": "NameError",
          "evalue": "ignored",
          "traceback": [
            "\u001b[0;31m---------------------------------------------------------------------------\u001b[0m",
            "\u001b[0;31mNameError\u001b[0m                                 Traceback (most recent call last)",
            "\u001b[0;32m<ipython-input-1-07dac99775fb>\u001b[0m in \u001b[0;36m<module>\u001b[0;34m()\u001b[0m\n\u001b[0;32m----> 1\u001b[0;31m \u001b[0mENV\u001b[0m\u001b[0;34m[\u001b[0m\u001b[0;34m\"JULIA_NUM_THREADS\"\u001b[0m\u001b[0;34m]\u001b[0m \u001b[0;34m=\u001b[0m \u001b[0;36m4\u001b[0m\u001b[0;34m\u001b[0m\u001b[0;34m\u001b[0m\u001b[0m\n\u001b[0m",
            "\u001b[0;31mNameError\u001b[0m: name 'ENV' is not defined"
          ]
        }
      ]
    },
    {
      "cell_type": "code",
      "metadata": {
        "id": "He91SJ0LyVoV",
        "colab": {
          "base_uri": "https://localhost:8080/",
          "height": 134
        },
        "outputId": "e84d01ce-7693-47ff-c37b-62f2d271564c"
      },
      "source": [
        "!curl -sSL \"https://julialang-s3.julialang.org/bin/linux/x64/1.5/julia-1.5.0-linux-x86_64.tar.gz\" -o julia.tar.gz\n",
        "!tar -xzf julia.tar.gz -C /usr --strip-components 1\n",
        "!rm -rf julia.tar.gz*\n",
        "!julia -e 'using Pkg; pkg\"add IJulia;  precompile\"'  \n",
        "!echo \"DONE\""
      ],
      "execution_count": null,
      "outputs": [
        {
          "output_type": "stream",
          "text": [
            "\u001b[32m\u001b[1m   Updating\u001b[22m\u001b[39m registry at `~/.julia/registries/General`\n",
            "\u001b[32m\u001b[1m   Updating\u001b[22m\u001b[39m git-repo `https://github.com/JuliaRegistries/General.git`\n",
            "\u001b[2K\u001b[?25h\u001b[32m\u001b[1m  Resolving\u001b[22m\u001b[39m package versions...\n",
            "\u001b[32m\u001b[1mNo Changes\u001b[22m\u001b[39m to `~/.julia/environments/v1.5/Project.toml`\n",
            "\u001b[32m\u001b[1mNo Changes\u001b[22m\u001b[39m to `~/.julia/environments/v1.5/Manifest.toml`\n",
            "\u001b[32m\u001b[1mPrecompiling\u001b[22m\u001b[39m project...\n",
            "DONE\n"
          ],
          "name": "stdout"
        }
      ]
    },
    {
      "cell_type": "code",
      "metadata": {
        "id": "dpVcl_Dyzd-i",
        "colab": {
          "base_uri": "https://localhost:8080/",
          "height": 67
        },
        "outputId": "d8a5d104-5eb8-4d72-aa0b-a79731106a7c"
      },
      "source": [
        "JULIA_NUM_THREADS=4\n",
        "!julia -e 'using IJulia; IJulia.installkernel(\"julia\", env=Dict(\"JULIA_NUM_THREADS\"=>\"'\"$JULIA_NUM_THREADS\"'\"))'\n",
        "\n",
        "KERNEL_DIR='julia -e \"using IJulia; print(IJulia.kerneldir())\"'\n",
        "KERNEL_NAME='ls -d \"$KERNEL_DIR\"/julia*'\n",
        "!mv -f $KERNEL_NAME \"$KERNEL_DIR\"/julia"
      ],
      "execution_count": null,
      "outputs": [
        {
          "output_type": "stream",
          "text": [
            "\u001b[36m\u001b[1m[ \u001b[22m\u001b[39m\u001b[36m\u001b[1mInfo: \u001b[22m\u001b[39mInstalling julia kernelspec in /root/.local/share/jupyter/kernels/julia-1.5\n",
            "/bin/bash: -c: line 0: syntax error near unexpected token `IJulia.kerneldir'\n",
            "/bin/bash: -c: line 0: `mv -f ls -d \"$KERNEL_DIR\"/julia* \"julia -e \"using IJulia; print(IJulia.kerneldir())\"\"/julia'\n"
          ],
          "name": "stdout"
        }
      ]
    },
    {
      "cell_type": "markdown",
      "metadata": {
        "id": "ZYGMpxIOPjmn"
      },
      "source": [
        "Now switch to Julia 1.5.0 (Runtime/Change Runtime/Julia 1.5.0).\n",
        "Once you have switched to Julia, add package using Pkg.add(\"NewPackageName\")\n"
      ]
    },
    {
      "cell_type": "code",
      "metadata": {
        "id": "3ux9kkXZip4b",
        "colab": {
          "base_uri": "https://localhost:8080/",
          "height": 1000
        },
        "outputId": "20194e38-4d04-4f6d-c3af-4c6e6f67db3b"
      },
      "source": [
        "import Pkg; \n",
        "Pkg.add(\"Distributed\")\n",
        "Pkg.add(\"Random\"); \n",
        "Pkg.add(\"Distributions\"); \n",
        "Pkg.add(\"DelimitedFiles\"); \n",
        "Pkg.add(\"LinearAlgebra\")\n",
        "Pkg.add(\"Plots\"); \n",
        "Pkg.add(\"PyPlot\");\n",
        "Pkg.add(\"ColorSchemes\");\n",
        "Pkg.add(\"SharedArrays\")\n",
        "precompile"
      ],
      "execution_count": null,
      "outputs": [
        {
          "output_type": "stream",
          "text": [
            "\u001b[32m\u001b[1m   Updating\u001b[22m\u001b[39m registry at `~/.julia/registries/General`\n"
          ],
          "name": "stderr"
        },
        {
          "output_type": "stream",
          "text": [
            "\u001b[?25l\u001b[2K"
          ],
          "name": "stdout"
        },
        {
          "output_type": "stream",
          "text": [
            "\u001b[32m\u001b[1m   Updating\u001b[22m\u001b[39m git-repo `https://github.com/JuliaRegistries/General.git`\n"
          ],
          "name": "stderr"
        },
        {
          "output_type": "stream",
          "text": [
            "\u001b[?25h"
          ],
          "name": "stdout"
        },
        {
          "output_type": "stream",
          "text": [
            "\u001b[32m\u001b[1m  Resolving\u001b[22m\u001b[39m package versions...\n",
            "\u001b[32m\u001b[1mUpdating\u001b[22m\u001b[39m `~/.julia/environments/v1.5/Project.toml`\n",
            " \u001b[90m [8ba89e20] \u001b[39m\u001b[92m+ Distributed\u001b[39m\n",
            "\u001b[32m\u001b[1mNo Changes\u001b[22m\u001b[39m to `~/.julia/environments/v1.5/Manifest.toml`\n",
            "\u001b[32m\u001b[1m  Resolving\u001b[22m\u001b[39m package versions...\n",
            "\u001b[32m\u001b[1mUpdating\u001b[22m\u001b[39m `~/.julia/environments/v1.5/Project.toml`\n",
            " \u001b[90m [9a3f8284] \u001b[39m\u001b[92m+ Random\u001b[39m\n",
            "\u001b[32m\u001b[1mNo Changes\u001b[22m\u001b[39m to `~/.julia/environments/v1.5/Manifest.toml`\n",
            "\u001b[32m\u001b[1m  Resolving\u001b[22m\u001b[39m package versions...\n",
            "\u001b[32m\u001b[1m  Installed\u001b[22m\u001b[39m Distributions ──────────────── v0.23.12\n",
            "\u001b[32m\u001b[1m  Installed\u001b[22m\u001b[39m DataAPI ────────────────────── v1.3.0\n",
            "\u001b[32m\u001b[1m  Installed\u001b[22m\u001b[39m StatsBase ──────────────────── v0.33.1\n",
            "\u001b[32m\u001b[1m  Installed\u001b[22m\u001b[39m SpecialFunctions ───────────── v0.10.3\n",
            "\u001b[32m\u001b[1m  Installed\u001b[22m\u001b[39m Rmath ──────────────────────── v0.6.1\n",
            "\u001b[32m\u001b[1m  Installed\u001b[22m\u001b[39m Rmath_jll ──────────────────── v0.2.2+1\n",
            "\u001b[32m\u001b[1m  Installed\u001b[22m\u001b[39m Missings ───────────────────── v0.4.4\n",
            "\u001b[32m\u001b[1m  Installed\u001b[22m\u001b[39m CompilerSupportLibraries_jll ─ v0.3.3+0\n",
            "\u001b[32m\u001b[1m  Installed\u001b[22m\u001b[39m StaticArrays ───────────────── v0.12.4\n",
            "\u001b[32m\u001b[1m  Installed\u001b[22m\u001b[39m OrderedCollections ─────────── v1.3.1\n",
            "\u001b[32m\u001b[1m  Installed\u001b[22m\u001b[39m PDMats ─────────────────────── v0.10.1\n",
            "\u001b[32m\u001b[1m  Installed\u001b[22m\u001b[39m Compat ─────────────────────── v3.17.0\n",
            "\u001b[32m\u001b[1m  Installed\u001b[22m\u001b[39m StatsFuns ──────────────────── v0.9.5\n",
            "\u001b[32m\u001b[1m  Installed\u001b[22m\u001b[39m FillArrays ─────────────────── v0.9.6\n",
            "\u001b[32m\u001b[1m  Installed\u001b[22m\u001b[39m OpenSpecFun_jll ────────────── v0.5.3+3\n",
            "\u001b[32m\u001b[1m  Installed\u001b[22m\u001b[39m SortingAlgorithms ──────────── v0.3.1\n",
            "\u001b[32m\u001b[1m  Installed\u001b[22m\u001b[39m DataStructures ─────────────── v0.18.6\n",
            "\u001b[32m\u001b[1m  Installed\u001b[22m\u001b[39m QuadGK ─────────────────────── v2.4.1\n",
            "#=#=#                                                                          \n",
            "curl: (22) The requested URL returned error: 502 Bad Gateway\n",
            "######################################################################### 100.0%\n",
            "##O#- #                                                                        \n",
            "curl: (22) The requested URL returned error: 502 Bad Gateway\n",
            "######################################################################### 100.0%\n",
            "#=#=#                                                                          \n",
            "curl: (22) The requested URL returned error: 502 Bad Gateway\n",
            "######################################################################### 100.0%\n",
            "\u001b[32m\u001b[1mUpdating\u001b[22m\u001b[39m `~/.julia/environments/v1.5/Project.toml`\n",
            " \u001b[90m [31c24e10] \u001b[39m\u001b[92m+ Distributions v0.23.12\u001b[39m\n",
            "\u001b[32m\u001b[1mUpdating\u001b[22m\u001b[39m `~/.julia/environments/v1.5/Manifest.toml`\n",
            " \u001b[90m [34da2185] \u001b[39m\u001b[92m+ Compat v3.17.0\u001b[39m\n",
            " \u001b[90m [e66e0078] \u001b[39m\u001b[92m+ CompilerSupportLibraries_jll v0.3.3+0\u001b[39m\n",
            " \u001b[90m [9a962f9c] \u001b[39m\u001b[92m+ DataAPI v1.3.0\u001b[39m\n",
            " \u001b[90m [864edb3b] \u001b[39m\u001b[92m+ DataStructures v0.18.6\u001b[39m\n",
            " \u001b[90m [31c24e10] \u001b[39m\u001b[92m+ Distributions v0.23.12\u001b[39m\n",
            " \u001b[90m [1a297f60] \u001b[39m\u001b[92m+ FillArrays v0.9.6\u001b[39m\n",
            " \u001b[90m [e1d29d7a] \u001b[39m\u001b[92m+ Missings v0.4.4\u001b[39m\n",
            " \u001b[90m [efe28fd5] \u001b[39m\u001b[92m+ OpenSpecFun_jll v0.5.3+3\u001b[39m\n",
            " \u001b[90m [bac558e1] \u001b[39m\u001b[92m+ OrderedCollections v1.3.1\u001b[39m\n",
            " \u001b[90m [90014a1f] \u001b[39m\u001b[92m+ PDMats v0.10.1\u001b[39m\n",
            " \u001b[90m [1fd47b50] \u001b[39m\u001b[92m+ QuadGK v2.4.1\u001b[39m\n",
            " \u001b[90m [79098fc4] \u001b[39m\u001b[92m+ Rmath v0.6.1\u001b[39m\n",
            " \u001b[90m [f50d1b31] \u001b[39m\u001b[92m+ Rmath_jll v0.2.2+1\u001b[39m\n",
            " \u001b[90m [a2af1166] \u001b[39m\u001b[92m+ SortingAlgorithms v0.3.1\u001b[39m\n",
            " \u001b[90m [276daf66] \u001b[39m\u001b[92m+ SpecialFunctions v0.10.3\u001b[39m\n",
            " \u001b[90m [90137ffa] \u001b[39m\u001b[92m+ StaticArrays v0.12.4\u001b[39m\n",
            " \u001b[90m [2913bbd2] \u001b[39m\u001b[92m+ StatsBase v0.33.1\u001b[39m\n",
            " \u001b[90m [4c63d2b9] \u001b[39m\u001b[92m+ StatsFuns v0.9.5\u001b[39m\n",
            " \u001b[90m [8bb1440f] \u001b[39m\u001b[92m+ DelimitedFiles\u001b[39m\n",
            " \u001b[90m [37e2e46d] \u001b[39m\u001b[92m+ LinearAlgebra\u001b[39m\n",
            " \u001b[90m [1a1011a3] \u001b[39m\u001b[92m+ SharedArrays\u001b[39m\n",
            " \u001b[90m [2f01184e] \u001b[39m\u001b[92m+ SparseArrays\u001b[39m\n",
            " \u001b[90m [10745b16] \u001b[39m\u001b[92m+ Statistics\u001b[39m\n",
            " \u001b[90m [4607b0f0] \u001b[39m\u001b[92m+ SuiteSparse\u001b[39m\n",
            "\u001b[32m\u001b[1m  Resolving\u001b[22m\u001b[39m package versions...\n",
            "\u001b[32m\u001b[1mUpdating\u001b[22m\u001b[39m `~/.julia/environments/v1.5/Project.toml`\n",
            " \u001b[90m [8bb1440f] \u001b[39m\u001b[92m+ DelimitedFiles\u001b[39m\n",
            "\u001b[32m\u001b[1mNo Changes\u001b[22m\u001b[39m to `~/.julia/environments/v1.5/Manifest.toml`\n",
            "\u001b[32m\u001b[1m  Resolving\u001b[22m\u001b[39m package versions...\n",
            "\u001b[32m\u001b[1mUpdating\u001b[22m\u001b[39m `~/.julia/environments/v1.5/Project.toml`\n",
            " \u001b[90m [37e2e46d] \u001b[39m\u001b[92m+ LinearAlgebra\u001b[39m\n",
            "\u001b[32m\u001b[1mNo Changes\u001b[22m\u001b[39m to `~/.julia/environments/v1.5/Manifest.toml`\n",
            "\u001b[32m\u001b[1m  Resolving\u001b[22m\u001b[39m package versions...\n",
            "\u001b[32m\u001b[1m  Installed\u001b[22m\u001b[39m Adapt ─────────────────────── v2.2.0\n",
            "\u001b[32m\u001b[1m  Installed\u001b[22m\u001b[39m IniFile ───────────────────── v0.5.0\n",
            "\u001b[32m\u001b[1m  Installed\u001b[22m\u001b[39m GeometryBasics ────────────── v0.3.1\n",
            "\u001b[32m\u001b[1m  Installed\u001b[22m\u001b[39m Grisu ─────────────────────── v1.0.0\n",
            "\u001b[32m\u001b[1m  Installed\u001b[22m\u001b[39m FreeType2_jll ─────────────── v2.10.1+4\n",
            "\u001b[32m\u001b[1m  Installed\u001b[22m\u001b[39m libfdk_aac_jll ────────────── v0.1.6+3\n",
            "\u001b[32m\u001b[1m  Installed\u001b[22m\u001b[39m IteratorInterfaceExtensions ─ v1.0.0\n",
            "\u001b[32m\u001b[1m  Installed\u001b[22m\u001b[39m Plots ─────────────────────── v1.6.6\n",
            "\u001b[32m\u001b[1m  Installed\u001b[22m\u001b[39m Requires ──────────────────── v1.0.3\n",
            "\u001b[32m\u001b[1m  Installed\u001b[22m\u001b[39m Contour ───────────────────── v0.5.5\n",
            "\u001b[32m\u001b[1m  Installed\u001b[22m\u001b[39m StructArrays ──────────────── v0.4.4\n",
            "\u001b[32m\u001b[1m  Installed\u001b[22m\u001b[39m EarCut_jll ────────────────── v2.1.5+0\n",
            "\u001b[32m\u001b[1m  Installed\u001b[22m\u001b[39m IterTools ─────────────────── v1.3.0\n",
            "\u001b[32m\u001b[1m  Installed\u001b[22m\u001b[39m libvorbis_jll ─────────────── v1.3.6+5\n",
            "\u001b[32m\u001b[1m  Installed\u001b[22m\u001b[39m PlotThemes ────────────────── v2.0.0\n",
            "\u001b[32m\u001b[1m  Installed\u001b[22m\u001b[39m LAME_jll ──────────────────── v3.100.0+2\n",
            "\u001b[32m\u001b[1m  Installed\u001b[22m\u001b[39m FFMPEG ────────────────────── v0.4.0\n",
            "\u001b[32m\u001b[1m  Installed\u001b[22m\u001b[39m FriBidi_jll ───────────────── v1.0.5+5\n",
            "\u001b[32m\u001b[1m  Installed\u001b[22m\u001b[39m NaNMath ───────────────────── v0.3.4\n",
            "\u001b[32m\u001b[1m  Installed\u001b[22m\u001b[39m Ogg_jll ───────────────────── v1.3.4+1\n",
            "\u001b[32m\u001b[1m  Installed\u001b[22m\u001b[39m libass_jll ────────────────── v0.14.0+3\n",
            "\u001b[32m\u001b[1m  Installed\u001b[22m\u001b[39m Colors ────────────────────── v0.12.4\n",
            "\u001b[32m\u001b[1m  Installed\u001b[22m\u001b[39m FixedPointNumbers ─────────── v0.8.4\n",
            "\u001b[32m\u001b[1m  Installed\u001b[22m\u001b[39m Opus_jll ──────────────────── v1.3.1+2\n",
            "\u001b[32m\u001b[1m  Installed\u001b[22m\u001b[39m x264_jll ──────────────────── v2020.7.14+1\n",
            "\u001b[32m\u001b[1m  Installed\u001b[22m\u001b[39m Measures ──────────────────── v0.3.1\n",
            "\u001b[32m\u001b[1m  Installed\u001b[22m\u001b[39m Reexport ──────────────────── v0.2.0\n",
            "\u001b[32m\u001b[1m  Installed\u001b[22m\u001b[39m TableTraits ───────────────── v1.0.0\n",
            "\u001b[32m\u001b[1m  Installed\u001b[22m\u001b[39m OpenSSL_jll ───────────────── v1.1.1+5\n",
            "\u001b[32m\u001b[1m  Installed\u001b[22m\u001b[39m FFMPEG_jll ────────────────── v4.3.1+2\n",
            "\u001b[32m\u001b[1m  Installed\u001b[22m\u001b[39m GR ────────────────────────── v0.52.0\n",
            "\u001b[32m\u001b[1m  Installed\u001b[22m\u001b[39m x265_jll ──────────────────── v3.0.0+2\n",
            "\u001b[32m\u001b[1m  Installed\u001b[22m\u001b[39m RecipesPipeline ───────────── v0.1.13\n",
            "\u001b[32m\u001b[1m  Installed\u001b[22m\u001b[39m RecipesBase ───────────────── v1.1.0\n",
            "\u001b[32m\u001b[1m  Installed\u001b[22m\u001b[39m ColorSchemes ──────────────── v3.10.0\n",
            "\u001b[32m\u001b[1m  Installed\u001b[22m\u001b[39m PlotUtils ─────────────────── v1.0.7\n",
            "\u001b[32m\u001b[1m  Installed\u001b[22m\u001b[39m DataValueInterfaces ───────── v1.0.0\n",
            "\u001b[32m\u001b[1m  Installed\u001b[22m\u001b[39m Bzip2_jll ─────────────────── v1.0.6+4\n",
            "\u001b[32m\u001b[1m  Installed\u001b[22m\u001b[39m ColorTypes ────────────────── v0.10.9\n",
            "\u001b[32m\u001b[1m  Installed\u001b[22m\u001b[39m Tables ────────────────────── v1.0.5\n",
            "\u001b[32m\u001b[1m  Installed\u001b[22m\u001b[39m Showoff ───────────────────── v0.3.2\n",
            "\u001b[32m\u001b[1m  Installed\u001b[22m\u001b[39m Zlib_jll ──────────────────── v1.2.11+16\n",
            "\u001b[32m\u001b[1m  Installed\u001b[22m\u001b[39m HTTP ──────────────────────── v0.8.19\n",
            "\u001b[32m\u001b[1m  Installed\u001b[22m\u001b[39m GeometryTypes ─────────────── v0.8.3\n",
            "\u001b[32m\u001b[1m  Installed\u001b[22m\u001b[39m LibVPX_jll ────────────────── v1.9.0+0\n",
            "#=#=#                                                                          \n",
            "curl: (22) The requested URL returned error: 502 Bad Gateway\n",
            "######################################################################### 100.0%\n",
            "\n",
            "curl: (22) The requested URL returned error: 502 Bad Gateway\n",
            "######################################################################### 100.0%\n",
            "\n",
            "curl: (22) The requested URL returned error: 502 Bad Gateway\n",
            "######################################################################### 100.0%\n",
            "#=#=#                                                                          \n",
            "curl: (22) The requested URL returned error: 502 Bad Gateway\n",
            "######################################################################### 100.0%\n",
            "#=#=#                                                                          \n",
            "curl: (22) The requested URL returned error: 502 Bad Gateway\n",
            "######################################################################### 100.0%\n",
            "#=#=#                                                                          \n",
            "curl: (22) The requested URL returned error: 502 Bad Gateway\n",
            "######################################################################### 100.0%\n",
            "#=#=#                                                                          \n",
            "curl: (22) The requested URL returned error: 502 Bad Gateway\n",
            "######################################################################### 100.0%\n",
            "\n",
            "curl: (22) The requested URL returned error: 502 Bad Gateway\n",
            "######################################################################### 100.0%\n",
            "\n",
            "curl: (22) The requested URL returned error: 502 Bad Gateway\n",
            "######################################################################### 100.0%\n",
            "#=#=#                                                                          \n",
            "curl: (22) The requested URL returned error: 502 Bad Gateway\n",
            "######################################################################### 100.0%\n",
            "#=#=#                                                                          \n",
            "curl: (22) The requested URL returned error: 502 Bad Gateway\n",
            "######################################################################### 100.0%\n",
            "#=#=#                                                                          \n",
            "curl: (22) The requested URL returned error: 502 Bad Gateway\n",
            "######################################################################### 100.0%\n",
            "#=#=#                                                                          \n",
            "curl: (22) The requested URL returned error: 502 Bad Gateway\n",
            "######################################################################### 100.0%\n",
            "\n",
            "curl: (22) The requested URL returned error: 502 Bad Gateway\n",
            "######################################################################### 100.0%\n",
            "\n",
            "curl: (22) The requested URL returned error: 502 Bad Gateway\n",
            "######################################################################### 100.0%\n",
            "\n",
            "curl: (22) The requested URL returned error: 502 Bad Gateway\n",
            "######################################################################### 100.0%\n",
            "\u001b[32m\u001b[1mUpdating\u001b[22m\u001b[39m `~/.julia/environments/v1.5/Project.toml`\n",
            " \u001b[90m [91a5bcdd] \u001b[39m\u001b[92m+ Plots v1.6.6\u001b[39m\n",
            "\u001b[32m\u001b[1mUpdating\u001b[22m\u001b[39m `~/.julia/environments/v1.5/Manifest.toml`\n",
            " \u001b[90m [79e6a3ab] \u001b[39m\u001b[92m+ Adapt v2.2.0\u001b[39m\n",
            " \u001b[90m [6e34b625] \u001b[39m\u001b[92m+ Bzip2_jll v1.0.6+4\u001b[39m\n",
            " \u001b[90m [35d6a980] \u001b[39m\u001b[92m+ ColorSchemes v3.10.0\u001b[39m\n",
            " \u001b[90m [3da002f7] \u001b[39m\u001b[92m+ ColorTypes v0.10.9\u001b[39m\n",
            " \u001b[90m [5ae59095] \u001b[39m\u001b[92m+ Colors v0.12.4\u001b[39m\n",
            " \u001b[90m [d38c429a] \u001b[39m\u001b[92m+ Contour v0.5.5\u001b[39m\n",
            " \u001b[90m [e2d170a0] \u001b[39m\u001b[92m+ DataValueInterfaces v1.0.0\u001b[39m\n",
            " \u001b[90m [5ae413db] \u001b[39m\u001b[92m+ EarCut_jll v2.1.5+0\u001b[39m\n",
            " \u001b[90m [c87230d0] \u001b[39m\u001b[92m+ FFMPEG v0.4.0\u001b[39m\n",
            " \u001b[90m [b22a6f82] \u001b[39m\u001b[92m+ FFMPEG_jll v4.3.1+2\u001b[39m\n",
            " \u001b[90m [53c48c17] \u001b[39m\u001b[92m+ FixedPointNumbers v0.8.4\u001b[39m\n",
            " \u001b[90m [d7e528f0] \u001b[39m\u001b[92m+ FreeType2_jll v2.10.1+4\u001b[39m\n",
            " \u001b[90m [559328eb] \u001b[39m\u001b[92m+ FriBidi_jll v1.0.5+5\u001b[39m\n",
            " \u001b[90m [28b8d3ca] \u001b[39m\u001b[92m+ GR v0.52.0\u001b[39m\n",
            " \u001b[90m [5c1252a2] \u001b[39m\u001b[92m+ GeometryBasics v0.3.1\u001b[39m\n",
            " \u001b[90m [4d00f742] \u001b[39m\u001b[92m+ GeometryTypes v0.8.3\u001b[39m\n",
            " \u001b[90m [42e2da0e] \u001b[39m\u001b[92m+ Grisu v1.0.0\u001b[39m\n",
            " \u001b[90m [cd3eb016] \u001b[39m\u001b[92m+ HTTP v0.8.19\u001b[39m\n",
            " \u001b[90m [83e8ac13] \u001b[39m\u001b[92m+ IniFile v0.5.0\u001b[39m\n",
            " \u001b[90m [c8e1da08] \u001b[39m\u001b[92m+ IterTools v1.3.0\u001b[39m\n",
            " \u001b[90m [82899510] \u001b[39m\u001b[92m+ IteratorInterfaceExtensions v1.0.0\u001b[39m\n",
            " \u001b[90m [c1c5ebd0] \u001b[39m\u001b[92m+ LAME_jll v3.100.0+2\u001b[39m\n",
            " \u001b[90m [dd192d2f] \u001b[39m\u001b[92m+ LibVPX_jll v1.9.0+0\u001b[39m\n",
            " \u001b[90m [442fdcdd] \u001b[39m\u001b[92m+ Measures v0.3.1\u001b[39m\n",
            " \u001b[90m [77ba4419] \u001b[39m\u001b[92m+ NaNMath v0.3.4\u001b[39m\n",
            " \u001b[90m [e7412a2a] \u001b[39m\u001b[92m+ Ogg_jll v1.3.4+1\u001b[39m\n",
            " \u001b[90m [458c3c95] \u001b[39m\u001b[92m+ OpenSSL_jll v1.1.1+5\u001b[39m\n",
            " \u001b[90m [91d4177d] \u001b[39m\u001b[92m+ Opus_jll v1.3.1+2\u001b[39m\n",
            " \u001b[90m [ccf2f8ad] \u001b[39m\u001b[92m+ PlotThemes v2.0.0\u001b[39m\n",
            " \u001b[90m [995b91a9] \u001b[39m\u001b[92m+ PlotUtils v1.0.7\u001b[39m\n",
            " \u001b[90m [91a5bcdd] \u001b[39m\u001b[92m+ Plots v1.6.6\u001b[39m\n",
            " \u001b[90m [3cdcf5f2] \u001b[39m\u001b[92m+ RecipesBase v1.1.0\u001b[39m\n",
            " \u001b[90m [01d81517] \u001b[39m\u001b[92m+ RecipesPipeline v0.1.13\u001b[39m\n",
            " \u001b[90m [189a3867] \u001b[39m\u001b[92m+ Reexport v0.2.0\u001b[39m\n",
            " \u001b[90m [ae029012] \u001b[39m\u001b[92m+ Requires v1.0.3\u001b[39m\n",
            " \u001b[90m [992d4aef] \u001b[39m\u001b[92m+ Showoff v0.3.2\u001b[39m\n",
            " \u001b[90m [09ab397b] \u001b[39m\u001b[92m+ StructArrays v0.4.4\u001b[39m\n",
            " \u001b[90m [3783bdb8] \u001b[39m\u001b[92m+ TableTraits v1.0.0\u001b[39m\n",
            " \u001b[90m [bd369af6] \u001b[39m\u001b[92m+ Tables v1.0.5\u001b[39m\n",
            " \u001b[90m [83775a58] \u001b[39m\u001b[92m+ Zlib_jll v1.2.11+16\u001b[39m\n",
            " \u001b[90m [0ac62f75] \u001b[39m\u001b[92m+ libass_jll v0.14.0+3\u001b[39m\n",
            " \u001b[90m [f638f0a6] \u001b[39m\u001b[92m+ libfdk_aac_jll v0.1.6+3\u001b[39m\n",
            " \u001b[90m [f27f6e37] \u001b[39m\u001b[92m+ libvorbis_jll v1.3.6+5\u001b[39m\n",
            " \u001b[90m [1270edf5] \u001b[39m\u001b[92m+ x264_jll v2020.7.14+1\u001b[39m\n",
            " \u001b[90m [dfaa095f] \u001b[39m\u001b[92m+ x265_jll v3.0.0+2\u001b[39m\n",
            "\u001b[32m\u001b[1m   Building\u001b[22m\u001b[39m GR ───→ `~/.julia/packages/GR/BwGt2/deps/build.log`\n",
            "\u001b[32m\u001b[1m   Building\u001b[22m\u001b[39m Plots → `~/.julia/packages/Plots/fewot/deps/build.log`\n",
            "\u001b[32m\u001b[1m  Resolving\u001b[22m\u001b[39m package versions...\n",
            "\u001b[32m\u001b[1m  Installed\u001b[22m\u001b[39m MacroTools ─── v0.5.5\n",
            "\u001b[32m\u001b[1m  Installed\u001b[22m\u001b[39m PyCall ─────── v1.91.4\n",
            "\u001b[32m\u001b[1m  Installed\u001b[22m\u001b[39m LaTeXStrings ─ v1.2.0\n",
            "\u001b[32m\u001b[1m  Installed\u001b[22m\u001b[39m PyPlot ─────── v2.9.0\n",
            "\u001b[32m\u001b[1mUpdating\u001b[22m\u001b[39m `~/.julia/environments/v1.5/Project.toml`\n",
            " \u001b[90m [d330b81b] \u001b[39m\u001b[92m+ PyPlot v2.9.0\u001b[39m\n",
            "\u001b[32m\u001b[1mUpdating\u001b[22m\u001b[39m `~/.julia/environments/v1.5/Manifest.toml`\n",
            " \u001b[90m [b964fa9f] \u001b[39m\u001b[92m+ LaTeXStrings v1.2.0\u001b[39m\n",
            " \u001b[90m [1914dd2f] \u001b[39m\u001b[92m+ MacroTools v0.5.5\u001b[39m\n",
            " \u001b[90m [438e738f] \u001b[39m\u001b[92m+ PyCall v1.91.4\u001b[39m\n",
            " \u001b[90m [d330b81b] \u001b[39m\u001b[92m+ PyPlot v2.9.0\u001b[39m\n",
            "\u001b[32m\u001b[1m   Building\u001b[22m\u001b[39m PyCall → `~/.julia/packages/PyCall/zqDXB/deps/build.log`\n",
            "\u001b[32m\u001b[1m  Resolving\u001b[22m\u001b[39m package versions...\n",
            "\u001b[32m\u001b[1mUpdating\u001b[22m\u001b[39m `~/.julia/environments/v1.5/Project.toml`\n",
            " \u001b[90m [35d6a980] \u001b[39m\u001b[92m+ ColorSchemes v3.10.0\u001b[39m\n",
            "\u001b[32m\u001b[1mNo Changes\u001b[22m\u001b[39m to `~/.julia/environments/v1.5/Manifest.toml`\n",
            "\u001b[32m\u001b[1m  Resolving\u001b[22m\u001b[39m package versions...\n",
            "\u001b[32m\u001b[1mUpdating\u001b[22m\u001b[39m `~/.julia/environments/v1.5/Project.toml`\n",
            " \u001b[90m [1a1011a3] \u001b[39m\u001b[92m+ SharedArrays\u001b[39m\n",
            "\u001b[32m\u001b[1mNo Changes\u001b[22m\u001b[39m to `~/.julia/environments/v1.5/Manifest.toml`\n"
          ],
          "name": "stderr"
        },
        {
          "output_type": "execute_result",
          "data": {
            "text/plain": [
              "precompile (generic function with 2 methods)"
            ]
          },
          "metadata": {
            "tags": []
          },
          "execution_count": 1
        }
      ]
    },
    {
      "cell_type": "code",
      "metadata": {
        "id": "ag4PCq1W2hDf",
        "colab": {
          "base_uri": "https://localhost:8080/",
          "height": 33
        },
        "outputId": "dc5daff0-d36b-4da5-b9b7-1c3af2e312e3"
      },
      "source": [
        "using Pkg; using Distributed; using Distributions; using DelimitedFiles; using Plots; using PyPlot; using ColorSchemes; using Base.Threads;using Random; using LinearAlgebra; using SharedArrays; gr()"
      ],
      "execution_count": null,
      "outputs": [
        {
          "output_type": "execute_result",
          "data": {
            "text/plain": [
              "Plots.GRBackend()"
            ]
          },
          "metadata": {
            "tags": []
          },
          "execution_count": 2
        }
      ]
    },
    {
      "cell_type": "code",
      "metadata": {
        "id": "3Yx8ayly98Zm",
        "colab": {
          "base_uri": "https://localhost:8080/",
          "height": 33
        },
        "outputId": "8592bbd9-28ee-4e59-ebbf-8f6d2d002faa"
      },
      "source": [
        "nthreads()"
      ],
      "execution_count": null,
      "outputs": [
        {
          "output_type": "execute_result",
          "data": {
            "text/plain": [
              "2"
            ]
          },
          "metadata": {
            "tags": []
          },
          "execution_count": 3
        }
      ]
    },
    {
      "cell_type": "markdown",
      "metadata": {
        "id": "zhVyC0Vu73EJ"
      },
      "source": [
        "If you want to use Python code anyway, use Julia package \"Pycall\""
      ]
    },
    {
      "cell_type": "code",
      "metadata": {
        "id": "yqXtL1cK3rrA",
        "colab": {
          "base_uri": "https://localhost:8080/",
          "height": 34
        },
        "outputId": "1441e3a8-f733-48ab-91af-aa4bf5950561"
      },
      "source": [
        "ENV[\"PYTHON\"] = \"/usr/bin/python3\""
      ],
      "execution_count": null,
      "outputs": [
        {
          "output_type": "execute_result",
          "data": {
            "text/plain": [
              "\"/usr/bin/python3\""
            ]
          },
          "metadata": {
            "tags": []
          },
          "execution_count": 5
        }
      ]
    },
    {
      "cell_type": "code",
      "metadata": {
        "id": "GLFFaANH32Mu",
        "colab": {
          "base_uri": "https://localhost:8080/",
          "height": 170
        },
        "outputId": "a6453e16-ccac-4c4c-b9fa-c1019bee6cbf"
      },
      "source": [
        "pkg\"dev PyCall\""
      ],
      "execution_count": null,
      "outputs": [
        {
          "output_type": "stream",
          "text": [
            "\u001b[?25l    "
          ],
          "name": "stdout"
        },
        {
          "output_type": "stream",
          "text": [
            "\u001b[32m\u001b[1m    Cloning\u001b[22m\u001b[39m git-repo `https://github.com/JuliaPy/PyCall.jl.git`\n"
          ],
          "name": "stderr"
        },
        {
          "output_type": "stream",
          "text": [
            "\u001b[2K\u001b[?25h"
          ],
          "name": "stdout"
        },
        {
          "output_type": "stream",
          "text": [
            "\u001b[32m\u001b[1m  Resolving\u001b[22m\u001b[39m package versions...\n",
            "\u001b[32m\u001b[1m  Installed\u001b[22m\u001b[39m MacroTools ─ v0.5.5\n",
            "\u001b[32m\u001b[1mUpdating\u001b[22m\u001b[39m `~/.julia/environments/v1.5/Project.toml`\n",
            " \u001b[90m [438e738f] \u001b[39m\u001b[92m+ PyCall v1.91.4 `~/.julia/dev/PyCall`\u001b[39m\n",
            "\u001b[32m\u001b[1mUpdating\u001b[22m\u001b[39m `~/.julia/environments/v1.5/Manifest.toml`\n",
            " \u001b[90m [1914dd2f] \u001b[39m\u001b[92m+ MacroTools v0.5.5\u001b[39m\n",
            " \u001b[90m [438e738f] \u001b[39m\u001b[92m+ PyCall v1.91.4 `~/.julia/dev/PyCall`\u001b[39m\n",
            "\u001b[32m\u001b[1m   Building\u001b[22m\u001b[39m PyCall → `~/.julia/dev/PyCall/deps/build.log`\n"
          ],
          "name": "stderr"
        }
      ]
    },
    {
      "cell_type": "code",
      "metadata": {
        "id": "juXaiBJP338B",
        "colab": {
          "base_uri": "https://localhost:8080/",
          "height": 51
        },
        "outputId": "cb02fae1-a720-4ea4-9f9a-14f40666aa82"
      },
      "source": [
        "using PyCall"
      ],
      "execution_count": null,
      "outputs": [
        {
          "output_type": "stream",
          "text": [
            "┌ Info: Precompiling PyCall [438e738f-606a-5dbb-bf0a-cddfbfd45ab0]\n",
            "└ @ Base loading.jl:1278\n"
          ],
          "name": "stderr"
        }
      ]
    },
    {
      "cell_type": "code",
      "metadata": {
        "id": "GIQAcjHoULwo",
        "colab": {
          "base_uri": "https://localhost:8080/",
          "height": 34
        },
        "outputId": "d81e3b27-8111-45b8-bac8-6c7e8d149099"
      },
      "source": [
        "file = pyimport(\"google.colab.files\")"
      ],
      "execution_count": null,
      "outputs": [
        {
          "output_type": "execute_result",
          "data": {
            "text/plain": [
              "PyObject <module 'google.colab.files' from '/usr/local/lib/python3.6/dist-packages/google/colab/files.py'>"
            ]
          },
          "metadata": {
            "tags": []
          },
          "execution_count": 8
        }
      ]
    },
    {
      "cell_type": "markdown",
      "metadata": {
        "id": "PPdwwYki8D4x"
      },
      "source": [
        "Here comes the code"
      ]
    },
    {
      "cell_type": "code",
      "metadata": {
        "id": "yzdmgzQB1EUr"
      },
      "source": [
        "#Define space :\n",
        "\n",
        "# Description of an experiment in a cavity\n",
        "# The experiment here is in free space, uncomment to place yourself in the conditions of this experiment\n",
        "\n",
        "@everywhere const Lx = 5*10^(-3); #length of the cavity along x-axis - in m\n",
        "@everywhere const Ly = 5*10^(-3); #length of the cavity along y-axis - in m\n",
        "@everywhere const Lz = 10*10^(-3); #lenth of the cavity along z-axis - in m\n",
        "#The origin is placed at the center of the cavity\n",
        "@everywhere const Bx = Lx/2; #extreme point along x axis\n",
        "@everywhere const By = Ly/2; #extreme point along y axis\n",
        "@everywhere const Bz = Lz/2; #extreme point along z axis\n",
        "\n",
        "#General Physical constants:\n",
        "\n",
        "@everywhere const mu0 = 4*pi*10^(-7) #T.m/A\n",
        "@everywhere const k_B = 1.3806504*10^(-23) #J/K\n",
        "@everywhere const e = 1.602176487*10^(-19) #C\n",
        "@everywhere const a0 = 0.52917720859*10^(-10)#m #Bohr Radius\n",
        "@everywhere const c = 299792458 #m/s\n",
        "@everywhere const h = 6.62607004*10^(-34) #m².kg/s\n",
        "@everywhere const muB = 9.274009994*10^(-24) #J.T-1\n",
        "@everywhere const R = 8.3145 #J.K-1.mol-1#Gas constant\n",
        "@everywhere const Na = 6.02*10^23 #mol-1 #Avogadro's number\n",
        "\n",
        "#Initial Properties of Cesium gaz:\n",
        "\n",
        "@everywhere const m = 2.2*10^(-25) #kg\n",
        "@everywhere const P = 10^(-7); #Pa #Pressure \n",
        "@everywhere V = Lx*Ly*Lz; #m^3 #Volume\n",
        "@everywhere const T = 293; #°K #Temperature\n",
        "@everywhere n = P*V/(R*T); #mol #Quantity of Cesium atoms\n",
        "@everywhere N = round(Int, n*Na) #Number of Cesium atoms\n",
        "\n",
        "#Model Cesium atoms as 4-level atoms:\n",
        "#Transition Cs |6S(1/2) L = 0, mL = 0> -> Cs |6P(3/2) L=1, mL = -1,0,1>\n",
        "\n",
        "@everywhere const wa = 2*pi*351.72571850*10^(12) #rad.s-1 #transition frequency\n",
        "@everywhere const γ = 2*pi*5.18*10^6 #Hz #decay rate\n",
        "const tau = 30.405*10^(-9) #s #lifetime\n",
        "const vr = 3.5225 * 10^(-3) #m.s-1 #recoil velocity\n",
        "const wr = 2*pi*2.0663*10^3 #Hz #recoil \"energy\"\n",
        "const Tr = 198.34 * 10^(-9) #K #recoil Temperature\n",
        "const Td = 125.61*10^(-6) #K #doppler Temperature\n",
        "const d = 2.5886*e*a0\n",
        "@everywhere const Is = 11.049 #W/m^2 #Staturation Intensity for a σ+- light for a Cs |6S(1/2) F = 4, mF = +-4> -> Cs |6P(3/2) F = 5, mF = +-5>\n",
        "@everywhere const gL = 0.99999587 #Electron-orbital g-factor\n",
        "\n",
        "#Magnetic field\n",
        "\n",
        "@everywhere function B(x::Float64, y::Float64, z::Float64)\n",
        "    A0 = 1 #T/m\n",
        "    return A0*[x; y; -2*z]\n",
        "end\n",
        "\n",
        "#Beam properties:\n",
        "\n",
        "@everywhere const Dl = 11*10^(-2) #m #diameter of the beam at the origin\n",
        "@everywhere const δ = -0.5*γ #s-1 #detuning frequency\n",
        "@everywhere const wl = wa + δ #rad.s-1 #laser frequency\n",
        "@everywhere const λ = 2*pi*c/wl #m #laser wavelength\n",
        "@everywhere const k = wl/c #rad.m-1 #laser wave number\n",
        "@everywhere const I0 = 0.1*Is #intensity at the center of each beam\n",
        "@everywhere const E0 = 2*I0*c*mu0\n",
        "@everywhere const w0 = Dl/2 #cm \n",
        "@everywhere const zR = pi*w0^2/λ\n",
        "\n",
        "#spherical coordinates\n",
        "@everywhere e1 = [1; 0; 0]\n",
        "@everywhere e0 = [0; 1; 0]\n",
        "@everywhere e_1 = [0; 0; 1]\n",
        "\n",
        "function Ex(x::Float64,y::Float64,z::Float64)\n",
        "#Total electric field in the MOT along x\n",
        "#Irrelevant\n",
        "\n",
        "    comp_a = -e^(-(x^2+z^2)/w0^2/(1+sqrt(1+(y/zR)^2)))/sqrt(1+(y/zR)^2)*sin(k*y+k*(x^2+z^2)/y/(1+(zR/y)^2)-atan(y/zR))\n",
        "    comp_b = e^(-(y^2+x^2)/w0^2/(1+sqrt(1+(z/zR)^2)))/sqrt(1+(z/zR)^2)*cos(k*z+k*(y^2+x^2)/z/(1+(zR/z)^2)-atan(z/zR))\n",
        "    return sqrt(2)*E0/(comp_a + comp_b)\n",
        "  end\n",
        "\n",
        "function Ey(x::Float64,y::Float64,z::Float64)\n",
        "#Total electric field in the MOT along y\n",
        "#Irrelevant\n",
        "\n",
        "    comp_a = e^(-(z^2+y^2)/w0^2/(1+sqrt(1+(x/zR)^2)))/sqrt(1+(x/zR)^2)*cos(k*x+k*(z^2+y^2)/x/(1+(zR/x)^2)-atan(x/zR))\n",
        "    comp_b = e^(-(y^2+x^2)/w0^2/(1+sqrt(1+(z/zR)^2)))/sqrt(1+(z/zR)^2)*sin(k*z+k*(y^2+x^2)/z/(1+(zR/z)^2)-atan(z/zR))\n",
        "    return sqrt(2)*E0/(comp_a + comp_b)\n",
        "  end\n",
        "\n",
        "function Ez(x::Float64,y::Float64,z::Float64)\n",
        "#Total electric field in the MOT along x\n",
        "#Irrelevant\n",
        "\n",
        "    comp_a = -e^(-(z^2+y^2)/w0^2/(1+sqrt(1+(x/zR)^2)))/sqrt(1+(x/zR)^2)*sin(k*x+k*(z^2+y^2)/x/(1+(zR/x)^2)-atan(x/zR))\n",
        "    comp_b = e^(-(x^2+z^2)/w0^2/(1+sqrt(1+(y/zR)^2)))/sqrt(1+(y/zR)^2)*cos(k*y+k*(x^2+z^2)/y/(1+(zR/y)^2)-atan(y/zR))\n",
        "    return sqrt(2)*E0/(comp_a + comp_b)\n",
        "  end\n",
        "\n",
        "@everywhere function EA1(x::Float64,y::Float64,z::Float64)\n",
        "  #Beam A1 : sigma - polarized transverse gaussian light propagating in the direction -ex\n",
        "    return -1/sqrt(1+(x/zR)^2)*exp(-1*(z^2+y^2)/w0^2/(1+(x/zR)^2))*e^(1im*(k*x+k*(z^2+y^2)*x/2/zR^2/(1+(x/zR)^2)-atan(x/zR)))*(e0+1im*e_1)/sqrt(2)\n",
        "end\n",
        "\n",
        "@everywhere function EA2(x::Float64,y::Float64,z::Float64)\n",
        "  #Beam A2 : sigma - polarized transverse gaussian light propagating in the direction +ex  \n",
        "    return 1/sqrt(1+(x/zR)^2)*exp(-1*(z^2+y^2)/w0^2/(1+(x/zR)^2))*e^(-1im*(k*x+k*(z^2+y^2)*x/2/zR^2/(1+(x/zR)^2)-atan(x/zR)))*(e0-1im*e_1)/sqrt(2)\n",
        "end\n",
        "\n",
        "@everywhere function EB1(x::Float64,y::Float64,z::Float64)\n",
        "  #Beam B1 : sigma - polarized transverse gaussian light propagating in the direction -ey  \n",
        "    return -1/sqrt(1+(y/zR)^2)*exp(-1*(x^2+z^2)/w0^2/(1+(y/zR)^2))*e^(1im*(k*y+k*(x^2+z^2)*y/2/zR^2/(1+(y/zR)^2)-atan(y/zR)))*(e_1+1im*e1)/sqrt(2)\n",
        "end\n",
        "\n",
        "@everywhere function EB2(x::Float64,y::Float64,z::Float64)\n",
        "  #Beam B2 : sigma - polarized transverse gaussian light propagating in the direction +ey \n",
        "    return 1/sqrt(1+(y/zR)^2)*exp(-1*(x^2+z^2)/w0^2/(1+(y/zR)^2))*e^(-1im*(k*y+k*(x^2+z^2)*y/2/zR^2/(1+(y/zR)^2)-atan(y/zR)))*(e_1-1im*e1)/sqrt(2)\n",
        "end\n",
        "\n",
        "@everywhere function EC1(x::Float64,y::Float64,z::Float64)\n",
        "  #Beam C1 : sigma + polarized transverse gaussian light propagating in the direction -ez  \n",
        "    return -1/sqrt(1+(z/zR)^2)*exp(-1*(y^2+x^2)/w0^2/(1+(z/zR)^2))*e^(1im*(k*z+k*(y^2+x^2)*z/2/zR^2/(1+(z/zR)^2)-atan(z/zR)))*(e1-1im*e0)/sqrt(2)\n",
        "end\n",
        "\n",
        "@everywhere function EC2(x::Float64,y::Float64,z::Float64)\n",
        "  #Beam C2 : sigma + polarized transverse gaussian light propagating in the direction +ez  \n",
        "    return 1/sqrt(1+(z/zR)^2)*exp(-1*(y^2+x^2)/w0^2/(1+(z/zR)^2))*e^(-1im*(k*z+k*(y^2+x^2)*z/2/zR^2/(1+(z/zR)^2)-atan(z/zR)))*(e1+1im*e0)/sqrt(2)\n",
        "end\n",
        "\n",
        "@everywhere function E_A1(x::Float64,y::Float64,z::Float64) #Intensity beam A1\n",
        "   #Beam A1 : sigma - polarized transverse gaussian light propagating in the direction -ex\n",
        "   #maximum intensity reached at the origin  \n",
        "   kA1 = [-1; 0; 0] \n",
        "   U = [-1/sqrt(2) 0 1/sqrt(2); -1im/sqrt(2) 0 1im/sqrt(2); 0 1 0]\n",
        "   B_vector = B(x,y,z)\n",
        "   B_value = norm(B_vector)\n",
        "   \n",
        "   if B_value == 0\n",
        "      return EA1(x,y,z)\n",
        "   else\n",
        "      B_vector = B_vector/B_value\n",
        "      v = cross(kA1, B_vector)\n",
        "      c = dot(B_vector,kA1)\n",
        "      \n",
        "      if c == -1\n",
        "        return U*[-1 0 0; 0 -1 0; 0 0 1]*adjoint(U)*EA1(x,y,z)\n",
        "      \n",
        "      else\n",
        "        v_cross_product_matrix = [0 -v[3] v[2] ; v[3] 0 -v[1]; -v[2] v[1] 0]\n",
        "        R = UniformScaling(1.) + v_cross_product_matrix + v_cross_product_matrix^2/(1+c)    \n",
        "        return U*R*EA1(x,y,z)\n",
        "      end\n",
        "    end\n",
        "end\n",
        "\n",
        "@everywhere function E_A2(x::Float64, y::Float64,z::Float64) #Intensity beam A2\n",
        "  #Beam A2 : sigma + polarized transverse gaussian light propagating in the direction +ex  \n",
        "  #maximum intensity reached at the origin\n",
        "   kA2 = [1; 0; 0] \n",
        "   U = [-1/sqrt(2) 0 1/sqrt(2); -1im/sqrt(2) 0 1im/sqrt(2); 0 1 0]\n",
        "   B_vector = B(x,y,z)\n",
        "   B_value = norm(B_vector)\n",
        "   \n",
        "   if B_value == 0\n",
        "      return EA2(x,y,z)\n",
        "   else\n",
        "      B_vector = B_vector/B_value\n",
        "      v = cross(kA2, B_vector)\n",
        "      c = dot(B_vector,kA2)\n",
        "      if c == -1\n",
        "        return U*[-1 0 0; 0 -1 0; 0 0 1]*adjoint(U)*EA2(x,y,z) \n",
        "      else\n",
        "        v_cross_product_matrix = [0 -v[3] v[2] ; v[3] 0 -v[1]; -v[2] v[1] 0]\n",
        "        R = UniformScaling(1.) + v_cross_product_matrix + v_cross_product_matrix^2/(1+c)   \n",
        "        return U*R*EA2(x,y,z) \n",
        "      end\n",
        "    end\n",
        "end\n",
        "\n",
        "@everywhere function E_B1(x::Float64,y::Float64,z::Float64) #Intensity beam B1\n",
        "  #Beam B1 : sigma - polarized transverse gaussian light propagating in the direction -ey  \n",
        "  #maximum intensity reached at the origin\n",
        "   kB1 = [0; -1; 0] \n",
        "   U = [-1/sqrt(2) 0 1/sqrt(2); -1im/sqrt(2) 0 1im/sqrt(2); 0 1 0]\n",
        "   B_vector = B(x,y,z)\n",
        "   B_value = norm(B_vector)\n",
        "   \n",
        "   if B_value == 0\n",
        "   \n",
        "      return EB1(x,y,z)\n",
        "   \n",
        "   else\n",
        "      \n",
        "      B_vector = B_vector/B_value\n",
        "      v = cross(kB1, B_vector)\n",
        "      c = dot(B_vector,kB1)\n",
        "      \n",
        "      if c == -1\n",
        "        return U*[-1 0 0; 0 -1 0; 0 0 1]*adjoint(U)*EB1(x,y,z) \n",
        "   \n",
        "      else\n",
        "        v_cross_product_matrix = [0 -v[3] v[2] ; v[3] 0 -v[1]; -v[2] v[1] 0]\n",
        "        R = UniformScaling(1.) + v_cross_product_matrix + v_cross_product_matrix^2/(1+c)    \n",
        "        return U*R*EB1(x,y,z)\n",
        "      end\n",
        "   end\n",
        "end\n",
        "\n",
        "@everywhere function E_B2(x::Float64,y::Float64,z::Float64) #Intensity beam B2\n",
        "  #Beam B2 : sigma + polarized transverse gaussian light propagating in the direction +ey \n",
        "  #maximum intensity reached at the origin\n",
        "   kB2 = [0; 1; 0] \n",
        "   U = [-1/sqrt(2) 0 1/sqrt(2); -1im/sqrt(2) 0 1im/sqrt(2); 0 1 0]\n",
        "   B_vector = B(x,y,z)\n",
        "   B_value = norm(B_vector)\n",
        "   \n",
        "   if B_value == 0\n",
        "   \n",
        "      return EB2(x,y,z)\n",
        "   \n",
        "   else\n",
        "      \n",
        "      B_vector = B_vector/B_value\n",
        "      v = cross(kB2, B_vector)\n",
        "      c = dot(B_vector,kB2)\n",
        "      \n",
        "      if c == -1\n",
        "        return U*[-1 0 0; 0 -1 0; 0 0 1]*adjoint(U)*EB2(x,y,z) \n",
        "      else   \n",
        "        v_cross_product_matrix = [0 -v[3] v[2] ; v[3] 0 -v[1]; -v[2] v[1] 0]\n",
        "        R = UniformScaling(1.) + v_cross_product_matrix + v_cross_product_matrix^2/(1+c)    \n",
        "        return U*R*EB2(x,y,z)\n",
        "      end\n",
        "   end\n",
        "end\n",
        "\n",
        "@everywhere function E_C1(x::Float64,y::Float64,z::Float64) #Intensity beam C1\n",
        "  #Beam C1 : Transverse gaussian sigma - polarized light propagating in the direction -ez  \n",
        "  #maximum intensity reached at the origin\n",
        "   kC1 = [0; 0; -1] \n",
        "   U = [-1/sqrt(2) 0 1/sqrt(2); -1im/sqrt(2) 0 1im/sqrt(2); 0 1 0]\n",
        "   B_vector = B(x,y,z)\n",
        "   B_value = norm(B_vector)\n",
        "   \n",
        "   if B_value == 0\n",
        "   \n",
        "      return EC1(x,y,z)\n",
        "   \n",
        "   else\n",
        "      \n",
        "      B_vector = B_vector/B_value\n",
        "      v = cross(kC1, B_vector)\n",
        "      c = dot(B_vector,kC1)\n",
        "      \n",
        "      if c == -1\n",
        "        return U*[-1 0 0; 0 -1 0; 0 0 1]*adjoint(U)*EC1(x,y,z) \n",
        "      else\n",
        "        v_cross_product_matrix = [0 -v[3] v[2] ; v[3] 0 -v[1]; -v[2] v[1] 0]\n",
        "        R = UniformScaling(1.) + v_cross_product_matrix + v_cross_product_matrix^2/(1+c)    \n",
        "        return U*R*EC1(x,y,z)\n",
        "      end\n",
        "   end\n",
        "end\n",
        "\n",
        "@everywhere function E_C2(x::Float64,y::Float64,z::Float64) #Intensity beam C2\n",
        "  #Beam C2 : sigma + polarized gaussian light propagating in the direction +ez  \n",
        "  #maximum intensity reached at the origin\n",
        "   kC2 = [0; 0; 1] \n",
        "   U = [-1/sqrt(2) 0 1/sqrt(2); -1im/sqrt(2) 0 1im/sqrt(2); 0 1 0]\n",
        "   B_vector = B(x,y,z)\n",
        "   B_value = norm(B_vector)\n",
        "   \n",
        "   if B_value == 0\n",
        "   \n",
        "      return EC2(x,y,z)\n",
        "   \n",
        "   else\n",
        "      \n",
        "      B_vector = B_vector/B_value\n",
        "      v = cross(kC2, B_vector)\n",
        "      c = dot(B_vector,kC2)\n",
        "      \n",
        "      if c == -1\n",
        "        return U*[-1 0 0; 0 -1 0; 0 0 1]*adjoint(U)*EC2(x,y,z) \n",
        "      else\n",
        "        v_cross_product_matrix = [0 -v[3] v[2] ; v[3] 0 -v[1]; -v[2] v[1] 0]\n",
        "        R = UniformScaling(1.) + v_cross_product_matrix + v_cross_product_matrix^2/(1+c)    \n",
        "        return U*R*EC2(x,y,z)\n",
        "      end\n",
        "   end\n",
        "end\n",
        "\n",
        "@everywhere function sA2(x::Float64,y::Float64,z::Float64) #saturation parameter Beam A2\n",
        "    return abs.(E_A2(x,y,z)).^2*I0/Is\n",
        "end\n",
        "\n",
        "@everywhere function sA1(x::Float64,y::Float64,z::Float64) #saturation parameter Beam A1\n",
        "    return abs.(E_A1(x, y, z)).^2*I0/Is\n",
        "end\n",
        "\n",
        "@everywhere function sB2(x::Float64,y::Float64,z::Float64) #saturation parameter Beam B2\n",
        "    return abs.(E_B2(x, y, z)).^2*I0/Is\n",
        "end\n",
        "\n",
        "@everywhere function sB1(x::Float64,y::Float64,z::Float64) #saturation parameter Beam B1\n",
        "    return abs.(E_B1(x, y, z)).^2*I0/Is\n",
        "end\n",
        "\n",
        "@everywhere function sC1(x::Float64,y::Float64,z::Float64) #saturation parameter Beam C1\n",
        "    return abs.(E_C1(x, y, z)).^2*I0/Is\n",
        "end\n",
        "\n",
        "@everywhere function sC2(x::Float64,y::Float64,z::Float64) #saturation parameter Beam C2\n",
        "    return abs.(E_C2(x, y, z)).^2*I0/Is\n",
        "end\n",
        "\n",
        "#Simulation time :\n",
        "\n",
        "@everywhere const t =  10*10^(-3)#s #time of the simulation\n",
        "@everywhere const dt = 0.1/γ; #time step\n",
        "@everywhere const Nt = convert(Int, round(t/dt)); #number of iteration"
      ],
      "execution_count": null,
      "outputs": []
    },
    {
      "cell_type": "code",
      "metadata": {
        "id": "SnhGdOlS2REy",
        "colab": {
          "base_uri": "https://localhost:8080/",
          "height": 217
        },
        "outputId": "c7833411-d6b9-4dab-f9a2-a34b3b274ef8"
      },
      "source": [
        "print(\"N = \", N, \"\\n\")\n",
        "print(\"wa = \",wa,\"\\n\") \n",
        "print(\"δ = \", δ, \"\\n\")\n",
        "print(\"wl = \", wl, \"\\n\")\n",
        "print(\"λ = \", λ, \"\\n\")\n",
        "print(\"k = \", k, \"\\n\")\n",
        "print(\"γ = \",γ, \"\\n\")\n",
        "print(\"tau = \", tau, \"\\n\")\n",
        "print(\"Is =\", Is, \"\\n\")\n",
        "print(\"Nt = \", Nt, \"\\n\")\n",
        "print(\"dt = \", dt, \"\\n\")\n",
        "print(h/2/pi/m*k)"
      ],
      "execution_count": null,
      "outputs": [
        {
          "output_type": "stream",
          "text": [
            "N = 12\n",
            "wa = 2.2099578666363832e15\n",
            "δ = -1.6273449945595128e7\n",
            "wl = 2.2099578503629332e15\n",
            "λ = 8.523472820983929e-7\n",
            "k = 7.371625907823649e6\n",
            "γ = 3.2546899891190257e7\n",
            "tau = 3.040500000000001e-8\n",
            "Is =11.049\n",
            "Nt = 3254690\n",
            "dt = 3.0724892488782887e-9\n",
            "0.003533594910711686"
          ],
          "name": "stdout"
        }
      ]
    },
    {
      "cell_type": "markdown",
      "metadata": {
        "id": "-UutKCy5DuVD"
      },
      "source": [
        "Let's first plot the initial situation"
      ]
    },
    {
      "cell_type": "code",
      "metadata": {
        "id": "F5OYFSs-KR87"
      },
      "source": [
        "#Let's plot the intensities of each beam over the space\n",
        "X = range(-Bx, stop = Bx, length = 1000)\n",
        "Y = range(-By, stop = By, length = 1000)\n",
        "Z = range(-Bz, stop = Bz, length = 1000)\n",
        "\n",
        "png(Plots.plot(X,Y,[I0*norm(EA1(x,y,0.)) for x in X, y in Y],st=:surface, xlabel = \"x(m)\", ylabel = \"y(m)\", zlabel = \"|EA1|²(x,y,0)\", title = \"Intensity of beam A1 over plane z = 0\"), \"IA1\")\n",
        "png(Plots.plot(X,Y,[I0*norm(EA2(x,y,0.)) for x in X, y in Y],st=:surface, xlabel = \"x(m)\", ylabel = \"y(m)\", zlabel = \"|EA2|²(x,y,0)\", title = \"Intensity  of beam A2 over plane z = 0\"), \"IA2\")\n",
        "png(Plots.plot(X,Y,[I0*norm(EB1(x,y,0.)) for x in X, y in Y],st=:surface, xlabel = \"x(m)\", ylabel = \"y(m)\", zlabel = \"|EB1|²(x,y,0)\", title = \"Intensity  of beam B1 over plane z = 0\"), \"IB1\")\n",
        "png(Plots.plot(X,Y,[I0*norm(EB2(x,y,0.)) for x in X, y in Y],st=:surface, xlabel = \"x(m)\", ylabel = \"y(m)\", zlabel = \"|EB2|²(x,y,0)\", title = \"Intensity  of beam B2 over plane z = 0\"), \"IB2\")\n",
        "png(Plots.plot(Y,Z,[I0*norm(EC1(0.,y,z)) for y in Y, z in Z],st=:surface, xlabel = \"y(m)\", ylabel = \"z(m)\", zlabel = \"|EC1|²(0,y,z)\", title = \"Intensity  of beam C1 over plane x = 0\"), \"IC1\")\n",
        "png(Plots.plot(Y,Z,[I0*norm(EC2(0.,y,z)) for y in Y, z in Z],st=:surface, xlabel = \"y(m)\", ylabel = \"z(m)\", zlabel = \"|EC2|²(0,y,z)\", title = \"Intensity  of beam C2 over plane x = 0\"), \"IC2\")"
      ],
      "execution_count": null,
      "outputs": []
    },
    {
      "cell_type": "code",
      "metadata": {
        "id": "xALveXvEvcD_"
      },
      "source": [
        "png(Plots.plot(X,Y,[norm(sA1(x,y,0.)) for x in X, y in Y],st=:surface, xlabel = \"x(m)\", ylabel = \"y(m)\", zlabel = \"|sA1|²(x,y,0)\", title = \"Total saturation rate of beam A1 over plane z = 0\"), \"sA1\")\n",
        "png(Plots.plot(X,Y,[sA1(x,y,0.)[1] for x in X, y in Y],st=:surface, xlabel = \"x(m)\", ylabel = \"y(m)\", zlabel = \"sA1_+(x,y,0)\", title = \"Saturation rate of right-polarized part of beam A1 over plane z = 0\"), \"sA1+\")\n",
        "png(Plots.plot(X,Y,[sA1(x,y,0.)[2] for x in X, y in Y],st=:surface, xlabel = \"x(m)\", ylabel = \"y(m)\", zlabel = \"sA1_0(x,y,0)\", title = \"Saturation rate of linear part beam A1 over plane z = 0\"), \"sA10\")\n",
        "png(Plots.plot(X,Y,[sA1(x,y,0.)[3] for x in X, y in Y],st=:surface, xlabel = \"x(m)\", ylabel = \"y(m)\", zlabel = \"sA1_-(x,y,0)\", title = \"Saturation rate of left-polarized part of beam A1 over plane z = 0\"), \"sA1-\")\n"
      ],
      "execution_count": null,
      "outputs": []
    },
    {
      "cell_type": "code",
      "metadata": {
        "id": "XjBAm-cDE-Vu"
      },
      "source": [
        "#Let's plot the B field in the plane x = 0\n",
        "Y = range(-By, stop = By, length = 20)\n",
        "Z = range(-Bz, stop = Bz, length = 20)\n",
        "png(Plots.quiver(reshape([y for y in Y, z in Z],400), reshape([z for y in Y, z in Z],400),quiver=(1/20*reshape([B(0.,y,z)[2] for y in Y, z in Z], 400), 1/20*reshape([B(0.,y,z)[3] for y in Y, z in Z], 400)), c=:inferno, xlabel = \"y(m)\", ylabel = \"z(m)\", title = \"B field over plane x = 0\"), \"Bfield\")"
      ],
      "execution_count": null,
      "outputs": []
    },
    {
      "cell_type": "markdown",
      "metadata": {
        "id": "gnjcUhb4lWlm"
      },
      "source": [
        "Let's now go into the simulation"
      ]
    },
    {
      "cell_type": "code",
      "metadata": {
        "id": "sP_qGFkQVAY_",
        "colab": {
          "base_uri": "https://localhost:8080/",
          "height": 100
        },
        "outputId": "fff7a68f-df4d-4251-a38f-812ea404eac7"
      },
      "source": [
        "addprocs(4)"
      ],
      "execution_count": null,
      "outputs": [
        {
          "output_type": "execute_result",
          "data": {
            "text/plain": [
              "4-element Array{Int64,1}:\n",
              " 2\n",
              " 3\n",
              " 4\n",
              " 5"
            ]
          },
          "metadata": {
            "tags": []
          },
          "execution_count": 7
        }
      ]
    },
    {
      "cell_type": "code",
      "metadata": {
        "id": "GLbdmSxeVJ22",
        "colab": {
          "base_uri": "https://localhost:8080/",
          "height": 50
        },
        "outputId": "d84c91f7-8a65-440d-c257-ba39966276dd"
      },
      "source": [
        "workers()"
      ],
      "execution_count": null,
      "outputs": [
        {
          "output_type": "execute_result",
          "data": {
            "text/plain": [
              "1-element Array{Int64,1}:\n",
              " 1"
            ]
          },
          "metadata": {
            "tags": []
          },
          "execution_count": 6
        }
      ]
    },
    {
      "cell_type": "code",
      "metadata": {
        "id": "WRzJLEweU-Ge"
      },
      "source": [
        "@everywhere using Pkg; using Distributed; using Random; using LinearAlgebra; using SharedArrays"
      ],
      "execution_count": null,
      "outputs": []
    },
    {
      "cell_type": "code",
      "metadata": {
        "id": "tKbACiyv2dSn",
        "colab": {
          "base_uri": "https://localhost:8080/",
          "height": 234
        },
        "outputId": "15debed8-ba07-4724-e7f3-d897f3ef6c66"
      },
      "source": [
        "#Position vectors are taken randomly following a uniform distribution over space\n",
        "particles_x = Bx*(1. .- 2*rand(Float64, N)); \n",
        "particles_y = By*(1. .- 2*rand(Float64, N));\n",
        "particles_z = Bz*(1. .- 2*rand(Float64, N));\n",
        "\n",
        "#If you want to initialize by hand\n",
        "#particles_x = [-2*Bx, -Bx, -Bx/2, -Bx /4, 0, Bx/8, Bx/4, Bx/2, Bx, 2*Bx]\n",
        "#particles_y = [-2*By, -By, -By/2, -By /4, 0, By/8, By/4, By/2, By, 2*By]\n",
        "#particles_z = [-2*Bz, -Bz, -Bz/2, -Bz /4, 0, Bz/8, Bz/4, Bz/2, Bz, 2*Bz]\n",
        "\n",
        "#if you want to work with a file\n",
        "#writedlm(file_position,particles_x)\n",
        "#if filesize(file_position)==0\n",
        "#    writedlm(file_position, [particles_x zeros(N,Nt+1)])\n",
        "#else\n",
        "#    writedlm(file_position, [particles_x zeros(N, Nt+1); readdlm(file_position)])\n",
        "#end\n",
        "\n",
        "current_position = [particles_x particles_y particles_z]; #position at t=0\n",
        "position_over_time = zeros(Float64, (N, 3*(Nt+1))); #list storing positions;\n",
        "position_over_time[1:N,1:3] = current_position"
      ],
      "execution_count": null,
      "outputs": [
        {
          "output_type": "execute_result",
          "data": {
            "text/plain": [
              "12×3 Array{Float64,2}:\n",
              " -0.00247994    0.000419079  -0.000890438\n",
              " -0.0013091     0.00108807   -0.00345992\n",
              "  0.000268289  -0.00102439    0.000818438\n",
              "  0.00183679    0.00232857    0.00440162\n",
              " -0.00178805    0.000175939  -0.000553496\n",
              "  0.000193213  -0.00183158    0.00458745\n",
              "  0.000929943   0.00237314    0.00481728\n",
              " -0.000237343   0.00136883    0.00247682\n",
              " -0.000653866   9.09162e-5    0.00414961\n",
              " -0.000399988   0.000793461   0.00208122\n",
              " -0.0023761    -0.000646133   0.00136927\n",
              "  0.00183036    0.00152522   -0.00434382"
            ]
          },
          "metadata": {
            "tags": []
          },
          "execution_count": 12
        }
      ]
    },
    {
      "cell_type": "code",
      "metadata": {
        "id": "IDMLnTVw2ycT",
        "colab": {
          "base_uri": "https://localhost:8080/",
          "height": 234
        },
        "outputId": "82eef6d4-eee3-4d76-ebab-52e578514d87"
      },
      "source": [
        "#Velocity vectors are taken randomly following a Maxwell-Boltzmann distribution over space\n",
        "#Equivalent : Each component of each velocity vector is taken randomly following a Gaussian distribution over space\n",
        "\n",
        "dist = Normal() #Normal distribution\n",
        "sigma = sqrt(k_B*T/m) #Variance\n",
        "particles_vx = sigma*rand(dist, N);\n",
        "particles_vy = sigma*rand(dist, N);\n",
        "particles_vz = sigma*rand(dist, N);\n",
        "\n",
        "#Arbitrary Velocity vectors\n",
        "#particles_vx = -10.0*ones(N)\n",
        "#particles_vy = zeros(N)\n",
        "#particles_vz = zeros(N)\n",
        "\n",
        "#if you want to work with a file\n",
        "#writedlm(file_speed, particles_vx)\n",
        "#if filesize(file_speed)==0\n",
        "#    writedlm(file_speed, [molecules_vx zeros(N,Nt-1)])\n",
        "#else\n",
        "#    writedlm(file_speed, [molecules_vx zeros(N,Nt-1); readdlm(file_speed)])\n",
        "#end\n",
        "\n",
        "current_speed = [particles_vx particles_vy particles_vz]; #speed at t=0\n",
        "speed_over_time = zeros(Float64, (N, 3*(Nt+1)) ); #list storing the speeds\n",
        "speed_over_time[1:N, 1:3] = current_speed"
      ],
      "execution_count": null,
      "outputs": [
        {
          "output_type": "execute_result",
          "data": {
            "text/plain": [
              "12×3 Array{Float64,2}:\n",
              "   31.2247    -201.736     150.79\n",
              "   99.4498     211.983    -108.823\n",
              " -127.539      121.787      32.5571\n",
              "  -68.9518      -4.00802  -208.253\n",
              "  -15.4611     171.384      74.1015\n",
              "   60.1214     -65.9764    -43.1687\n",
              " -156.399      -28.9989    -47.7302\n",
              "  155.333      -75.773     179.755\n",
              "    6.71593      1.80004   -15.758\n",
              "  -83.4101     -43.5918     58.1325\n",
              "    0.711474   -56.4118    105.397\n",
              "  -14.6701      12.9604   -110.576"
            ]
          },
          "metadata": {
            "tags": []
          },
          "execution_count": 13
        }
      ]
    },
    {
      "cell_type": "code",
      "metadata": {
        "id": "8V8Kcs7622j0",
        "colab": {
          "base_uri": "https://localhost:8080/",
          "height": 33
        },
        "outputId": "c60effd9-0ac5-4437-8a90-506c6e260c1f"
      },
      "source": [
        "#In the case of a cavity\n",
        "#This function defines the behaviour of the atoms in the zone\n",
        "\n",
        "function bouncing1(system)\n",
        "    \n",
        "    position = system[1] #initial positions of the atoms\n",
        "    speed = system[2] #initial speeds of the atoms\n",
        "    rectified_position = position[:] #stores the positions after the atoms having rebounced\n",
        "    rectified_speed = speed[:] #stores the speeds after the atoms having rebouncedd\n",
        "    \n",
        "    x = position[1] #initial position along x\n",
        "    vx = speed[1] #initial velocity along x\n",
        "\n",
        "    for i = 1:N\n",
        "    #for each particule\n",
        "\n",
        "        particule_x = x[i] #extract its position\n",
        "        particule_vx = vx[i]#extract its speed\n",
        "        \n",
        "        if particule_x^2>Bx^2 #The particle is considered outside the cavity if |x| > Bx\n",
        "\n",
        "            rectified_position[1][i] = sign(particule_x)*(2*Bx-abs(particule_x)) #The extra trip outside the cavity was in fact made inside the cavity \n",
        "            rectified_speed[1][i] = -1*particule_vx #the speed flips (the particle rebounds)\n",
        "        end\n",
        "        #otherwise the particle is inside the cavity and no changes have to be operated.\n",
        "    end\n",
        "    \n",
        "    return [rectified_position,rectified_speed] #return the new system\n",
        "end "
      ],
      "execution_count": null,
      "outputs": [
        {
          "output_type": "execute_result",
          "data": {
            "text/plain": [
              "bouncing1 (generic function with 1 method)"
            ]
          },
          "metadata": {
            "tags": []
          },
          "execution_count": 10
        }
      ]
    },
    {
      "cell_type": "code",
      "metadata": {
        "id": "gwgTpTlJ2Qhu",
        "colab": {
          "base_uri": "https://localhost:8080/",
          "height": 33
        },
        "outputId": "bb417112-7168-4b33-c05e-bd66b10ad5d9"
      },
      "source": [
        "function scatterA1!(new_speed::Array{Float64,1}, x :: Float64, y :: Float64, z :: Float64, vx :: Float64)\n",
        "        \n",
        "        z_shift = gL*muB*norm(B(x,y,z))/h*2*pi\n",
        "        sA1_value = sA1(x,y,z)\n",
        "        rho_A1 = [sA1_value[pol]/2/(1+sA1_value[pol]+(2*(δ+k*vx+(pol-2)*z_shift)/γ)^2) for pol in 1:3] #Probability of finding the two-level atom in an excited state at time t\n",
        "        #Beam A1 emits in the direction -e_x sigma - polarized light\n",
        "\n",
        "        γpA1 = γ*rho_A1 #Total scattering rate at time t\n",
        "        PeeA1 = dt*γpA1 #Probability that a Photon has been scattered during a time dt\n",
        "        rvaA1 = rand(Float64, 3) #random variable 1, following a uniform distribution on [0,1]\n",
        "\n",
        "        for pol in 1:3\n",
        "          if rvaA1[pol]<PeeA1[pol] #occures with probability Pee1\n",
        "            \n",
        "            #random_unitary_vector = [sin(thetaA1)*cos(phiA1), sin(thetaA1)*sin(phiA1), cos(thetaA1)]\n",
        "            thetaA1 = 2*pi*rand(Float64) #random inclination of the emitted photon\n",
        "            phiA1 = 2*pi*rand(Float64) #random azimuth of the emitted photon\n",
        "            \n",
        "            #v[t+dt] = v[t] + hbar*k/m(ex+random_unitary_vector)\n",
        "            new_speed[1] = new_speed[1] + 6.62607004/2/pi*10^(-34)/m*k*(-1+sin(thetaA1)*cos(phiA1)) \n",
        "            new_speed[2] = new_speed[2] + 6.62607004/2/pi*10^(-34)/m*k*sin(thetaA1)*sin(phiA1)\n",
        "            new_speed[3] = new_speed[3] + 6.62607004/2/pi*10^(-34)/m*k*cos(thetaA1)\n",
        "          end  \n",
        "        end    \n",
        "end\n",
        "\n",
        "function scatterA2!(new_speed::Array{Float64,1}, x :: Float64, y :: Float64, z::Float64, vx :: Float64)\n",
        "        \n",
        "        z_shift = gL*muB*norm(B(x,y,z))/h*2*pi\n",
        "        sA2_value = sA2(x,y,z)\n",
        "        rho_A2 = [sA2_value[pol]/2/(1+sA2_value[pol]+(2*(δ-k*vx+(pol-2)*z_shift)/γ)^2) for pol in 1:3] #Probability of finding the two-level atom in an excited state at time t\n",
        "        #Beam A2 emits in the direction e_x sigma + polarized light\n",
        "\n",
        "        γpA2 = γ*rho_A2 #Total scattering rate at time t\n",
        "        PeeA2 = dt*γpA2 #Probability that a Photon has been scattered during a time dt\n",
        "        rvaA2 = rand(Float64,3) #random variable 1, following a uniform distribution on [0,1]\n",
        "\n",
        "        for pol in 1:3 \n",
        "\n",
        "          if rvaA2[pol]<PeeA2[pol] #occures with probability PeeA2\n",
        "            \n",
        "            #random_unitary_vector = [sin(theta)*cos(phi), sin(theta)*sin(phi), cos(theta)]\n",
        "            thetaA2 = 2*pi*rand(Float64) #random inclination of the emitted photon\n",
        "            phiA2 = 2*pi*rand(Float64) #random azimuth of the emitted photon\n",
        "            \n",
        "            #v[t+dt] = v[t] + hbar*k/m(ex+random_unitary_vector)\n",
        "            new_speed[1] = new_speed[1] + 6.62607004/2/pi*10^(-34)/m*k*(1+sin(thetaA2)*cos(phiA2)) \n",
        "            new_speed[2] = new_speed[2] + 6.62607004/2/pi*10^(-34)/m*k*sin(thetaA2)*sin(phiA2)\n",
        "            new_speed[3] = new_speed[3] + 6.62607004/2/pi*10^(-34)/m*k*cos(thetaA2)\n",
        "          end\n",
        "        end\n",
        "end\n",
        "\n",
        "function scatterB1!(new_speed::Array{Float64,1}, x :: Float64, y :: Float64, z::Float64, vy :: Float64)\n",
        "        \n",
        "        z_shift = gL*muB*norm(B(x,y,z))/h*2*pi\n",
        "        sB1_value = sB1(x,y,z)\n",
        "        rho_B1 = [sB1_value[pol]/2/(1+sB1_value[pol]+(2*(δ+k*vy+(pol-2)*z_shift)/γ)^2) for pol in 1:3] #Probability of finding the two-level atom in an excited state at time t\n",
        "        #Beam B1 emits in the direction -e_y sigma - polarized light\n",
        "\n",
        "        γpB1 = γ*rho_B1 #Total scattering rate at time t\n",
        "        PeeB1 = dt*γpB1 #Probability that a Photon has been scattered during a time dt\n",
        "        rvaB1 = rand(Float64,3) #random variable 1, following a uniform distribution on [0,1]\n",
        "        \n",
        "        for pol in 1:3\n",
        "\n",
        "          if rvaB1[pol]<PeeB1[pol] #occures with probability Pee1\n",
        "            \n",
        "            #random_unitary_vector = [sin(theta)*cos(phi), sin(theta)*sin(phi), cos(theta)]\n",
        "            thetaB1 = 2*pi*rand(Float64) #random inclination of the emitted photon\n",
        "            phiB1 = 2*pi*rand(Float64) #random azimuth of the emitted photon\n",
        "            \n",
        "            #v[t+dt] = v[t] + hbar*k/m(ex+random_unitary_vector)\n",
        "            new_speed[1] = new_speed[1] + 6.62607004/2/pi*10^(-34)/m*k*(sin(thetaB1)*cos(phiB1)) \n",
        "            new_speed[2] = new_speed[2] + 6.62607004/2/pi*10^(-34)/m*k*(-1+sin(thetaB1)*sin(phiB1))\n",
        "            new_speed[3] = new_speed[3] + 6.62607004/2/pi*10^(-34)/m*k*cos(thetaB1)\n",
        "          \n",
        "          end\n",
        "            \n",
        "        end\n",
        "end\n",
        "\n",
        "function scatterB2!(new_speed::Array{Float64,1}, x :: Float64, y :: Float64, z::Float64, vy :: Float64)\n",
        "        \n",
        "        z_shift = gL*muB*norm(B(x,y,z))/h*2*pi\n",
        "        sB2_value = sB2(x,y,z)\n",
        "        rho_B2 = [sB2_value[pol]/2/(1+sB2_value[pol]+(2*(δ-k*vy+(pol-2)*z_shift)/γ)^2) for pol in 1:3] #Probability of finding the two-level atom in an excited state at time t\n",
        "        #Beam B2 emits in the direction +e_y sigma + polarized light\n",
        "\n",
        "        γpB2 = γ*rho_B2 #Total scattering rate at time t\n",
        "        PeeB2 = dt*γpB2 #Probability that a Photon has been scattered during a time dt\n",
        "        rvaB2 = rand(Float64, 3) #random variable 1, following a uniform distribution on [0,1]\n",
        "\n",
        "               for pol in 1:3\n",
        "\n",
        "          if rvaB2[pol]<PeeB2[pol] #occures with probability Pee1\n",
        "            \n",
        "            #random_unitary_vector = [sin(theta)*cos(phi), sin(theta)*sin(phi), cos(theta)]\n",
        "            thetaB2 = 2*pi*rand(Float64) #random inclination of the emitted photon\n",
        "            phiB2 = 2*pi*rand(Float64) #random azimuth of the emitted photon\n",
        "            \n",
        "            #v[t+dt] = v[t] + hbar*k/m(ex+random_unitary_vector)\n",
        "            new_speed[1] = new_speed[1] + 6.62607004/2/pi*10^(-34)/m*k*(sin(thetaB2)*cos(phiB2)) \n",
        "            new_speed[2] = new_speed[2] + 6.62607004/2/pi*10^(-34)/m*k*(1+sin(thetaB2)*sin(phiB2))\n",
        "            new_speed[3] = new_speed[3] + 6.62607004/2/pi*10^(-34)/m*k*cos(thetaB2)\n",
        "          \n",
        "          end\n",
        "            \n",
        "        end\n",
        "\n",
        "end\n",
        "\n",
        "function scatterC1!(new_speed::Array{Float64,1}, x :: Float64, y :: Float64, z::Float64, vz::Float64)\n",
        "        \n",
        "        z_shift = gL*muB*norm(B(x,y,z))/h*2*pi\n",
        "        sC1_value = sC1(x,y,z)\n",
        "        rho_C1 = [sC1_value[pol]/2/(1+sC1_value[pol]+(2*(δ+k*vz+(pol-2)*z_shift)/γ)^2) for pol in 1:3] #Probability of finding the two-level atom in an excited state at time t\n",
        "        #Beam C1 emits in the direction -e_z sigma - polarized light\n",
        "\n",
        "        γpC1 = γ*rho_C1 #Total scattering rate at time t\n",
        "        PeeC1 = dt*γpC1 #Probability that a Photon has been scattered during a time dt\n",
        "        rvaC1 = rand(Float64, 3) #random variable 1, following a uniform distribution on [0,1]\n",
        "\n",
        "        for pol in 1:3\n",
        "          if rvaC1[pol]<PeeC1[pol] #occures with probability Pee1\n",
        "            \n",
        "            #random_unitary_vector = [sin(theta)*cos(phi), sin(theta)*sin(phi), cos(theta)]\n",
        "            thetaC1 = 2*pi*rand(Float64) #random inclination of the emitted photon\n",
        "            phiC1 = 2*pi*rand(Float64) #random azimuth of the emitted photon\n",
        "            \n",
        "            #v[t+dt] = v[t] + hbar*k/m(ex+random_unitary_vector)\n",
        "            new_speed[1] = new_speed[1] + 6.62607004/2/pi*10^(-34)/m*k*(sin(thetaC1)*cos(phiC1)) \n",
        "            new_speed[2] = new_speed[2] + 6.62607004/2/pi*10^(-34)/m*k*(sin(thetaC1)*sin(phiC1))\n",
        "            new_speed[3] = new_speed[3] + 6.62607004/2/pi*10^(-34)/m*k*(-1+cos(thetaC1))\n",
        "          \n",
        "          end\n",
        "        \n",
        "        end\n",
        "end\n",
        "\n",
        "function scatterC2!(new_speed::Array{Float64,1}, x :: Float64, y :: Float64, z::Float64, vz :: Float64)\n",
        "\n",
        "        z_shift = gL*muB*norm(B(x,y,z))/h*2*pi\n",
        "        sC2_value = sC2(x,y,z)\n",
        "        rho_C2 = [sC2_value[pol]/2/(1+sC2_value[pol]+(2*(δ-k*vz+(pol-2)*z_shift)/γ)^2) for pol in 1:3]#Probability of finding the two-level atom in an excited state at time t\n",
        "        #Beam C2 emits in the direction +e_z sigma + polarized light\n",
        "\n",
        "        γpC2 = γ*rho_C2 #Total scattering rate at time t\n",
        "        PeeC2 = dt*γpC2 #Probability that a Photon has been scattered during a time dt\n",
        "        rvaC2 = rand(Float64, 3) #random variable 1, following a uniform distribution on [0,1]\n",
        "\n",
        "        for pol in 1:3\n",
        "        \n",
        "          if rvaC2[pol] < PeeC2[pol] #occures with probability Pee1\n",
        "            \n",
        "            #random_unitary_vector = [sin(theta)*cos(phi), sin(theta)*sin(phi), cos(theta)]\n",
        "            thetaC2 = 2*pi*rand(Float64) #random inclination of the emitted photon\n",
        "            phiC2 = 2*pi*rand(Float64) #random azimuth of the emitted photon\n",
        "            \n",
        "            #v[t+dt] = v[t] + hbar*k/m(ex+random_unitary_vector)\n",
        "            new_speed[1] = new_speed[1] + 6.62607004/2/pi*10^(-34)/m*k*(sin(thetaC2)*cos(phiC2)) \n",
        "            new_speed[2] = new_speed[2] + 6.62607004/2/pi*10^(-34)/m*k*(sin(thetaC2)*sin(phiC2))\n",
        "            new_speed[3] = new_speed[3] + 6.62607004/2/pi*10^(-34)/m*k*(1+cos(thetaC2))\n",
        "          \n",
        "          end\n",
        "        end\n",
        "end\n"
      ],
      "execution_count": null,
      "outputs": [
        {
          "output_type": "execute_result",
          "data": {
            "text/plain": [
              "scatterC2! (generic function with 1 method)"
            ]
          },
          "metadata": {
            "tags": []
          },
          "execution_count": 50
        }
      ]
    },
    {
      "cell_type": "code",
      "metadata": {
        "id": "2fKwSep-vvou",
        "colab": {
          "base_uri": "https://localhost:8080/",
          "height": 33
        },
        "outputId": "1f063dec-8cbc-4ba1-d2f6-1bff4c791fae"
      },
      "source": [
        "function new_speed!(current_speed::Array{Array{Float64,1},1}, current_position::Array{Array{Float64,1},1}, former_speed::Array{Array{Float64,1},1}, former_position::Array{Array{Float64,1},1})\n",
        "  \n",
        "  for i = 1:N\n",
        "    #for each particule\n",
        "        \n",
        "        #extract the position at time t-dt\n",
        "        x = former_position[1][i] \n",
        "        y = former_position[2][i]\n",
        "        z = former_position[3][i]\n",
        "\n",
        "        #extract the speed at time t-dt\n",
        "        vx = former_speed[1][i]\n",
        "        vy = former_speed[2][i]\n",
        "        vz = former_speed[3][i] \n",
        "\n",
        "        new_speed = [vx; vy; vz]\n",
        "\n",
        "        ###Scattering Event###\n",
        "        scatterA1!(new_speed, x, y, z, vx)\n",
        "        scatterA2!(new_speed, x, y, z, vx)\n",
        "        scatterB1!(new_speed, x, y, z, vy)\n",
        "        scatterB2!(new_speed, x, y, z, vy)\n",
        "        scatterC1!(new_speed, x, y, z, vz)\n",
        "        scatterC2!(new_speed, x, y, z, vz)\n",
        "\n",
        "        #the speed of particle i is changed only if the atom has emitted a photon\n",
        "        current_speed[1][i] = new_speed[1] \n",
        "        current_speed[2][i] = new_speed[2]\n",
        "        current_speed[3][i] = new_speed[3]\n",
        "        current_position[1][i] = x + new_speed[1]*dt #in all cases, the position is changed \n",
        "        current_position[2][i] = y + new_speed[2]*dt\n",
        "        current_position[3][i] = z + new_speed[3]*dt\n",
        "    end\n",
        "end"
      ],
      "execution_count": null,
      "outputs": [
        {
          "output_type": "execute_result",
          "data": {
            "text/plain": [
              "new_speed! (generic function with 1 method)"
            ]
          },
          "metadata": {
            "tags": []
          },
          "execution_count": 51
        }
      ]
    },
    {
      "cell_type": "code",
      "metadata": {
        "id": "h0iEkl8l3HLv"
      },
      "source": [
        "function simulate!(position_over_time::Array{Array{Array{Float64,1},1},1}, speed_over_time::Array{Array{Array{Float64,1},1},1})\n",
        "\n",
        "  for j = 1 : Nt #at each time step\n",
        "            \n",
        "    former_position = current_position[:] #the previous position was obtained at t-dt\n",
        "    former_speed = current_speed[:] #the previous speed was obtained at t-dt\n",
        "    current_position = [zeros(N), zeros(N), zeros(N)] #the position of each particle at time t is initiated at zero\n",
        "    current_speed = [zeros(N), zeros(N), zeros(N)] #the speed of each particle at time t is initiated at zero\n",
        "\n",
        "    new_speed!(current_speed,current_position, former_speed,former_position)\n",
        "    position_over_time[j+1] = current_position[:]; \n",
        "    speed_over_time[j+1] = current_speed[:];\n",
        "\n",
        "  end\n",
        "  \n",
        "end"
      ],
      "execution_count": null,
      "outputs": []
    },
    {
      "cell_type": "code",
      "metadata": {
        "id": "yPAE_8RfQ8yT"
      },
      "source": [
        "M = ceil(Int, N/4)\n",
        "for i in 2:5\n",
        " simulate!(position_over_time, speed_over_time)"
      ],
      "execution_count": null,
      "outputs": []
    },
    {
      "cell_type": "code",
      "metadata": {
        "id": "66u3sH3126zt",
        "colab": {
          "base_uri": "https://localhost:8080/",
          "height": 33
        },
        "outputId": "4a18fc75-b22f-43b6-cbe6-33df262cef9e"
      },
      "source": [
        "function mean_squared_speed(speed :: Array{Array{Float64,1},1})\n",
        "    \n",
        "    #returns the instantaneous temperature of the system T= m/(degree_of_freedom*N*k_B)*sum_{i=1,N}(v_i^2) \n",
        "    #Here we have 1 degree of freedom\n",
        "    \n",
        "    v2 = 0\n",
        "    \n",
        "    for i in 1:N\n",
        "    \n",
        "        v2 = v2 + speed[1][i]^2 + speed[2][i]^2 + speed[3][i]^2\n",
        "    \n",
        "    end\n",
        "    \n",
        "    return 1/N*v2\n",
        "end"
      ],
      "execution_count": null,
      "outputs": [
        {
          "output_type": "execute_result",
          "data": {
            "text/plain": [
              "mean_squared_speed (generic function with 1 method)"
            ]
          },
          "metadata": {
            "tags": []
          },
          "execution_count": 53
        }
      ]
    },
    {
      "cell_type": "code",
      "metadata": {
        "id": "QYeHG5MA3Aik"
      },
      "source": [
        "squared_speed_over_time = [mean_squared_speed(current_speed) for current_speed in speed_over_time];"
      ],
      "execution_count": null,
      "outputs": []
    },
    {
      "cell_type": "code",
      "metadata": {
        "id": "r7KilPxQsWFM",
        "colab": {
          "base_uri": "https://localhost:8080/",
          "height": 33
        },
        "outputId": "f8ca81dd-5c21-46d6-e255-56aac0a8d46e"
      },
      "source": [
        "function mean_speed(speed)\n",
        "\n",
        "  #compute the mean of the system\n",
        "\n",
        "  return 1/N*[sum(speed[1]),sum(speed[2]),sum(speed[3])]\n",
        "  \n",
        "end "
      ],
      "execution_count": null,
      "outputs": [
        {
          "output_type": "execute_result",
          "data": {
            "text/plain": [
              "mean_speed (generic function with 1 method)"
            ]
          },
          "metadata": {
            "tags": []
          },
          "execution_count": 55
        }
      ]
    },
    {
      "cell_type": "code",
      "metadata": {
        "id": "dQx3j51zS83P"
      },
      "source": [
        "mean_over_time = [mean_speed(current_speed) for current_speed in speed_over_time];"
      ],
      "execution_count": null,
      "outputs": []
    },
    {
      "cell_type": "code",
      "metadata": {
        "id": "HpxdAdte3GnH"
      },
      "source": [
        "variance_over_time = [sum(mean_over_time[j].^2) - squared_speed_over_time[j] for j in 1:Nt+1];"
      ],
      "execution_count": null,
      "outputs": []
    },
    {
      "cell_type": "code",
      "metadata": {
        "id": "qME9NmSJDMEI"
      },
      "source": [
        "space_time = [i*dt for i in 1:Nt+1];"
      ],
      "execution_count": null,
      "outputs": []
    },
    {
      "cell_type": "code",
      "metadata": {
        "id": "KNUQUcCq3JHQ"
      },
      "source": [
        "#We are interested in the mean squared speed over time\n",
        "png(Plots.plot(space_time, squared_speed_over_time, title = \"Mean of the squared speed over time\", xlabel = \"t (s)\", ylabel = \"<v²>(t) (m.s-1)\"), \"Squared_speed_3D6lasers_MOT\") "
      ],
      "execution_count": null,
      "outputs": []
    },
    {
      "cell_type": "code",
      "metadata": {
        "id": "FCY8Gtu7Tyy3"
      },
      "source": [
        "#We are interested in the mean over time\n",
        "\n",
        "png(Plots.plot(space_time, [mean[1] for mean in mean_over_time], title = \"Mean speed along x absciss over time\", xlabel = \"t (s)\", ylabel = \"<vx>(t) (m/s)\"), \"Meanx_3D6lasers_MOT\")\n",
        "png(Plots.plot(space_time, [mean[2] for mean in mean_over_time], title = \"Mean speed along y absciss over time\", xlabel = \"t (s)\", ylabel = \"<vy>(t) (m/s)\"), \"Meany_3D6lasers_MOT\")\n",
        "png(Plots.plot(space_time, [mean[3] for mean in mean_over_time], title = \"Mean speed along z absciss over time\", xlabel = \"t (s)\", ylabel = \"<vz>(t) (m/s)\"), \"Meanz_3D6lasers_MOT\")"
      ],
      "execution_count": null,
      "outputs": []
    },
    {
      "cell_type": "code",
      "metadata": {
        "id": "mIO2QSfm-XXZ"
      },
      "source": [
        "#We are interested in the variance over time\n",
        "png(Plots.plot(space_time, variance_over_time, title = \"Variance over time\", xlabel = \"t (s)\", ylabel = \"<v²(t)>-<v(t)>² (m/s)²\"), \"Variance_3D6lasers_MOT\")"
      ],
      "execution_count": null,
      "outputs": []
    },
    {
      "cell_type": "code",
      "metadata": {
        "id": "pSPH8GrF0swM",
        "colab": {
          "base_uri": "https://localhost:8080/",
          "height": 33
        },
        "outputId": "fec41c7c-037e-4e59-dfbe-fcde2c7900b3"
      },
      "source": [
        "file_data = string(\"simulation_data.txt\")#stores the data of the particles over time\n",
        "touch(file_data)"
      ],
      "execution_count": null,
      "outputs": [
        {
          "output_type": "execute_result",
          "data": {
            "text/plain": [
              "\"simulation_data.txt\""
            ]
          },
          "metadata": {
            "tags": []
          },
          "execution_count": 62
        }
      ]
    },
    {
      "cell_type": "code",
      "metadata": {
        "id": "A6nSHciWDHCO",
        "colab": {
          "base_uri": "https://localhost:8080/",
          "height": 50
        },
        "outputId": "1ffb7f0d-506c-4951-fc51-7f1fd5ec38da"
      },
      "source": [
        "#We are interested in the minimum speed reached by the system\n",
        "min_v = minimum(squared_speed_over_time)\n",
        "data1 = string(\"minimum speed reached : \",sqrt(min_v),\" m.s-1\")\n",
        "print(data1, \"\\n\")\n",
        "\n",
        "#add the data to the file\n",
        "open(file_data, \"a\") do io\n",
        "       write(io, data1)\n",
        "end"
      ],
      "execution_count": null,
      "outputs": [
        {
          "output_type": "stream",
          "text": [
            "minimum speed reached : 10.882930441421559 m.s-1\n"
          ],
          "name": "stdout"
        },
        {
          "output_type": "execute_result",
          "data": {
            "text/plain": [
              "48"
            ]
          },
          "metadata": {
            "tags": []
          },
          "execution_count": 63
        }
      ]
    },
    {
      "cell_type": "code",
      "metadata": {
        "id": "LTYXHGvccJAa",
        "colab": {
          "base_uri": "https://localhost:8080/",
          "height": 50
        },
        "outputId": "475dec78-cdfb-4f0e-f1eb-0cf6eb776752"
      },
      "source": [
        "#We are interested in the time it takes to get this speed\n",
        "min_v_reached = findfirst(isequal(min_v),squared_speed_over_time)\n",
        "data2 = string(\"minimum speed is reached after \", min_v_reached*dt, \" s (that is, after \", min_v_reached,\" iteration)\")\n",
        "print(data2,\"\\n\")\n",
        "open(file_data, \"a\") do io\n",
        "       write(io, data2)\n",
        "end"
      ],
      "execution_count": null,
      "outputs": [
        {
          "output_type": "stream",
          "text": [
            "minimum speed is reached after 0.0099884351838989 s (that is, after 3250926 iteration)\n"
          ],
          "name": "stdout"
        },
        {
          "output_type": "execute_result",
          "data": {
            "text/plain": [
              "86"
            ]
          },
          "metadata": {
            "tags": []
          },
          "execution_count": 64
        }
      ]
    },
    {
      "cell_type": "code",
      "metadata": {
        "id": "Da6SKqWcD6Aj",
        "colab": {
          "base_uri": "https://localhost:8080/",
          "height": 33
        },
        "outputId": "60e70f05-c6d1-4b96-db8c-249bfd8a281f"
      },
      "source": [
        "#We are interested in the maximum variance reached\n",
        "data3 = string(\"maximum variance reached : \", maximum(variance_over_time), \" m2.s-2\")\n",
        "print(data3)\n",
        "open(file_data, \"a\") do io\n",
        "       write(io, data3)\n",
        "end"
      ],
      "execution_count": null,
      "outputs": [
        {
          "output_type": "stream",
          "text": [
            "maximum variance reached : -107.25987805265578 m2.s-2"
          ],
          "name": "stdout"
        },
        {
          "output_type": "execute_result",
          "data": {
            "text/plain": [
              "53"
            ]
          },
          "metadata": {
            "tags": []
          },
          "execution_count": 65
        }
      ]
    },
    {
      "cell_type": "code",
      "metadata": {
        "id": "N9pgl23H3P5w"
      },
      "source": [
        "#We are interested in the dynamics of the atoms over time\n",
        "for i = 1:N\n",
        "    pltvx = Plots.plot(space_time,[speed_over_time[j][1][i] for j in 1:Nt+1], title = \"Projected speed on x over time\", xlabel = \"t (s)\", ylabel = \"vx(t) (m/s)\")  \n",
        "    pltvy = Plots.plot(space_time,[speed_over_time[j][2][i] for j in 1:Nt+1], title = \"Projected speed on y over time\", xlabel = \"t (s)\", ylabel = \"vy(t) (m/s)\")\n",
        "    pltvz = Plots.plot(space_time,[speed_over_time[j][3][i] for j in 1:Nt+1], title = \"Projected speed on z over time\", xlabel = \"t (s)\", ylabel = \"vz(t) (m/s)\")  \n",
        "\n",
        "    pltx = Plots.plot(space_time,[position_over_time[j][1][i] for j in 1:Nt+1], title = \"Position x over time\", xlabel = \"t (s)\", ylabel = \"x(t) (m)\")  \n",
        "    plty = Plots.plot(space_time,[position_over_time[j][2][i] for j in 1:Nt+1], title = \"Position y over time\", xlabel = \"t (s)\", ylabel = \"y(t) (m)\")\n",
        "    pltz = Plots.plot(space_time,[position_over_time[j][3][i] for j in 1:Nt+1], title = \"Position z over time\", xlabel = \"t (s)\", ylabel = \"z(t) (m)\")  \n",
        "\n",
        "    #show the two graphics on the same image\n",
        "    png(Plots.plot(pltvx, pltx, layout = (2,1)), string(\"movement_x_part_\",string(i),\"_3D6lasers_MOT\"))\n",
        "    png(Plots.plot(pltvy, plty, layout = (2,1)), string(\"movement_y_part_\",string(i),\"_3D6lasers_MOT\"))\n",
        "    png(Plots.plot(pltvz, pltz, layout = (2,1)), string(\"movement_z_part_\",string(i),\"_3D6lasers_MOT\"))  \n",
        "end"
      ],
      "execution_count": null,
      "outputs": []
    },
    {
      "cell_type": "code",
      "metadata": {
        "id": "3jAj1Y5-Cry4",
        "colab": {
          "base_uri": "https://localhost:8080/",
          "height": 329
        },
        "outputId": "60ca6859-a5c6-4ef7-e7c1-e0967a09afde"
      },
      "source": [
        "v2max = maximum([[sum(speed_over_time[j][i].^2) for i in 1:N] for j in 1:Nt])"
      ],
      "execution_count": null,
      "outputs": [
        {
          "output_type": "error",
          "ename": "LoadError",
          "evalue": "ignored",
          "traceback": [
            "BoundsError: attempt to access 3-element Array{Array{Float64,1},1} at index [4]",
            "",
            "Stacktrace:",
            " [1] getindex(::Array{Array{Float64,1},1}, ::Int64) at ./array.jl:809",
            " [2] (::var\"#178#180\"{Int64})(::Int64) at ./none:0",
            " [3] iterate at ./generator.jl:47 [inlined]",
            " [4] collect_to!(::Array{Float64,1}, ::Base.Generator{UnitRange{Int64},var\"#178#180\"{Int64}}, ::Int64, ::Int64) at ./array.jl:732",
            " [5] collect_to_with_first!(::Array{Float64,1}, ::Float64, ::Base.Generator{UnitRange{Int64},var\"#178#180\"{Int64}}, ::Int64) at ./array.jl:710",
            " [6] collect(::Base.Generator{UnitRange{Int64},var\"#178#180\"{Int64}}) at ./array.jl:691",
            " [7] #177 at ./none:0 [inlined]",
            " [8] iterate at ./generator.jl:47 [inlined]",
            " [9] collect(::Base.Generator{UnitRange{Int64},var\"#177#179\"}) at ./array.jl:686",
            " [10] top-level scope at In[67]:1",
            " [11] include_string(::Function, ::Module, ::String, ::String) at ./loading.jl:1091"
          ]
        }
      ]
    },
    {
      "cell_type": "code",
      "metadata": {
        "id": "3iwaI6QvWT_a",
        "colab": {
          "base_uri": "https://localhost:8080/",
          "height": 278
        },
        "outputId": "48727ac0-132f-4efe-e618-10e1de0c9433"
      },
      "source": [
        "anim = Animation()\n",
        "\n",
        "for j in range(1, step=10000, stop = Nt+1) \n",
        "\n",
        "    X = range(-Bx, stop = Bx, length = 100)\n",
        "    Y = range(-By, stop = By, length = 100)\n",
        "    Z = range(-Bz, stop = Bz, length = 100)\n",
        "    \n",
        "    #Plots.plot(X,range(-w0, stop = w0, length = 100),[sqrt(w0^2-y^2) for x in X, y in range(-w0, stop = w0, length = 100)],st=:surface, c=:blues, opacity = 0.3,  leg = false, camera = (-30,30))\n",
        "    #Plots.plot(X,range(-w0, stop = w0, length = 100),[-sqrt(w0^2-y^2) for x in X, y in range(-w0, stop = w0, length = 100)],st=:surface, c = :blues, opacity = 0.3, leg = false, camera = (-30,30))\n",
        "    Plots.scatter(position_over_time[j][[1],:][1],position_over_time[j][[2],:][1],position_over_time[j][[3],:][1], title = string(\"Evolution of the system over time, t =\", j*dt, \" s\"), xlabel = \"x(m)\", ylabel = \"y(m)\", zlabel = \"z(m)\", xlim = (-Bx,Bx), ylim = (-By,By), zlim= (-Bz,Bz), marker_z = [1/v2max[i]*sum(speed_over_time[j][i].^2) for i in 1:N], leg = false)\n",
        "    #Plots.plot(range(-w0, stop = w0, length = 100),Y,[sqrt(w0^2-x^2) for x in range(-w0, stop = w0, length = 100), y in Y],st=:surface, c=:blues, opacity = 0.3, leg = false, camera = (-30,30) )\n",
        "    #Plots.plot(range(-w0, stop = w0, length = 100),Y,[-sqrt(w0^2-x^2) for x in range(-w0, stop = w0, length = 100), y in Y],st=:surface, c=:blues, opacity = 0.3, leg = false, camera = (-30,30))\n",
        "    Plots.frame(anim)\n",
        "end\n",
        "gif(anim, \"simulation_3D3Lasers_doppler.gif\", fps=1)"
      ],
      "execution_count": null,
      "outputs": [
        {
          "output_type": "error",
          "ename": "LoadError",
          "evalue": "ignored",
          "traceback": [
            "BoundsError: attempt to access 3-element Array{Float64,1} at index [4]",
            "",
            "Stacktrace:",
            " [1] getindex(::Array{Float64,1}, ::Int64) at ./array.jl:809",
            " [2] (::var\"#181#182\"{Int64})(::Int64) at ./none:0",
            " [3] iterate at ./generator.jl:47 [inlined]",
            " [4] collect_to!(::Array{Float64,1}, ::Base.Generator{UnitRange{Int64},var\"#181#182\"{Int64}}, ::Int64, ::Int64) at ./array.jl:732",
            " [5] collect_to_with_first!(::Array{Float64,1}, ::Float64, ::Base.Generator{UnitRange{Int64},var\"#181#182\"{Int64}}, ::Int64) at ./array.jl:710",
            " [6] collect(::Base.Generator{UnitRange{Int64},var\"#181#182\"{Int64}}) at ./array.jl:691",
            " [7] top-level scope at In[68]:11",
            " [8] include_string(::Function, ::Module, ::String, ::String) at ./loading.jl:1091"
          ]
        }
      ]
    },
    {
      "cell_type": "code",
      "metadata": {
        "id": "3ovND49lhR57",
        "colab": {
          "base_uri": "https://localhost:8080/",
          "height": 145
        },
        "outputId": "d1700c40-f55f-41ca-d9a8-7dfcac9e7ea5"
      },
      "source": [
        "anim = Animation()\n",
        "\n",
        "for k in range(1, step=1, stop = 10) \n",
        "\n",
        "    X = range(-Bx, stop = Bx, length = 100)\n",
        "    Y = range(-By, stop = By, length = 100)\n",
        "    Z = range(-Bz, stop = Bz, length = 100)\n",
        "    \n",
        "    Pyplot.plot(X,range(-w0, stop = w0, length = 100),[sqrt(w0^2-y^2) for x in X, y in range(-w0, stop = w0, length = 100)],st=:surface, c=:blues, opacity = 0.3,  leg = false, camera = (-30,30))\n",
        "    Pyplot.plot!(X,range(-w0, stop = w0, length = 100),[-sqrt(w0^2-y^2) for x in X, y in range(-w0, stop = w0, length = 100)],st=:surface, c = :blues, opacity = 0.3, leg = false, camera = (-30,30))\n",
        "    Pyplot.scatter!(position_over_time[3*k-2],position_over_time[3*k-1],position_over_time[3*k], title = \"Evolution of the system over time\", xlabel = \"x(m)\", ylabel = \"y(m)\", zlabel = \"z(m)\", xlim = (-Bx,Bx), ylim = (-By,By), zlim= (-Bz,Bz), marker_z = [1/v2max[j]*(speed_over_time[[3*k-2],:][1][j]^2 + speed_over_time[[3*k-1],:][1][j]^2 + speed_over_time[[3*k],:][1][j]^2) for j=1:N], leg = false)\n",
        "    Pyplot.plot!(range(-w0, stop = w0, length = 100),Y,[sqrt(w0^2-x^2) for x in range(-w0, stop = w0, length = 100), y in Y],st=:surface, c=:blues, opacity = 0.3, leg = false, camera = (-30,30) )\n",
        "    Pyplot.plot!(range(-w0, stop = w0, length = 100),Y,[-sqrt(w0^2-x^2) for x in range(-w0, stop = w0, length = 100), y in Y],st=:surface, c=:blues, opacity = 0.3, leg = false, camera = (-30,30))\n",
        "    Pyplot.frame(anim)\n",
        "end\n",
        "gif(anim, \"simulation_3D3Lasers_doppler.gif\", fps=1)"
      ],
      "execution_count": null,
      "outputs": [
        {
          "output_type": "error",
          "ename": "LoadError",
          "evalue": "ignored",
          "traceback": [
            "UndefVarError: Pyplot not defined",
            "",
            "Stacktrace:",
            " [1] top-level scope at In[388]:9",
            " [2] include_string(::Function, ::Module, ::String, ::String) at ./loading.jl:1091"
          ]
        }
      ]
    },
    {
      "cell_type": "code",
      "metadata": {
        "id": "CghLb-eIuopB",
        "colab": {
          "base_uri": "https://localhost:8080/",
          "height": 412
        },
        "outputId": "39925e1e-7992-4aaa-a255-bc1edcbeb1ce"
      },
      "source": [
        "#distribution of speed\n",
        "anim = Animation()\n",
        "\n",
        "for k in range(1, step=10000, stop=Nt+1)\n",
        "    #plot(xlim = (-Bx, Bx),ylim = (-1, 1))    \n",
        "    Plots.histogram([speed_over_time[j][1] speed_over_time[j][2] speed_over_time[j][3]],opacity = 0.6)\n",
        "    Plots.frame(anim)\n",
        "end\n",
        "gif(anim, \"speed_distribution_1D1Laser_doppler.gif\", fps=1)"
      ],
      "execution_count": null,
      "outputs": [
        {
          "output_type": "error",
          "ename": "LoadError",
          "evalue": "ignored",
          "traceback": [
            "Cannot convert Array{Array{Float64,1},2} to series data for plotting",
            "",
            "Stacktrace:",
            " [1] error(::String) at ./error.jl:33",
            " [2] _prepare_series_data(::Array{Array{Float64,1},2}) at /root/.julia/packages/RecipesPipeline/tkFmN/src/series.jl:8",
            " [3] _series_data_vector(::Array{Array{Float64,1},2}, ::Dict{Symbol,Any}) at /root/.julia/packages/RecipesPipeline/tkFmN/src/series.jl:27",
            " [4] macro expansion at /root/.julia/packages/RecipesPipeline/tkFmN/src/series.jl:139 [inlined]",
            " [5] apply_recipe(::Dict{Symbol,Any}, ::Type{RecipesPipeline.SliceIt}, ::Nothing, ::Array{Array{Float64,1},2}, ::Nothing) at /root/.julia/packages/RecipesBase/aQmWx/src/RecipesBase.jl:281",
            " [6] _process_userrecipes!(::Plots.Plot{Plots.GRBackend}, ::Dict{Symbol,Any}, ::Tuple{Array{Array{Float64,1},2}}) at /root/.julia/packages/RecipesPipeline/tkFmN/src/user_recipe.jl:35",
            " [7] recipe_pipeline!(::Plots.Plot{Plots.GRBackend}, ::Dict{Symbol,Any}, ::Tuple{Array{Array{Float64,1},2}}) at /root/.julia/packages/RecipesPipeline/tkFmN/src/RecipesPipeline.jl:69",
            " [8] _plot!(::Plots.Plot{Plots.GRBackend}, ::Dict{Symbol,Any}, ::Tuple{Array{Array{Float64,1},2}}) at /root/.julia/packages/Plots/fewot/src/plot.jl:167",
            " [9] plot(::Array{Array{Float64,1},2}; kw::Base.Iterators.Pairs{Symbol,Any,Tuple{Symbol,Symbol},NamedTuple{(:opacity, :seriestype),Tuple{Float64,Symbol}}}) at /root/.julia/packages/Plots/fewot/src/plot.jl:57",
            " [10] #histogram#353 at /root/.julia/packages/RecipesBase/aQmWx/src/RecipesBase.jl:402 [inlined]",
            " [11] top-level scope at ./In[39]:6",
            " [12] include_string(::Function, ::Module, ::String, ::String) at ./loading.jl:1091"
          ]
        }
      ]
    },
    {
      "cell_type": "markdown",
      "metadata": {
        "id": "dBsjTmwzIA0Y"
      },
      "source": [
        "After each simulation, we add the simulated atoms to a storage file"
      ]
    },
    {
      "cell_type": "code",
      "metadata": {
        "id": "UOr9WUiv0Gtc",
        "colab": {
          "base_uri": "https://localhost:8080/",
          "height": 34
        },
        "outputId": "c39e76e4-8c90-4748-b2cf-6557a17d36f5"
      },
      "source": [
        "#file storing the position\n",
        "file_position = string(\"position_T_\",T,\".txt\")#stores the position of the particles over time\n",
        "touch(file_position)\n",
        "\n",
        "#file storing the speed\n",
        "file_speed = string(\"speed_T_\",T,\".txt\") #stores the position of the particles over time\n",
        "touch(file_speed) #create the file if it does not exist"
      ],
      "execution_count": null,
      "outputs": [
        {
          "output_type": "execute_result",
          "data": {
            "text/plain": [
              "\"speed_T_1.txt\""
            ]
          },
          "metadata": {
            "tags": []
          },
          "execution_count": 8
        }
      ]
    },
    {
      "cell_type": "code",
      "metadata": {
        "id": "gVoqjfXZ0Rqq"
      },
      "source": [
        "#add the new positions to the file\n",
        "open(file_position, \"a\") do io\n",
        "       writedlm(io, position_over_time)\n",
        "       end\n",
        "       \n",
        "#add the new speeds to the file\n",
        "open(file_speed, \"a\") do io\n",
        "       writedlm(io, speed_over_time)\n",
        "       end"
      ],
      "execution_count": null,
      "outputs": []
    },
    {
      "cell_type": "markdown",
      "metadata": {
        "id": "2mBiQOb1OqFx"
      },
      "source": [
        "Let's plot the environment\n",
        "\n"
      ]
    },
    {
      "cell_type": "code",
      "metadata": {
        "id": "V-GFbFcbOpL3",
        "colab": {
          "base_uri": "https://localhost:8080/",
          "height": 178
        },
        "outputId": "283011f2-9519-4d30-a3e1-a3a27b5a3d84"
      },
      "source": [
        "#One way to visualize the intensity \n",
        "X = range(-Bx, stop = Bx, length = 1000)\n",
        "Y = range(-By, stop = By, length = 1000)\n",
        "Z = range(-Bz, stop = Bz, length = 1000)\n",
        "png(Plots.plot(X,Y,[norm(E_A1(x,y,0)) for x in X, y in Y],st=:surface,camera=(-30,30)), xlabel = \"x(m)\", ylabel = \"y(m)\", zlabel = \"I(x,y,0)\", title = \"Intensity of beam A1 over plane z = 0\", \"Intensity_A1\")\n",
        "png(Plots.plot(X,Y,[norm(E_A2(x,y,0)) for x in X, y in Y],st=:surface,camera=(-30,30)), xlabel = \"x(m)\", ylabel = \"y(m)\", zlabel = \"I(x,y,0)\", title = \"Intensity of beam A2 over plane z = 0\", \"Intensity_A2\")\n",
        "png(Plots.plot(X,Y,[norm(E_B1(x,y,0)) for x in X, y in Y],st=:surface,camera=(-30,30)), xlabel = \"x(m)\", ylabel = \"y(m)\", zlabel = \"I(x,y,0)\", title = \"Intensity of beam B1 over plane z = 0\", \"Intensity_B1\")\n",
        "png(Plots.plot(X,Y,[norm(E_B2(x,y,0)) for x in X, y in Y],st=:surface,camera=(-30,30)), xlabel = \"x(m)\", ylabel = \"y(m)\", zlabel = \"I(x,y,0)\", title = \"Intensity of beam B2 over plane z = 0\", \"Intensity_B2\")\n",
        "png(Plots.plot(Y,Z,[norm(E_C1(0,y,z)) for y in Y, z in Z],st=:surface,camera=(-30,30)), xlabel = \"y(m)\", ylabel = \"z(m)\", zlabel = \"I(0,y,z)\", title = \"Intensity of beam C1 over plane x = 0\", \"Intensity_C1\")\n",
        "png(Plots.plot(Y,Z,[norm(E_C2(0,y,z)) for y in Y, z in Z],st=:surface,camera=(-30,30)), xlabel = \"y(m)\", ylabel = \"z(m)\", zlabel = \"I(0,y,z)\", title = \"Intensity of beam C2 over plane x = 0\", \"Intensity_C2\")\n",
        "\n"
      ],
      "execution_count": null,
      "outputs": [
        {
          "output_type": "error",
          "ename": "LoadError",
          "evalue": "ignored",
          "traceback": [
            "MethodError: no method matching png(::Plots.Plot{Plots.GRBackend}, ::String; xlabel=\"x(m)\", ylabel=\"y(m)\", zlabel=\"I(x,y,0)\", title=\"Intensity of beam A1 over plane z = 0\")\nClosest candidates are:\n  png(::Plots.Plot, ::AbstractString) at /root/.julia/packages/Plots/GDtiZ/src/output.jl:4 got unsupported keyword arguments \"xlabel\", \"ylabel\", \"zlabel\", \"title\"",
            "",
            "Stacktrace:",
            " [1] top-level scope at In[135]:5",
            " [2] include_string(::Function, ::Module, ::String, ::String) at ./loading.jl:1091"
          ]
        }
      ]
    },
    {
      "cell_type": "code",
      "metadata": {
        "id": "xMRaV1bWrx5s",
        "colab": {
          "base_uri": "https://localhost:8080/",
          "height": 1000
        },
        "outputId": "21f461b2-8c19-4be4-9be1-f64aee07c6b8"
      },
      "source": [
        "X = range(-w0, stop = w0, length = 100)\n",
        "Y = range(-w0, stop = w0, length = 100)\n",
        "Z = range(-w0, stop = w0, length = 100)\n",
        "Plots.plot(X,Y,[sqrt(-x^2+w0^2) for x in X],st=:surface)\n",
        "Plots.plot!(X,Y,[-sqrt(-x^2+w0^2) for x in X],st=:surface)\n",
        "Plots.plot!(X,Y,[sqrt(-y^2+w0^2) for y in Y],st=:surface)\n",
        "Plots.plot!(X,Y,[-sqrt(-y^2+w0^2) for y in Y],st=:surface)\n",
        "Plots.plot!(Y,Z,[-sqrt(-z^2+w0^2) for z in Z],st=:surface)\n",
        "Plots.plot!(Y,Z,[-sqrt(-z^2+w0^2) for z in Z],st=:surface)"
      ],
      "execution_count": null,
      "outputs": [
        {
          "output_type": "execute_result",
          "data": {
            "image/svg+xml": "<?xml version=\"1.0\" encoding=\"utf-8\"?>\n<svg xmlns=\"http://www.w3.org/2000/svg\" xmlns:xlink=\"http://www.w3.org/1999/xlink\" width=\"600\" height=\"400\" viewBox=\"0 0 2400 1600\">\n<defs>\n  <clipPath id=\"clip050\">\n    <rect x=\"0\" y=\"0\" width=\"2400\" height=\"1600\"/>\n  </clipPath>\n</defs>\n<path clip-path=\"url(#clip050)\" d=\"\nM0 1600 L2400 1600 L2400 0 L0 0  Z\n  \" fill=\"#ffffff\" fill-rule=\"evenodd\" fill-opacity=\"1\"/>\n<defs>\n  <clipPath id=\"clip051\">\n    <rect x=\"480\" y=\"0\" width=\"1681\" height=\"1600\"/>\n  </clipPath>\n</defs>\n<defs>\n  <clipPath id=\"clip052\">\n    <rect x=\"208\" y=\"47\" width=\"1786\" height=\"1440\"/>\n  </clipPath>\n</defs>\n<path clip-path=\"url(#clip052)\" d=\"\nM208.149 944.732 L208.149 871.263 L1339.54 678.446 L1992.76 1256.9 L1992.76 1330.37 L861.36 1523.18 L208.149 944.732  Z\n  \" fill=\"#ffffff\" fill-rule=\"evenodd\" fill-opacity=\"1\"/>\n<polyline clip-path=\"url(#clip052)\" style=\"stroke:#000000; stroke-width:2; stroke-opacity:0.1; fill:none\" points=\"\n  297.223,1023.61 1428.62,830.795 \n  \"/>\n<polyline clip-path=\"url(#clip052)\" style=\"stroke:#000000; stroke-width:2; stroke-opacity:0.1; fill:none\" points=\"\n  1428.62,794.06 1428.62,757.326 \n  \"/>\n<polyline clip-path=\"url(#clip052)\" style=\"stroke:#000000; stroke-width:2; stroke-opacity:0.1; fill:none\" points=\"\n  415.989,1128.78 1547.38,935.968 \n  \"/>\n<polyline clip-path=\"url(#clip052)\" style=\"stroke:#000000; stroke-width:2; stroke-opacity:0.1; fill:none\" points=\"\n  1547.38,899.233 1547.38,862.499 \n  \"/>\n<polyline clip-path=\"url(#clip052)\" style=\"stroke:#000000; stroke-width:2; stroke-opacity:0.1; fill:none\" points=\"\n  534.755,1233.96 1666.15,1041.14 \n  \"/>\n<polyline clip-path=\"url(#clip052)\" style=\"stroke:#000000; stroke-width:2; stroke-opacity:0.1; fill:none\" points=\"\n  1666.15,1004.41 1666.15,967.671 \n  \"/>\n<polyline clip-path=\"url(#clip052)\" style=\"stroke:#000000; stroke-width:2; stroke-opacity:0.1; fill:none\" points=\"\n  653.52,1339.13 1784.92,1146.31 \n  \"/>\n<polyline clip-path=\"url(#clip052)\" style=\"stroke:#000000; stroke-width:2; stroke-opacity:0.1; fill:none\" points=\"\n  1784.92,1109.58 1784.92,1072.84 \n  \"/>\n<polyline clip-path=\"url(#clip052)\" style=\"stroke:#000000; stroke-width:2; stroke-opacity:0.1; fill:none\" points=\"\n  772.286,1444.3 1903.68,1251.49 \n  \"/>\n<polyline clip-path=\"url(#clip052)\" style=\"stroke:#000000; stroke-width:2; stroke-opacity:0.1; fill:none\" points=\"\n  1903.68,1214.75 1903.68,1178.02 \n  \"/>\n<polyline clip-path=\"url(#clip052)\" style=\"stroke:#000000; stroke-width:2; stroke-opacity:0.1; fill:none\" points=\"\n  1015.64,1496.89 362.43,918.439 \n  \"/>\n<polyline clip-path=\"url(#clip052)\" style=\"stroke:#000000; stroke-width:2; stroke-opacity:0.1; fill:none\" points=\"\n  362.43,881.704 362.43,844.97 \n  \"/>\n<polyline clip-path=\"url(#clip052)\" style=\"stroke:#000000; stroke-width:2; stroke-opacity:0.1; fill:none\" points=\"\n  1221.35,1461.83 568.138,883.382 \n  \"/>\n<polyline clip-path=\"url(#clip052)\" style=\"stroke:#000000; stroke-width:2; stroke-opacity:0.1; fill:none\" points=\"\n  568.138,846.647 568.138,809.912 \n  \"/>\n<polyline clip-path=\"url(#clip052)\" style=\"stroke:#000000; stroke-width:2; stroke-opacity:0.1; fill:none\" points=\"\n  1427.06,1426.77 773.847,848.324 \n  \"/>\n<polyline clip-path=\"url(#clip052)\" style=\"stroke:#000000; stroke-width:2; stroke-opacity:0.1; fill:none\" points=\"\n  773.847,811.589 773.847,774.855 \n  \"/>\n<polyline clip-path=\"url(#clip052)\" style=\"stroke:#000000; stroke-width:2; stroke-opacity:0.1; fill:none\" points=\"\n  1632.77,1391.72 979.555,813.266 \n  \"/>\n<polyline clip-path=\"url(#clip052)\" style=\"stroke:#000000; stroke-width:2; stroke-opacity:0.1; fill:none\" points=\"\n  979.555,776.532 979.555,739.797 \n  \"/>\n<polyline clip-path=\"url(#clip052)\" style=\"stroke:#000000; stroke-width:2; stroke-opacity:0.1; fill:none\" points=\"\n  1838.47,1356.66 1185.26,778.209 \n  \"/>\n<polyline clip-path=\"url(#clip052)\" style=\"stroke:#000000; stroke-width:2; stroke-opacity:0.1; fill:none\" points=\"\n  1185.26,741.474 1185.26,704.739 \n  \"/>\n<polyline clip-path=\"url(#clip052)\" style=\"stroke:#000000; stroke-width:2; stroke-opacity:0.1; fill:none\" points=\"\n  208.149,934.715 1339.54,741.898 \n  \"/>\n<polyline clip-path=\"url(#clip052)\" style=\"stroke:#000000; stroke-width:2; stroke-opacity:0.1; fill:none\" points=\"\n  1339.54,741.898 1992.76,1320.35 \n  \"/>\n<polyline clip-path=\"url(#clip052)\" style=\"stroke:#000000; stroke-width:2; stroke-opacity:0.1; fill:none\" points=\"\n  208.149,921.356 1339.54,728.54 \n  \"/>\n<polyline clip-path=\"url(#clip052)\" style=\"stroke:#000000; stroke-width:2; stroke-opacity:0.1; fill:none\" points=\"\n  1339.54,728.54 1992.76,1306.99 \n  \"/>\n<polyline clip-path=\"url(#clip052)\" style=\"stroke:#000000; stroke-width:2; stroke-opacity:0.1; fill:none\" points=\"\n  208.149,907.998 1339.54,715.181 \n  \"/>\n<polyline clip-path=\"url(#clip052)\" style=\"stroke:#000000; stroke-width:2; stroke-opacity:0.1; fill:none\" points=\"\n  1339.54,715.181 1992.76,1293.63 \n  \"/>\n<polyline clip-path=\"url(#clip052)\" style=\"stroke:#000000; stroke-width:2; stroke-opacity:0.1; fill:none\" points=\"\n  208.149,894.639 1339.54,701.822 \n  \"/>\n<polyline clip-path=\"url(#clip052)\" style=\"stroke:#000000; stroke-width:2; stroke-opacity:0.1; fill:none\" points=\"\n  1339.54,701.822 1992.76,1280.27 \n  \"/>\n<polyline clip-path=\"url(#clip052)\" style=\"stroke:#000000; stroke-width:2; stroke-opacity:0.1; fill:none\" points=\"\n  208.149,881.28 1339.54,688.463 \n  \"/>\n<polyline clip-path=\"url(#clip052)\" style=\"stroke:#000000; stroke-width:2; stroke-opacity:0.1; fill:none\" points=\"\n  1339.54,688.463 1992.76,1266.91 \n  \"/>\n<polyline clip-path=\"url(#clip050)\" style=\"stroke:#000000; stroke-width:4; stroke-opacity:1; fill:none\" points=\"\n  208.149,944.732 861.36,1523.18 \n  \"/>\n<polyline clip-path=\"url(#clip050)\" style=\"stroke:#000000; stroke-width:4; stroke-opacity:1; fill:none\" points=\"\n  861.36,1523.18 1992.76,1330.37 \n  \"/>\n<polyline clip-path=\"url(#clip050)\" style=\"stroke:#000000; stroke-width:4; stroke-opacity:1; fill:none\" points=\"\n  208.149,944.732 208.149,871.263 \n  \"/>\n<polyline clip-path=\"url(#clip050)\" style=\"stroke:#000000; stroke-width:4; stroke-opacity:1; fill:none\" points=\"\n  297.223,1023.61 310.8,1021.3 \n  \"/>\n<polyline clip-path=\"url(#clip050)\" style=\"stroke:#000000; stroke-width:4; stroke-opacity:1; fill:none\" points=\"\n  415.989,1128.78 429.566,1126.47 \n  \"/>\n<polyline clip-path=\"url(#clip050)\" style=\"stroke:#000000; stroke-width:4; stroke-opacity:1; fill:none\" points=\"\n  534.755,1233.96 548.331,1231.64 \n  \"/>\n<polyline clip-path=\"url(#clip050)\" style=\"stroke:#000000; stroke-width:4; stroke-opacity:1; fill:none\" points=\"\n  653.52,1339.13 667.097,1336.82 \n  \"/>\n<polyline clip-path=\"url(#clip050)\" style=\"stroke:#000000; stroke-width:4; stroke-opacity:1; fill:none\" points=\"\n  772.286,1444.3 785.863,1441.99 \n  \"/>\n<polyline clip-path=\"url(#clip050)\" style=\"stroke:#000000; stroke-width:4; stroke-opacity:1; fill:none\" points=\"\n  1015.64,1496.89 1007.8,1489.95 \n  \"/>\n<polyline clip-path=\"url(#clip050)\" style=\"stroke:#000000; stroke-width:4; stroke-opacity:1; fill:none\" points=\"\n  1221.35,1461.83 1213.51,1454.89 \n  \"/>\n<polyline clip-path=\"url(#clip050)\" style=\"stroke:#000000; stroke-width:4; stroke-opacity:1; fill:none\" points=\"\n  1427.06,1426.77 1419.22,1419.83 \n  \"/>\n<polyline clip-path=\"url(#clip050)\" style=\"stroke:#000000; stroke-width:4; stroke-opacity:1; fill:none\" points=\"\n  1632.77,1391.72 1624.93,1384.78 \n  \"/>\n<polyline clip-path=\"url(#clip050)\" style=\"stroke:#000000; stroke-width:4; stroke-opacity:1; fill:none\" points=\"\n  1838.47,1356.66 1830.64,1349.72 \n  \"/>\n<polyline clip-path=\"url(#clip050)\" style=\"stroke:#000000; stroke-width:4; stroke-opacity:1; fill:none\" points=\"\n  208.149,934.715 221.726,932.401 \n  \"/>\n<polyline clip-path=\"url(#clip050)\" style=\"stroke:#000000; stroke-width:4; stroke-opacity:1; fill:none\" points=\"\n  208.149,921.356 221.726,919.043 \n  \"/>\n<polyline clip-path=\"url(#clip050)\" style=\"stroke:#000000; stroke-width:4; stroke-opacity:1; fill:none\" points=\"\n  208.149,907.998 221.726,905.684 \n  \"/>\n<polyline clip-path=\"url(#clip050)\" style=\"stroke:#000000; stroke-width:4; stroke-opacity:1; fill:none\" points=\"\n  208.149,894.639 221.726,892.325 \n  \"/>\n<polyline clip-path=\"url(#clip050)\" style=\"stroke:#000000; stroke-width:4; stroke-opacity:1; fill:none\" points=\"\n  208.149,881.28 221.726,878.966 \n  \"/>\n<path clip-path=\"url(#clip050)\" d=\"M 0 0 M212.645 1060.26 L242.321 1060.26 L242.321 1064.19 L212.645 1064.19 L212.645 1060.26 Z\" fill=\"#000000\" fill-rule=\"evenodd\" fill-opacity=\"1\" /><path clip-path=\"url(#clip050)\" d=\"M 0 0 M257.39 1045.6 Q253.779 1045.6 251.95 1049.17 Q250.145 1052.71 250.145 1059.84 Q250.145 1066.95 251.95 1070.51 Q253.779 1074.05 257.39 1074.05 Q261.024 1074.05 262.83 1070.51 Q264.658 1066.95 264.658 1059.84 Q264.658 1052.71 262.83 1049.17 Q261.024 1045.6 257.39 1045.6 M257.39 1041.9 Q263.2 1041.9 266.256 1046.51 Q269.334 1051.09 269.334 1059.84 Q269.334 1068.57 266.256 1073.17 Q263.2 1077.76 257.39 1077.76 Q251.58 1077.76 248.501 1073.17 Q245.446 1068.57 245.446 1059.84 Q245.446 1051.09 248.501 1046.51 Q251.58 1041.9 257.39 1041.9 Z\" fill=\"#000000\" fill-rule=\"evenodd\" fill-opacity=\"1\" /><path clip-path=\"url(#clip050)\" d=\"M 0 0 M274.404 1071.2 L279.288 1071.2 L279.288 1077.08 L274.404 1077.08 L274.404 1071.2 Z\" fill=\"#000000\" fill-rule=\"evenodd\" fill-opacity=\"1\" /><path clip-path=\"url(#clip050)\" d=\"M 0 0 M294.357 1045.6 Q290.746 1045.6 288.918 1049.17 Q287.112 1052.71 287.112 1059.84 Q287.112 1066.95 288.918 1070.51 Q290.746 1074.05 294.357 1074.05 Q297.992 1074.05 299.797 1070.51 Q301.626 1066.95 301.626 1059.84 Q301.626 1052.71 299.797 1049.17 Q297.992 1045.6 294.357 1045.6 M294.357 1041.9 Q300.167 1041.9 303.223 1046.51 Q306.302 1051.09 306.302 1059.84 Q306.302 1068.57 303.223 1073.17 Q300.167 1077.76 294.357 1077.76 Q288.547 1077.76 285.468 1073.17 Q282.413 1068.57 282.413 1059.84 Q282.413 1051.09 285.468 1046.51 Q288.547 1041.9 294.357 1041.9 Z\" fill=\"#000000\" fill-rule=\"evenodd\" fill-opacity=\"1\" /><path clip-path=\"url(#clip050)\" d=\"M 0 0 M324.218 1046.6 L312.413 1065.05 L324.218 1065.05 L324.218 1046.6 M322.991 1042.52 L328.871 1042.52 L328.871 1065.05 L333.802 1065.05 L333.802 1068.94 L328.871 1068.94 L328.871 1077.08 L324.218 1077.08 L324.218 1068.94 L308.617 1068.94 L308.617 1064.42 L322.991 1042.52 Z\" fill=\"#000000\" fill-rule=\"evenodd\" fill-opacity=\"1\" /><path clip-path=\"url(#clip050)\" d=\"M 0 0 M332.452 1165.43 L362.128 1165.43 L362.128 1169.36 L332.452 1169.36 L332.452 1165.43 Z\" fill=\"#000000\" fill-rule=\"evenodd\" fill-opacity=\"1\" /><path clip-path=\"url(#clip050)\" d=\"M 0 0 M377.197 1150.78 Q373.586 1150.78 371.758 1154.34 Q369.952 1157.88 369.952 1165.01 Q369.952 1172.12 371.758 1175.68 Q373.586 1179.22 377.197 1179.22 Q380.832 1179.22 382.637 1175.68 Q384.466 1172.12 384.466 1165.01 Q384.466 1157.88 382.637 1154.34 Q380.832 1150.78 377.197 1150.78 M377.197 1147.07 Q383.007 1147.07 386.063 1151.68 Q389.142 1156.26 389.142 1165.01 Q389.142 1173.74 386.063 1178.34 Q383.007 1182.93 377.197 1182.93 Q371.387 1182.93 368.308 1178.34 Q365.253 1173.74 365.253 1165.01 Q365.253 1156.26 368.308 1151.68 Q371.387 1147.07 377.197 1147.07 Z\" fill=\"#000000\" fill-rule=\"evenodd\" fill-opacity=\"1\" /><path clip-path=\"url(#clip050)\" d=\"M 0 0 M394.211 1176.38 L399.095 1176.38 L399.095 1182.26 L394.211 1182.26 L394.211 1176.38 Z\" fill=\"#000000\" fill-rule=\"evenodd\" fill-opacity=\"1\" /><path clip-path=\"url(#clip050)\" d=\"M 0 0 M414.165 1150.78 Q410.554 1150.78 408.725 1154.34 Q406.919 1157.88 406.919 1165.01 Q406.919 1172.12 408.725 1175.68 Q410.554 1179.22 414.165 1179.22 Q417.799 1179.22 419.605 1175.68 Q421.433 1172.12 421.433 1165.01 Q421.433 1157.88 419.605 1154.34 Q417.799 1150.78 414.165 1150.78 M414.165 1147.07 Q419.975 1147.07 423.03 1151.68 Q426.109 1156.26 426.109 1165.01 Q426.109 1173.74 423.03 1178.34 Q419.975 1182.93 414.165 1182.93 Q408.355 1182.93 405.276 1178.34 Q402.22 1173.74 402.22 1165.01 Q402.22 1156.26 405.276 1151.68 Q408.355 1147.07 414.165 1147.07 Z\" fill=\"#000000\" fill-rule=\"evenodd\" fill-opacity=\"1\" /><path clip-path=\"url(#clip050)\" d=\"M 0 0 M435.206 1178.32 L451.526 1178.32 L451.526 1182.26 L429.581 1182.26 L429.581 1178.32 Q432.243 1175.57 436.827 1170.94 Q441.433 1166.28 442.614 1164.94 Q444.859 1162.42 445.739 1160.68 Q446.641 1158.92 446.641 1157.23 Q446.641 1154.48 444.697 1152.74 Q442.776 1151.01 439.674 1151.01 Q437.475 1151.01 435.021 1151.77 Q432.591 1152.53 429.813 1154.09 L429.813 1149.36 Q432.637 1148.23 435.091 1147.65 Q437.544 1147.07 439.581 1147.07 Q444.952 1147.07 448.146 1149.76 Q451.34 1152.44 451.34 1156.93 Q451.34 1159.06 450.53 1160.98 Q449.743 1162.88 447.637 1165.47 Q447.058 1166.15 443.956 1169.36 Q440.854 1172.56 435.206 1178.32 Z\" fill=\"#000000\" fill-rule=\"evenodd\" fill-opacity=\"1\" /><path clip-path=\"url(#clip050)\" d=\"M 0 0 M478.764 1255.95 Q475.153 1255.95 473.324 1259.51 Q471.519 1263.05 471.519 1270.18 Q471.519 1277.29 473.324 1280.86 Q475.153 1284.4 478.764 1284.4 Q482.398 1284.4 484.204 1280.86 Q486.033 1277.29 486.033 1270.18 Q486.033 1263.05 484.204 1259.51 Q482.398 1255.95 478.764 1255.95 M478.764 1252.24 Q484.574 1252.24 487.63 1256.85 Q490.708 1261.43 490.708 1270.18 Q490.708 1278.91 487.63 1283.52 Q484.574 1288.1 478.764 1288.1 Q472.954 1288.1 469.875 1283.52 Q466.82 1278.91 466.82 1270.18 Q466.82 1261.43 469.875 1256.85 Q472.954 1252.24 478.764 1252.24 Z\" fill=\"#000000\" fill-rule=\"evenodd\" fill-opacity=\"1\" /><path clip-path=\"url(#clip050)\" d=\"M 0 0 M495.778 1281.55 L500.662 1281.55 L500.662 1287.43 L495.778 1287.43 L495.778 1281.55 Z\" fill=\"#000000\" fill-rule=\"evenodd\" fill-opacity=\"1\" /><path clip-path=\"url(#clip050)\" d=\"M 0 0 M515.731 1255.95 Q512.12 1255.95 510.292 1259.51 Q508.486 1263.05 508.486 1270.18 Q508.486 1277.29 510.292 1280.86 Q512.12 1284.4 515.731 1284.4 Q519.366 1284.4 521.171 1280.86 Q523 1277.29 523 1270.18 Q523 1263.05 521.171 1259.51 Q519.366 1255.95 515.731 1255.95 M515.731 1252.24 Q521.542 1252.24 524.597 1256.85 Q527.676 1261.43 527.676 1270.18 Q527.676 1278.91 524.597 1283.52 Q521.542 1288.1 515.731 1288.1 Q509.921 1288.1 506.843 1283.52 Q503.787 1278.91 503.787 1270.18 Q503.787 1261.43 506.843 1256.85 Q509.921 1252.24 515.731 1252.24 Z\" fill=\"#000000\" fill-rule=\"evenodd\" fill-opacity=\"1\" /><path clip-path=\"url(#clip050)\" d=\"M 0 0 M542.745 1255.95 Q539.134 1255.95 537.305 1259.51 Q535.5 1263.05 535.5 1270.18 Q535.5 1277.29 537.305 1280.86 Q539.134 1284.4 542.745 1284.4 Q546.379 1284.4 548.185 1280.86 Q550.014 1277.29 550.014 1270.18 Q550.014 1263.05 548.185 1259.51 Q546.379 1255.95 542.745 1255.95 M542.745 1252.24 Q548.555 1252.24 551.611 1256.85 Q554.69 1261.43 554.69 1270.18 Q554.69 1278.91 551.611 1283.52 Q548.555 1288.1 542.745 1288.1 Q536.935 1288.1 533.856 1283.52 Q530.801 1278.91 530.801 1270.18 Q530.801 1261.43 533.856 1256.85 Q536.935 1252.24 542.745 1252.24 Z\" fill=\"#000000\" fill-rule=\"evenodd\" fill-opacity=\"1\" /><path clip-path=\"url(#clip050)\" d=\"M 0 0 M598.328 1361.12 Q594.717 1361.12 592.889 1364.69 Q591.083 1368.23 591.083 1375.36 Q591.083 1382.46 592.889 1386.03 Q594.717 1389.57 598.328 1389.57 Q601.963 1389.57 603.768 1386.03 Q605.597 1382.46 605.597 1375.36 Q605.597 1368.23 603.768 1364.69 Q601.963 1361.12 598.328 1361.12 M598.328 1357.42 Q604.139 1357.42 607.194 1362.02 Q610.273 1366.61 610.273 1375.36 Q610.273 1384.08 607.194 1388.69 Q604.139 1393.27 598.328 1393.27 Q592.518 1393.27 589.44 1388.69 Q586.384 1384.08 586.384 1375.36 Q586.384 1366.61 589.44 1362.02 Q592.518 1357.42 598.328 1357.42 Z\" fill=\"#000000\" fill-rule=\"evenodd\" fill-opacity=\"1\" /><path clip-path=\"url(#clip050)\" d=\"M 0 0 M615.342 1386.72 L620.226 1386.72 L620.226 1392.6 L615.342 1392.6 L615.342 1386.72 Z\" fill=\"#000000\" fill-rule=\"evenodd\" fill-opacity=\"1\" /><path clip-path=\"url(#clip050)\" d=\"M 0 0 M635.296 1361.12 Q631.685 1361.12 629.856 1364.69 Q628.05 1368.23 628.05 1375.36 Q628.05 1382.46 629.856 1386.03 Q631.685 1389.57 635.296 1389.57 Q638.93 1389.57 640.736 1386.03 Q642.564 1382.46 642.564 1375.36 Q642.564 1368.23 640.736 1364.69 Q638.93 1361.12 635.296 1361.12 M635.296 1357.42 Q641.106 1357.42 644.161 1362.02 Q647.24 1366.61 647.24 1375.36 Q647.24 1384.08 644.161 1388.69 Q641.106 1393.27 635.296 1393.27 Q629.486 1393.27 626.407 1388.69 Q623.351 1384.08 623.351 1375.36 Q623.351 1366.61 626.407 1362.02 Q629.486 1357.42 635.296 1357.42 Z\" fill=\"#000000\" fill-rule=\"evenodd\" fill-opacity=\"1\" /><path clip-path=\"url(#clip050)\" d=\"M 0 0 M656.337 1388.67 L672.657 1388.67 L672.657 1392.6 L650.712 1392.6 L650.712 1388.67 Q653.374 1385.91 657.958 1381.28 Q662.564 1376.63 663.745 1375.29 Q665.99 1372.76 666.87 1371.03 Q667.772 1369.27 667.772 1367.58 Q667.772 1364.82 665.828 1363.09 Q663.907 1361.35 660.805 1361.35 Q658.606 1361.35 656.152 1362.12 Q653.722 1362.88 650.944 1364.43 L650.944 1359.71 Q653.768 1358.57 656.222 1358 Q658.675 1357.42 660.712 1357.42 Q666.083 1357.42 669.277 1360.1 Q672.472 1362.79 672.472 1367.28 Q672.472 1369.41 671.661 1371.33 Q670.874 1373.23 668.768 1375.82 Q668.189 1376.49 665.087 1379.71 Q661.985 1382.9 656.337 1388.67 Z\" fill=\"#000000\" fill-rule=\"evenodd\" fill-opacity=\"1\" /><path clip-path=\"url(#clip050)\" d=\"M 0 0 M716.052 1466.29 Q712.441 1466.29 710.613 1469.86 Q708.807 1473.4 708.807 1480.53 Q708.807 1487.64 710.613 1491.2 Q712.441 1494.74 716.052 1494.74 Q719.687 1494.74 721.492 1491.2 Q723.321 1487.64 723.321 1480.53 Q723.321 1473.4 721.492 1469.86 Q719.687 1466.29 716.052 1466.29 M716.052 1462.59 Q721.863 1462.59 724.918 1467.2 Q727.997 1471.78 727.997 1480.53 Q727.997 1489.26 724.918 1493.86 Q721.863 1498.45 716.052 1498.45 Q710.242 1498.45 707.164 1493.86 Q704.108 1489.26 704.108 1480.53 Q704.108 1471.78 707.164 1467.2 Q710.242 1462.59 716.052 1462.59 Z\" fill=\"#000000\" fill-rule=\"evenodd\" fill-opacity=\"1\" /><path clip-path=\"url(#clip050)\" d=\"M 0 0 M733.066 1491.9 L737.951 1491.9 L737.951 1497.77 L733.066 1497.77 L733.066 1491.9 Z\" fill=\"#000000\" fill-rule=\"evenodd\" fill-opacity=\"1\" /><path clip-path=\"url(#clip050)\" d=\"M 0 0 M753.02 1466.29 Q749.409 1466.29 747.58 1469.86 Q745.775 1473.4 745.775 1480.53 Q745.775 1487.64 747.58 1491.2 Q749.409 1494.74 753.02 1494.74 Q756.654 1494.74 758.46 1491.2 Q760.288 1487.64 760.288 1480.53 Q760.288 1473.4 758.46 1469.86 Q756.654 1466.29 753.02 1466.29 M753.02 1462.59 Q758.83 1462.59 761.886 1467.2 Q764.964 1471.78 764.964 1480.53 Q764.964 1489.26 761.886 1493.86 Q758.83 1498.45 753.02 1498.45 Q747.21 1498.45 744.131 1493.86 Q741.075 1489.26 741.075 1480.53 Q741.075 1471.78 744.131 1467.2 Q747.21 1462.59 753.02 1462.59 Z\" fill=\"#000000\" fill-rule=\"evenodd\" fill-opacity=\"1\" /><path clip-path=\"url(#clip050)\" d=\"M 0 0 M782.881 1467.29 L771.075 1485.74 L782.881 1485.74 L782.881 1467.29 M781.654 1463.21 L787.534 1463.21 L787.534 1485.74 L792.464 1485.74 L792.464 1489.63 L787.534 1489.63 L787.534 1497.77 L782.881 1497.77 L782.881 1489.63 L767.279 1489.63 L767.279 1485.11 L781.654 1463.21 Z\" fill=\"#000000\" fill-rule=\"evenodd\" fill-opacity=\"1\" /><path clip-path=\"url(#clip050)\" d=\"M 0 0 M979.063 1533.53 L1008.74 1533.53 L1008.74 1537.47 L979.063 1537.47 L979.063 1533.53 Z\" fill=\"#000000\" fill-rule=\"evenodd\" fill-opacity=\"1\" /><path clip-path=\"url(#clip050)\" d=\"M 0 0 M1023.81 1518.88 Q1020.2 1518.88 1018.37 1522.44 Q1016.56 1525.99 1016.56 1533.12 Q1016.56 1540.22 1018.37 1543.79 Q1020.2 1547.33 1023.81 1547.33 Q1027.44 1547.33 1029.25 1543.79 Q1031.08 1540.22 1031.08 1533.12 Q1031.08 1525.99 1029.25 1522.44 Q1027.44 1518.88 1023.81 1518.88 M1023.81 1515.18 Q1029.62 1515.18 1032.67 1519.78 Q1035.75 1524.37 1035.75 1533.12 Q1035.75 1541.84 1032.67 1546.45 Q1029.62 1551.03 1023.81 1551.03 Q1018 1551.03 1014.92 1546.45 Q1011.86 1541.84 1011.86 1533.12 Q1011.86 1524.37 1014.92 1519.78 Q1018 1515.18 1023.81 1515.18 Z\" fill=\"#000000\" fill-rule=\"evenodd\" fill-opacity=\"1\" /><path clip-path=\"url(#clip050)\" d=\"M 0 0 M1040.82 1544.48 L1045.71 1544.48 L1045.71 1550.36 L1040.82 1550.36 L1040.82 1544.48 Z\" fill=\"#000000\" fill-rule=\"evenodd\" fill-opacity=\"1\" /><path clip-path=\"url(#clip050)\" d=\"M 0 0 M1060.78 1518.88 Q1057.16 1518.88 1055.34 1522.44 Q1053.53 1525.99 1053.53 1533.12 Q1053.53 1540.22 1055.34 1543.79 Q1057.16 1547.33 1060.78 1547.33 Q1064.41 1547.33 1066.22 1543.79 Q1068.04 1540.22 1068.04 1533.12 Q1068.04 1525.99 1066.22 1522.44 Q1064.41 1518.88 1060.78 1518.88 M1060.78 1515.18 Q1066.59 1515.18 1069.64 1519.78 Q1072.72 1524.37 1072.72 1533.12 Q1072.72 1541.84 1069.64 1546.45 Q1066.59 1551.03 1060.78 1551.03 Q1054.97 1551.03 1051.89 1546.45 Q1048.83 1541.84 1048.83 1533.12 Q1048.83 1524.37 1051.89 1519.78 Q1054.97 1515.18 1060.78 1515.18 Z\" fill=\"#000000\" fill-rule=\"evenodd\" fill-opacity=\"1\" /><path clip-path=\"url(#clip050)\" d=\"M 0 0 M1090.64 1519.88 L1078.83 1538.32 L1090.64 1538.32 L1090.64 1519.88 M1089.41 1515.8 L1095.29 1515.8 L1095.29 1538.32 L1100.22 1538.32 L1100.22 1542.21 L1095.29 1542.21 L1095.29 1550.36 L1090.64 1550.36 L1090.64 1542.21 L1075.03 1542.21 L1075.03 1537.7 L1089.41 1515.8 Z\" fill=\"#000000\" fill-rule=\"evenodd\" fill-opacity=\"1\" /><path clip-path=\"url(#clip050)\" d=\"M 0 0 M1185.81 1498.48 L1215.49 1498.48 L1215.49 1502.41 L1185.81 1502.41 L1185.81 1498.48 Z\" fill=\"#000000\" fill-rule=\"evenodd\" fill-opacity=\"1\" /><path clip-path=\"url(#clip050)\" d=\"M 0 0 M1230.56 1483.82 Q1226.95 1483.82 1225.12 1487.39 Q1223.31 1490.93 1223.31 1498.06 Q1223.31 1505.16 1225.12 1508.73 Q1226.95 1512.27 1230.56 1512.27 Q1234.19 1512.27 1236 1508.73 Q1237.83 1505.16 1237.83 1498.06 Q1237.83 1490.93 1236 1487.39 Q1234.19 1483.82 1230.56 1483.82 M1230.56 1480.12 Q1236.37 1480.12 1239.42 1484.73 Q1242.5 1489.31 1242.5 1498.06 Q1242.5 1506.79 1239.42 1511.39 Q1236.37 1515.98 1230.56 1515.98 Q1224.75 1515.98 1221.67 1511.39 Q1218.61 1506.79 1218.61 1498.06 Q1218.61 1489.31 1221.67 1484.73 Q1224.75 1480.12 1230.56 1480.12 Z\" fill=\"#000000\" fill-rule=\"evenodd\" fill-opacity=\"1\" /><path clip-path=\"url(#clip050)\" d=\"M 0 0 M1247.57 1509.42 L1252.46 1509.42 L1252.46 1515.3 L1247.57 1515.3 L1247.57 1509.42 Z\" fill=\"#000000\" fill-rule=\"evenodd\" fill-opacity=\"1\" /><path clip-path=\"url(#clip050)\" d=\"M 0 0 M1267.53 1483.82 Q1263.91 1483.82 1262.09 1487.39 Q1260.28 1490.93 1260.28 1498.06 Q1260.28 1505.16 1262.09 1508.73 Q1263.91 1512.27 1267.53 1512.27 Q1271.16 1512.27 1272.97 1508.73 Q1274.79 1505.16 1274.79 1498.06 Q1274.79 1490.93 1272.97 1487.39 Q1271.16 1483.82 1267.53 1483.82 M1267.53 1480.12 Q1273.34 1480.12 1276.39 1484.73 Q1279.47 1489.31 1279.47 1498.06 Q1279.47 1506.79 1276.39 1511.39 Q1273.34 1515.98 1267.53 1515.98 Q1261.72 1515.98 1258.64 1511.39 Q1255.58 1506.79 1255.58 1498.06 Q1255.58 1489.31 1258.64 1484.73 Q1261.72 1480.12 1267.53 1480.12 Z\" fill=\"#000000\" fill-rule=\"evenodd\" fill-opacity=\"1\" /><path clip-path=\"url(#clip050)\" d=\"M 0 0 M1288.57 1511.37 L1304.89 1511.37 L1304.89 1515.3 L1282.94 1515.3 L1282.94 1511.37 Q1285.6 1508.61 1290.19 1503.98 Q1294.79 1499.33 1295.97 1497.99 Q1298.22 1495.47 1299.1 1493.73 Q1300 1491.97 1300 1490.28 Q1300 1487.53 1298.06 1485.79 Q1296.14 1484.05 1293.03 1484.05 Q1290.84 1484.05 1288.38 1484.82 Q1285.95 1485.58 1283.17 1487.13 L1283.17 1482.41 Q1286 1481.28 1288.45 1480.7 Q1290.91 1480.12 1292.94 1480.12 Q1298.31 1480.12 1301.51 1482.8 Q1304.7 1485.49 1304.7 1489.98 Q1304.7 1492.11 1303.89 1494.03 Q1303.1 1495.93 1301 1498.52 Q1300.42 1499.19 1297.32 1502.41 Q1294.22 1505.6 1288.57 1511.37 Z\" fill=\"#000000\" fill-rule=\"evenodd\" fill-opacity=\"1\" /><path clip-path=\"url(#clip050)\" d=\"M 0 0 M1419.07 1448.76 Q1415.46 1448.76 1413.63 1452.33 Q1411.82 1455.87 1411.82 1463 Q1411.82 1470.11 1413.63 1473.67 Q1415.46 1477.21 1419.07 1477.21 Q1422.7 1477.21 1424.51 1473.67 Q1426.34 1470.11 1426.34 1463 Q1426.34 1455.87 1424.51 1452.33 Q1422.7 1448.76 1419.07 1448.76 M1419.07 1445.06 Q1424.88 1445.06 1427.93 1449.67 Q1431.01 1454.25 1431.01 1463 Q1431.01 1471.73 1427.93 1476.33 Q1424.88 1480.92 1419.07 1480.92 Q1413.26 1480.92 1410.18 1476.33 Q1407.12 1471.73 1407.12 1463 Q1407.12 1454.25 1410.18 1449.67 Q1413.26 1445.06 1419.07 1445.06 Z\" fill=\"#000000\" fill-rule=\"evenodd\" fill-opacity=\"1\" /><path clip-path=\"url(#clip050)\" d=\"M 0 0 M1436.08 1474.37 L1440.97 1474.37 L1440.97 1480.25 L1436.08 1480.25 L1436.08 1474.37 Z\" fill=\"#000000\" fill-rule=\"evenodd\" fill-opacity=\"1\" /><path clip-path=\"url(#clip050)\" d=\"M 0 0 M1456.03 1448.76 Q1452.42 1448.76 1450.6 1452.33 Q1448.79 1455.87 1448.79 1463 Q1448.79 1470.11 1450.6 1473.67 Q1452.42 1477.21 1456.03 1477.21 Q1459.67 1477.21 1461.47 1473.67 Q1463.3 1470.11 1463.3 1463 Q1463.3 1455.87 1461.47 1452.33 Q1459.67 1448.76 1456.03 1448.76 M1456.03 1445.06 Q1461.85 1445.06 1464.9 1449.67 Q1467.98 1454.25 1467.98 1463 Q1467.98 1471.73 1464.9 1476.33 Q1461.85 1480.92 1456.03 1480.92 Q1450.22 1480.92 1447.15 1476.33 Q1444.09 1471.73 1444.09 1463 Q1444.09 1454.25 1447.15 1449.67 Q1450.22 1445.06 1456.03 1445.06 Z\" fill=\"#000000\" fill-rule=\"evenodd\" fill-opacity=\"1\" /><path clip-path=\"url(#clip050)\" d=\"M 0 0 M1483.05 1448.76 Q1479.44 1448.76 1477.61 1452.33 Q1475.8 1455.87 1475.8 1463 Q1475.8 1470.11 1477.61 1473.67 Q1479.44 1477.21 1483.05 1477.21 Q1486.68 1477.21 1488.49 1473.67 Q1490.32 1470.11 1490.32 1463 Q1490.32 1455.87 1488.49 1452.33 Q1486.68 1448.76 1483.05 1448.76 M1483.05 1445.06 Q1488.86 1445.06 1491.91 1449.67 Q1494.99 1454.25 1494.99 1463 Q1494.99 1471.73 1491.91 1476.33 Q1488.86 1480.92 1483.05 1480.92 Q1477.24 1480.92 1474.16 1476.33 Q1471.1 1471.73 1471.1 1463 Q1471.1 1454.25 1474.16 1449.67 Q1477.24 1445.06 1483.05 1445.06 Z\" fill=\"#000000\" fill-rule=\"evenodd\" fill-opacity=\"1\" /><path clip-path=\"url(#clip050)\" d=\"M 0 0 M1625.57 1413.71 Q1621.96 1413.71 1620.13 1417.27 Q1618.33 1420.81 1618.33 1427.94 Q1618.33 1435.05 1620.13 1438.61 Q1621.96 1442.16 1625.57 1442.16 Q1629.21 1442.16 1631.01 1438.61 Q1632.84 1435.05 1632.84 1427.94 Q1632.84 1420.81 1631.01 1417.27 Q1629.21 1413.71 1625.57 1413.71 M1625.57 1410 Q1631.38 1410 1634.44 1414.61 Q1637.52 1419.19 1637.52 1427.94 Q1637.52 1436.67 1634.44 1441.28 Q1631.38 1445.86 1625.57 1445.86 Q1619.76 1445.86 1616.69 1441.28 Q1613.63 1436.67 1613.63 1427.94 Q1613.63 1419.19 1616.69 1414.61 Q1619.76 1410 1625.57 1410 Z\" fill=\"#000000\" fill-rule=\"evenodd\" fill-opacity=\"1\" /><path clip-path=\"url(#clip050)\" d=\"M 0 0 M1642.59 1439.31 L1647.47 1439.31 L1647.47 1445.19 L1642.59 1445.19 L1642.59 1439.31 Z\" fill=\"#000000\" fill-rule=\"evenodd\" fill-opacity=\"1\" /><path clip-path=\"url(#clip050)\" d=\"M 0 0 M1662.54 1413.71 Q1658.93 1413.71 1657.1 1417.27 Q1655.3 1420.81 1655.3 1427.94 Q1655.3 1435.05 1657.1 1438.61 Q1658.93 1442.16 1662.54 1442.16 Q1666.18 1442.16 1667.98 1438.61 Q1669.81 1435.05 1669.81 1427.94 Q1669.81 1420.81 1667.98 1417.27 Q1666.18 1413.71 1662.54 1413.71 M1662.54 1410 Q1668.35 1410 1671.41 1414.61 Q1674.49 1419.19 1674.49 1427.94 Q1674.49 1436.67 1671.41 1441.28 Q1668.35 1445.86 1662.54 1445.86 Q1656.73 1445.86 1653.65 1441.28 Q1650.6 1436.67 1650.6 1427.94 Q1650.6 1419.19 1653.65 1414.61 Q1656.73 1410 1662.54 1410 Z\" fill=\"#000000\" fill-rule=\"evenodd\" fill-opacity=\"1\" /><path clip-path=\"url(#clip050)\" d=\"M 0 0 M1683.58 1441.25 L1699.9 1441.25 L1699.9 1445.19 L1677.96 1445.19 L1677.96 1441.25 Q1680.62 1438.5 1685.2 1433.87 Q1689.81 1429.22 1690.99 1427.87 Q1693.24 1425.35 1694.12 1423.61 Q1695.02 1421.86 1695.02 1420.17 Q1695.02 1417.41 1693.07 1415.67 Q1691.15 1413.94 1688.05 1413.94 Q1685.85 1413.94 1683.4 1414.7 Q1680.97 1415.47 1678.19 1417.02 L1678.19 1412.3 Q1681.01 1411.16 1683.47 1410.58 Q1685.92 1410 1687.96 1410 Q1693.33 1410 1696.52 1412.69 Q1699.72 1415.37 1699.72 1419.86 Q1699.72 1421.99 1698.91 1423.92 Q1698.12 1425.81 1696.01 1428.41 Q1695.44 1429.08 1692.33 1432.3 Q1689.23 1435.49 1683.58 1441.25 Z\" fill=\"#000000\" fill-rule=\"evenodd\" fill-opacity=\"1\" /><path clip-path=\"url(#clip050)\" d=\"M 0 0 M1830.24 1378.65 Q1826.63 1378.65 1824.8 1382.21 Q1823 1385.76 1823 1392.89 Q1823 1399.99 1824.8 1403.56 Q1826.63 1407.1 1830.24 1407.1 Q1833.88 1407.1 1835.68 1403.56 Q1837.51 1399.99 1837.51 1392.89 Q1837.51 1385.76 1835.68 1382.21 Q1833.88 1378.65 1830.24 1378.65 M1830.24 1374.95 Q1836.05 1374.95 1839.11 1379.55 Q1842.19 1384.14 1842.19 1392.89 Q1842.19 1401.61 1839.11 1406.22 Q1836.05 1410.8 1830.24 1410.8 Q1824.43 1410.8 1821.35 1406.22 Q1818.3 1401.61 1818.3 1392.89 Q1818.3 1384.14 1821.35 1379.55 Q1824.43 1374.95 1830.24 1374.95 Z\" fill=\"#000000\" fill-rule=\"evenodd\" fill-opacity=\"1\" /><path clip-path=\"url(#clip050)\" d=\"M 0 0 M1847.25 1404.25 L1852.14 1404.25 L1852.14 1410.13 L1847.25 1410.13 L1847.25 1404.25 Z\" fill=\"#000000\" fill-rule=\"evenodd\" fill-opacity=\"1\" /><path clip-path=\"url(#clip050)\" d=\"M 0 0 M1867.21 1378.65 Q1863.6 1378.65 1861.77 1382.21 Q1859.96 1385.76 1859.96 1392.89 Q1859.96 1399.99 1861.77 1403.56 Q1863.6 1407.1 1867.21 1407.1 Q1870.84 1407.1 1872.65 1403.56 Q1874.48 1399.99 1874.48 1392.89 Q1874.48 1385.76 1872.65 1382.21 Q1870.84 1378.65 1867.21 1378.65 M1867.21 1374.95 Q1873.02 1374.95 1876.07 1379.55 Q1879.15 1384.14 1879.15 1392.89 Q1879.15 1401.61 1876.07 1406.22 Q1873.02 1410.8 1867.21 1410.8 Q1861.4 1410.8 1858.32 1406.22 Q1855.26 1401.61 1855.26 1392.89 Q1855.26 1384.14 1858.32 1379.55 Q1861.4 1374.95 1867.21 1374.95 Z\" fill=\"#000000\" fill-rule=\"evenodd\" fill-opacity=\"1\" /><path clip-path=\"url(#clip050)\" d=\"M 0 0 M1897.07 1379.65 L1885.26 1398.09 L1897.07 1398.09 L1897.07 1379.65 M1895.84 1375.57 L1901.72 1375.57 L1901.72 1398.09 L1906.65 1398.09 L1906.65 1401.98 L1901.72 1401.98 L1901.72 1410.13 L1897.07 1410.13 L1897.07 1401.98 L1881.47 1401.98 L1881.47 1397.47 L1895.84 1375.57 Z\" fill=\"#000000\" fill-rule=\"evenodd\" fill-opacity=\"1\" /><path clip-path=\"url(#clip050)\" d=\"M 0 0 M62.9921 935.166 L92.6679 935.166 L92.6679 939.102 L62.9921 939.102 L62.9921 935.166 Z\" fill=\"#000000\" fill-rule=\"evenodd\" fill-opacity=\"1\" /><path clip-path=\"url(#clip050)\" d=\"M 0 0 M107.737 920.514 Q104.126 920.514 102.297 924.079 Q100.492 927.62 100.492 934.75 Q100.492 941.856 102.297 945.421 Q104.126 948.963 107.737 948.963 Q111.371 948.963 113.177 945.421 Q115.006 941.856 115.006 934.75 Q115.006 927.62 113.177 924.079 Q111.371 920.514 107.737 920.514 M107.737 916.81 Q113.547 916.81 116.603 921.417 Q119.682 926 119.682 934.75 Q119.682 943.477 116.603 948.083 Q113.547 952.666 107.737 952.666 Q101.927 952.666 98.8484 948.083 Q95.7929 943.477 95.7929 934.75 Q95.7929 926 98.8484 921.417 Q101.927 916.81 107.737 916.81 Z\" fill=\"#000000\" fill-rule=\"evenodd\" fill-opacity=\"1\" /><path clip-path=\"url(#clip050)\" d=\"M 0 0 M124.751 946.116 L129.635 946.116 L129.635 951.995 L124.751 951.995 L124.751 946.116 Z\" fill=\"#000000\" fill-rule=\"evenodd\" fill-opacity=\"1\" /><path clip-path=\"url(#clip050)\" d=\"M 0 0 M144.705 920.514 Q141.094 920.514 139.265 924.079 Q137.459 927.62 137.459 934.75 Q137.459 941.856 139.265 945.421 Q141.094 948.963 144.705 948.963 Q148.339 948.963 150.144 945.421 Q151.973 941.856 151.973 934.75 Q151.973 927.62 150.144 924.079 Q148.339 920.514 144.705 920.514 M144.705 916.81 Q150.515 916.81 153.57 921.417 Q156.649 926 156.649 934.75 Q156.649 943.477 153.57 948.083 Q150.515 952.666 144.705 952.666 Q138.894 952.666 135.816 948.083 Q132.76 943.477 132.76 934.75 Q132.76 926 135.816 921.417 Q138.894 916.81 144.705 916.81 Z\" fill=\"#000000\" fill-rule=\"evenodd\" fill-opacity=\"1\" /><path clip-path=\"url(#clip050)\" d=\"M 0 0 M174.566 921.509 L162.76 939.958 L174.566 939.958 L174.566 921.509 M173.339 917.435 L179.218 917.435 L179.218 939.958 L184.149 939.958 L184.149 943.847 L179.218 943.847 L179.218 951.995 L174.566 951.995 L174.566 943.847 L158.964 943.847 L158.964 939.333 L173.339 917.435 Z\" fill=\"#000000\" fill-rule=\"evenodd\" fill-opacity=\"1\" /><path clip-path=\"url(#clip050)\" d=\"M 0 0 M65.0754 921.808 L94.7512 921.808 L94.7512 925.743 L65.0754 925.743 L65.0754 921.808 Z\" fill=\"#000000\" fill-rule=\"evenodd\" fill-opacity=\"1\" /><path clip-path=\"url(#clip050)\" d=\"M 0 0 M109.821 907.155 Q106.209 907.155 104.381 910.72 Q102.575 914.262 102.575 921.391 Q102.575 928.498 104.381 932.062 Q106.209 935.604 109.821 935.604 Q113.455 935.604 115.26 932.062 Q117.089 928.498 117.089 921.391 Q117.089 914.262 115.26 910.72 Q113.455 907.155 109.821 907.155 M109.821 903.451 Q115.631 903.451 118.686 908.058 Q121.765 912.641 121.765 921.391 Q121.765 930.118 118.686 934.724 Q115.631 939.308 109.821 939.308 Q104.01 939.308 100.932 934.724 Q97.8762 930.118 97.8762 921.391 Q97.8762 912.641 100.932 908.058 Q104.01 903.451 109.821 903.451 Z\" fill=\"#000000\" fill-rule=\"evenodd\" fill-opacity=\"1\" /><path clip-path=\"url(#clip050)\" d=\"M 0 0 M126.834 932.757 L131.719 932.757 L131.719 938.636 L126.834 938.636 L126.834 932.757 Z\" fill=\"#000000\" fill-rule=\"evenodd\" fill-opacity=\"1\" /><path clip-path=\"url(#clip050)\" d=\"M 0 0 M146.788 907.155 Q143.177 907.155 141.348 910.72 Q139.543 914.262 139.543 921.391 Q139.543 928.498 141.348 932.062 Q143.177 935.604 146.788 935.604 Q150.422 935.604 152.228 932.062 Q154.056 928.498 154.056 921.391 Q154.056 914.262 152.228 910.72 Q150.422 907.155 146.788 907.155 M146.788 903.451 Q152.598 903.451 155.654 908.058 Q158.732 912.641 158.732 921.391 Q158.732 930.118 155.654 934.724 Q152.598 939.308 146.788 939.308 Q140.978 939.308 137.899 934.724 Q134.844 930.118 134.844 921.391 Q134.844 912.641 137.899 908.058 Q140.978 903.451 146.788 903.451 Z\" fill=\"#000000\" fill-rule=\"evenodd\" fill-opacity=\"1\" /><path clip-path=\"url(#clip050)\" d=\"M 0 0 M167.83 934.701 L184.149 934.701 L184.149 938.636 L162.205 938.636 L162.205 934.701 Q164.867 931.947 169.45 927.317 Q174.056 922.664 175.237 921.322 Q177.482 918.799 178.362 917.062 Q179.265 915.303 179.265 913.613 Q179.265 910.859 177.32 909.123 Q175.399 907.387 172.297 907.387 Q170.098 907.387 167.644 908.15 Q165.214 908.914 162.436 910.465 L162.436 905.743 Q165.26 904.609 167.714 904.03 Q170.167 903.451 172.205 903.451 Q177.575 903.451 180.769 906.137 Q183.964 908.822 183.964 913.312 Q183.964 915.442 183.154 917.363 Q182.366 919.261 180.26 921.854 Q179.681 922.525 176.579 925.743 Q173.478 928.937 167.83 934.701 Z\" fill=\"#000000\" fill-rule=\"evenodd\" fill-opacity=\"1\" /><path clip-path=\"url(#clip050)\" d=\"M 0 0 M108.223 893.796 Q104.612 893.796 102.784 897.361 Q100.978 900.903 100.978 908.032 Q100.978 915.139 102.784 918.704 Q104.612 922.245 108.223 922.245 Q111.858 922.245 113.663 918.704 Q115.492 915.139 115.492 908.032 Q115.492 900.903 113.663 897.361 Q111.858 893.796 108.223 893.796 M108.223 890.093 Q114.034 890.093 117.089 894.699 Q120.168 899.282 120.168 908.032 Q120.168 916.759 117.089 921.366 Q114.034 925.949 108.223 925.949 Q102.413 925.949 99.3345 921.366 Q96.279 916.759 96.279 908.032 Q96.279 899.282 99.3345 894.699 Q102.413 890.093 108.223 890.093 Z\" fill=\"#000000\" fill-rule=\"evenodd\" fill-opacity=\"1\" /><path clip-path=\"url(#clip050)\" d=\"M 0 0 M125.237 919.398 L130.121 919.398 L130.121 925.278 L125.237 925.278 L125.237 919.398 Z\" fill=\"#000000\" fill-rule=\"evenodd\" fill-opacity=\"1\" /><path clip-path=\"url(#clip050)\" d=\"M 0 0 M145.191 893.796 Q141.58 893.796 139.751 897.361 Q137.945 900.903 137.945 908.032 Q137.945 915.139 139.751 918.704 Q141.58 922.245 145.191 922.245 Q148.825 922.245 150.631 918.704 Q152.459 915.139 152.459 908.032 Q152.459 900.903 150.631 897.361 Q148.825 893.796 145.191 893.796 M145.191 890.093 Q151.001 890.093 154.056 894.699 Q157.135 899.282 157.135 908.032 Q157.135 916.759 154.056 921.366 Q151.001 925.949 145.191 925.949 Q139.381 925.949 136.302 921.366 Q133.246 916.759 133.246 908.032 Q133.246 899.282 136.302 894.699 Q139.381 890.093 145.191 890.093 Z\" fill=\"#000000\" fill-rule=\"evenodd\" fill-opacity=\"1\" /><path clip-path=\"url(#clip050)\" d=\"M 0 0 M172.205 893.796 Q168.593 893.796 166.765 897.361 Q164.959 900.903 164.959 908.032 Q164.959 915.139 166.765 918.704 Q168.593 922.245 172.205 922.245 Q175.839 922.245 177.644 918.704 Q179.473 915.139 179.473 908.032 Q179.473 900.903 177.644 897.361 Q175.839 893.796 172.205 893.796 M172.205 890.093 Q178.015 890.093 181.07 894.699 Q184.149 899.282 184.149 908.032 Q184.149 916.759 181.07 921.366 Q178.015 925.949 172.205 925.949 Q166.394 925.949 163.316 921.366 Q160.26 916.759 160.26 908.032 Q160.26 899.282 163.316 894.699 Q166.394 890.093 172.205 890.093 Z\" fill=\"#000000\" fill-rule=\"evenodd\" fill-opacity=\"1\" /><path clip-path=\"url(#clip050)\" d=\"M 0 0 M109.821 880.438 Q106.209 880.438 104.381 884.002 Q102.575 887.544 102.575 894.674 Q102.575 901.78 104.381 905.345 Q106.209 908.887 109.821 908.887 Q113.455 908.887 115.26 905.345 Q117.089 901.78 117.089 894.674 Q117.089 887.544 115.26 884.002 Q113.455 880.438 109.821 880.438 M109.821 876.734 Q115.631 876.734 118.686 881.34 Q121.765 885.924 121.765 894.674 Q121.765 903.4 118.686 908.007 Q115.631 912.59 109.821 912.59 Q104.01 912.59 100.932 908.007 Q97.8762 903.4 97.8762 894.674 Q97.8762 885.924 100.932 881.34 Q104.01 876.734 109.821 876.734 Z\" fill=\"#000000\" fill-rule=\"evenodd\" fill-opacity=\"1\" /><path clip-path=\"url(#clip050)\" d=\"M 0 0 M126.834 906.039 L131.719 906.039 L131.719 911.919 L126.834 911.919 L126.834 906.039 Z\" fill=\"#000000\" fill-rule=\"evenodd\" fill-opacity=\"1\" /><path clip-path=\"url(#clip050)\" d=\"M 0 0 M146.788 880.438 Q143.177 880.438 141.348 884.002 Q139.543 887.544 139.543 894.674 Q139.543 901.78 141.348 905.345 Q143.177 908.887 146.788 908.887 Q150.422 908.887 152.228 905.345 Q154.056 901.78 154.056 894.674 Q154.056 887.544 152.228 884.002 Q150.422 880.438 146.788 880.438 M146.788 876.734 Q152.598 876.734 155.654 881.34 Q158.732 885.924 158.732 894.674 Q158.732 903.4 155.654 908.007 Q152.598 912.59 146.788 912.59 Q140.978 912.59 137.899 908.007 Q134.844 903.4 134.844 894.674 Q134.844 885.924 137.899 881.34 Q140.978 876.734 146.788 876.734 Z\" fill=\"#000000\" fill-rule=\"evenodd\" fill-opacity=\"1\" /><path clip-path=\"url(#clip050)\" d=\"M 0 0 M167.83 907.984 L184.149 907.984 L184.149 911.919 L162.205 911.919 L162.205 907.984 Q164.867 905.229 169.45 900.6 Q174.056 895.947 175.237 894.604 Q177.482 892.081 178.362 890.345 Q179.265 888.586 179.265 886.896 Q179.265 884.141 177.32 882.405 Q175.399 880.669 172.297 880.669 Q170.098 880.669 167.644 881.433 Q165.214 882.197 162.436 883.748 L162.436 879.026 Q165.26 877.891 167.714 877.313 Q170.167 876.734 172.205 876.734 Q177.575 876.734 180.769 879.419 Q183.964 882.104 183.964 886.595 Q183.964 888.725 183.154 890.646 Q182.366 892.544 180.26 895.137 Q179.681 895.808 176.579 899.025 Q173.478 902.22 167.83 907.984 Z\" fill=\"#000000\" fill-rule=\"evenodd\" fill-opacity=\"1\" /><path clip-path=\"url(#clip050)\" d=\"M 0 0 M107.737 867.079 Q104.126 867.079 102.297 870.644 Q100.492 874.185 100.492 881.315 Q100.492 888.421 102.297 891.986 Q104.126 895.528 107.737 895.528 Q111.371 895.528 113.177 891.986 Q115.006 888.421 115.006 881.315 Q115.006 874.185 113.177 870.644 Q111.371 867.079 107.737 867.079 M107.737 863.375 Q113.547 863.375 116.603 867.982 Q119.682 872.565 119.682 881.315 Q119.682 890.042 116.603 894.648 Q113.547 899.231 107.737 899.231 Q101.927 899.231 98.8484 894.648 Q95.7929 890.042 95.7929 881.315 Q95.7929 872.565 98.8484 867.982 Q101.927 863.375 107.737 863.375 Z\" fill=\"#000000\" fill-rule=\"evenodd\" fill-opacity=\"1\" /><path clip-path=\"url(#clip050)\" d=\"M 0 0 M124.751 892.681 L129.635 892.681 L129.635 898.56 L124.751 898.56 L124.751 892.681 Z\" fill=\"#000000\" fill-rule=\"evenodd\" fill-opacity=\"1\" /><path clip-path=\"url(#clip050)\" d=\"M 0 0 M144.705 867.079 Q141.094 867.079 139.265 870.644 Q137.459 874.185 137.459 881.315 Q137.459 888.421 139.265 891.986 Q141.094 895.528 144.705 895.528 Q148.339 895.528 150.144 891.986 Q151.973 888.421 151.973 881.315 Q151.973 874.185 150.144 870.644 Q148.339 867.079 144.705 867.079 M144.705 863.375 Q150.515 863.375 153.57 867.982 Q156.649 872.565 156.649 881.315 Q156.649 890.042 153.57 894.648 Q150.515 899.231 144.705 899.231 Q138.894 899.231 135.816 894.648 Q132.76 890.042 132.76 881.315 Q132.76 872.565 135.816 867.982 Q138.894 863.375 144.705 863.375 Z\" fill=\"#000000\" fill-rule=\"evenodd\" fill-opacity=\"1\" /><path clip-path=\"url(#clip050)\" d=\"M 0 0 M174.566 868.074 L162.76 886.523 L174.566 886.523 L174.566 868.074 M173.339 864 L179.218 864 L179.218 886.523 L184.149 886.523 L184.149 890.412 L179.218 890.412 L179.218 898.56 L174.566 898.56 L174.566 890.412 L158.964 890.412 L158.964 885.898 L173.339 864 Z\" fill=\"#000000\" fill-rule=\"evenodd\" fill-opacity=\"1\" /><defs>\n  <clipPath id=\"clip053\">\n    <rect x=\"2160\" y=\"47\" width=\"73\" height=\"1440\"/>\n  </clipPath>\n</defs>\n<g clip-path=\"url(#clip053)\">\n<image width=\"72\" height=\"1439\" xlink:href=\"data:image/png;base64,\niVBORw0KGgoAAAANSUhEUgAAAEgAAAWfCAYAAAAI7rB3AAAMWUlEQVR4nO3dwY0rRxAFwaZQ/lsh\nL6XfLQtUeSQPERYsEg8c9MyQ+/n3/v0O/+uvb/8Bv06gIFAQKAgU5r5/v/03/DQLCgIFgYJAQaAw\n7/359t/w0ywoCBQECgIFR41gQUGgIFAQKAgU5rmKrSwoCBQECgIFgcK86yq2saAgUBAoCBQcNYIF\nBYGCQEGgIFBwFQsWFAQKAgWBgvtBwYKCQEGgIFAQKMxx1FhZUBAoCBQECgIFN8yCBQWBgkBBoDDH\nDbOVBQWBgkBBoCBQmHP/+fbf8NMsKAgUBAoCBYGCxz7BgoJAQaAgUHDDLFhQECgIFAQKAgVXsWBB\nQaAgUBAouB8ULCgIFAQKAgWBwnwcNVYWFAQKAgWBgkBhzvWfWTYWFAQKAgWBgqNGsKAgUBAoCBQE\nCo4awYKCQEGgIFAQKHjDLFhQECgIFAQK83HUWFlQECgIFAQKAgXvSQcLCgIFgYJAwVEjWFAQKAgU\nBAoCBc/mgwUFgYJAQaAgUHAWCxYUBAoCBYGCo0awoCBQECgIFAQKjhrBgoJAQaAgUBAozLn323/D\nT7OgIFAQKAgUHDWCBQWBgkBBoCBQ8NgnWFAQKAgUBAo+pIMFBYGCQEGgIFCYj6caKwsKAgWBgkBB\noOAsFiwoCBQECgIFL1AFCwoCBYGCQEGg4IZZsKAgUBAoCBTcDwoWFAQKAgWBgkDBDbNgQUGgIFAQ\nKAgUXMWCBQWBgkBBoOB788GCgkBBoCBQECg4agQLCgIFgYJAQaDgKhYsKAgUBAoCBR/SwYKCQEGg\nIFAQKLiKBQsKAgWBgkBhzvMhvbGgIFAQKAgUBAqOGsGCgkBBoCBQECi4igULCgIFgYJAwYd0sKAg\nUBAoCBQECnPu+/bf8NMsKAgUBAoCBYGCs1iwoCBQECgIFBw1ggUFgYJAQaAgUHDUCBYUBAoCBYGC\no0awoCBQECgIFAQKc5w0VhYUBAoCBYGCQGHOcxbbWFAQKAgUBAqOGsGCgkBBoCBQECi4igULCgIF\ngYJAQaAwfohzZ0FBoCBQECg4agQLCgIFgYJAQaDgKhYsKAgUBAoChTn38+2/4adZUBAoCBQECgKF\nec9VbGNBQaAgUBAoCBTcMAsWFAQKAgWBghtmwYKCQEGgIFAQKMy7Gm3UCQIFgYJAwVEjWFAQKAgU\nBAoChTmeza8sKAgUBAoCBYHCPGexlQUFgYJAQaAwx1ONlTpBoCBQECgIFBw1ggUFgYJAQaAgUPDY\nJ1hQECgIFAQKXgMO6gSBgkBBoCBQ8J50sKAgUBAoCBQ81QgWFAQKAgWBgkBh3tNoo04QKAgUBAoC\nBTfMggUFgYJAQaDghlmwoCBQECgIFAQKc9wwW6kTBAoCBYGCQMFZLFhQECgIFAQKPqSDBQWBgkBB\noCBQ8L35YEFBoCBQECj43nxQJwgUBAoCBYHCPEeNlQUFgYJAQaAgUPDYJ1hQECgIFAQK/jNLUCcI\nFAQKAgWBghtmwYKCQEGgIFAQKLhhFiwoCBQECgIFR41gQUGgIFAQKAgUvCcd1AkCBYGCQMFRI1hQ\nECgIFAQKAgVPNYIFBYGCQEGgIFBwFgsWFAQKAgWBgn+fFSwoCBQECgIFgYJ/ZRzUCQIFgYJAQaDg\nhlmwoCBQECgIFDybDxYUBAoCBYGCQMFRI1hQECgIFAQKc31IrywoCBQECgIFgYLvzQd1gkBBoCBQ\nECi4YRYsKAgUBAoCBR/SwYKCQEGgIFAQKHjDLFhQECgIFAQKjhrBgoJAQaAgUBAouIoFCwoCBYGC\nQEGg4NdfgjpBoCBQECjM9VRjZUFBoCBQECgIFNwwCxYUBAoCBYGCQMFVLFhQECgIFAQKPqSDBQWB\ngkBBoCBQ8BtmwYKCQEGgIFBw1AgWFAQKAgWBgkDBVSxYUBAoCBQECgIFX2YJ6gSBgkBBoODLLMGC\ngkBBoCBQECi4YRYsKAgUBAoCBYGCq1iwoCBQECgIFLwGHCwoCBQECgIFgYKjRrCgIFAQKAgU5h0f\n0hsLCgIFgYJAQaDghlmwoCBQECgIFAQKbpgFCwoCBYGCQMFRI1hQECgIFAQKAgVHjWBBQaAgUBAo\nCBScxYIFBYGCQEGg4KgRLCgIFAQKAgWBgqtYsKAgUBAoCBTm+jLLyoKCQEGgIFAQKDhqBAsKAgWB\ngkBBoODZfLCgIFAQKAgU5r1v/wm/zYKCQEGgIFAQKDhqBAsKAgWBgkDBD00GCwoCBYGCQEGg4KgR\nLCgIFAQKAgWBgjfMggUFgYJAQaDgyyzBgoJAQaAgUBAoeMMsWFAQKAgUBAoCBY99ggUFgYJAQaDg\nqUawoCBQECgIFAQKHvsECwoCBYGCQMH9oGBBQaAgUBAoCBQ8mw8WFAQKAgWBgkDBDbNgQUGgIFAQ\nKHg2HywoCBQECgIFgcLcb/8FP86CgkBBoCBQECg4iwULCgIFgYJAwRtmwYKCQEGgIFAQKLhhFiwo\nCBQECgIF94OCBQWBgkBBoCBQcNQIFhQECgIFgYJAwVksWFAQKAgUBAqezQcLCgIFgYJAQaAwfvxl\nZ0FBoCBQECgIFJzFggUFgYJAQaDg2XywoCBQECgIFAQKns0HCwoCBYGCQMFRI1hQECgIFAQKAgVH\njWBBQaAgUBAoCBTmesVsZUFBoCBQECi4YRYsKAgUBAoCBYGCG2bBgoJAQaAgUHDUCBYUBAoCBYGC\nQGGepxorCwoCBYGCQEGgMPe4YbaxoCBQECgIFLxAFSwoCBQECgIFgYIfmgwWFAQKAgWBgkDBD00G\nCwoCBYGCQMGz+WBBQaAgUBAoCBS8Jx0sKAgUBAoCBd84DBYUBAoCBYGCQMFRI1hQECgIFAQKAgXv\nSQcLCgIFgYJAwWvAwYKCQEGgIFAQKDhqBAsKAgWBgkBBoOA96WBBQaAgUBAo+ImuYEFBoCBQECgI\nFNwwCxYUBAoCBYGCZ/PBgoJAQaAgUBAoOGoECwoCBYGCQEGg4CwWLCgIFAQKAgVHjWBBQaAgUBAo\nCBRcxYIFBYGCQEGgIFBwwyxYUBAoCBQECo4awYKCQEGgIFAQKDhqBAsKAgWBgkDBUSNYUBAoCBQE\nCgIFP9EVLCgIFAQKAgWBgv8vFiwoCBQECgIFN8yCBQWBgkBBoCBQmHdcxjYWFAQKAgWBgkDBWSxY\nUBAoCBQECp7NBwsKAgWBgkBBoODZfLCgIFAQKAgU3A8KFhQECgIFgYJAwbP5YEFBoCBQECgIFJzF\nggUFgYJAQaDgJ7qCBQWBgkBBoCBQmOsVs5UFBYGCQEGg4AWqYEFBoCBQECgIFOY5aqwsKAgUBAoC\nBYGCs1iwoCBQECgIFDzVCBYUBAoCBYGCQMEbZsGCgkBBoCBQECjM9ZXMlQUFgYJAQaDghlmwoCBQ\nECgIFAQKfv0lWFAQKAgUBApeoAoWFAQKAgWBgkDBU41gQUGgIFAQKAgU3DALFhQECgIFgcLc45bZ\nxoKCQEGgIFAQKLhhFiwoCBQECgIFgYKrWLCgIFAQKAgUPNUIFhQECgIFgYJAwWOfYEFBoCBQECjM\n/ThqbCwoCBQECgIFgYKjRrCgIFAQKAgUBArzXMVWFhQECgIFgYKjRrCgIFAQKAgUBApzP65iGwsK\nAgWBgkBBoOAsFiwoCBQECgIFTzWCBQWBgkBBoCBQcNQIFhQECgIFgYIP6WBBQaAgUBAoCBQ8mw8W\nFAQKAgWBgkBh3vnz7b/hp1lQECgIFAQKbpgFCwoCBYGCQEGg4A2zYEFBoCBQECjMfe4HbSwoCBQE\nCgIFgYKjRrCgIFAQKAgUBApzPZtfWVAQKAgUBAqOGsGCgkBBoCBQECg4agQLCgIFgYJAQaAw7zmL\nbSwoCBQECgIFN8yCBQWBgkBBoCBQ8J50sKAgUBAoCBQcNYIFBYGCQEGgIFCY56ixsqAgUBAoCBQE\nCs5iwYKCQEGgIFCY6wWqlQUFgYJAQaAgUPCb9sGCgkBBoCBQECj4MkuwoCBQECgIFDzVCBYUBAoC\nBYGCQMFRI1hQECgIFAQKPqSDBQWBgkBBoCBQ8Gw+WFAQKAgUBAoCBWexYEFBoCBQECjM8Wx+ZUFB\noCBQECgIFBw1ggUFgYJAQaAgUPCedLCgIFAQKAgU5jhqrCwoCBQECgIFgYI3zIIFBYGCQEGg4Nl8\nsKAgUBAoCBQECm6YBQsKAgWBgkBBoDDvvG//DT/NgoJAQaAgUHDDLFhQECgIFAQKAoU5jhorCwoC\nBYGCQOE/LrLuTX/wFc8AAAAASUVORK5CYII=\n\" transform=\"translate(2161, 47)\"/>\n</g>\n<path clip-path=\"url(#clip050)\" d=\"M 0 0 M2268.76 1417.89 L2298.43 1417.89 L2298.43 1421.82 L2268.76 1421.82 L2268.76 1417.89 Z\" fill=\"#000000\" fill-rule=\"evenodd\" fill-opacity=\"1\" /><path clip-path=\"url(#clip050)\" d=\"M 0 0 M2313.5 1403.23 Q2309.89 1403.23 2308.06 1406.8 Q2306.26 1410.34 2306.26 1417.47 Q2306.26 1424.58 2308.06 1428.14 Q2309.89 1431.68 2313.5 1431.68 Q2317.14 1431.68 2318.94 1428.14 Q2320.77 1424.58 2320.77 1417.47 Q2320.77 1410.34 2318.94 1406.8 Q2317.14 1403.23 2313.5 1403.23 M2313.5 1399.53 Q2319.31 1399.53 2322.37 1404.14 Q2325.45 1408.72 2325.45 1417.47 Q2325.45 1426.2 2322.37 1430.8 Q2319.31 1435.39 2313.5 1435.39 Q2307.69 1435.39 2304.61 1430.8 Q2301.56 1426.2 2301.56 1417.47 Q2301.56 1408.72 2304.61 1404.14 Q2307.69 1399.53 2313.5 1399.53 Z\" fill=\"#000000\" fill-rule=\"evenodd\" fill-opacity=\"1\" /><path clip-path=\"url(#clip050)\" d=\"M 0 0 M2330.51 1428.83 L2335.4 1428.83 L2335.4 1434.71 L2330.51 1434.71 L2330.51 1428.83 Z\" fill=\"#000000\" fill-rule=\"evenodd\" fill-opacity=\"1\" /><path clip-path=\"url(#clip050)\" d=\"M 0 0 M2350.47 1403.23 Q2346.86 1403.23 2345.03 1406.8 Q2343.22 1410.34 2343.22 1417.47 Q2343.22 1424.58 2345.03 1428.14 Q2346.86 1431.68 2350.47 1431.68 Q2354.1 1431.68 2355.91 1428.14 Q2357.74 1424.58 2357.74 1417.47 Q2357.74 1410.34 2355.91 1406.8 Q2354.1 1403.23 2350.47 1403.23 M2350.47 1399.53 Q2356.28 1399.53 2359.33 1404.14 Q2362.41 1408.72 2362.41 1417.47 Q2362.41 1426.2 2359.33 1430.8 Q2356.28 1435.39 2350.47 1435.39 Q2344.66 1435.39 2341.58 1430.8 Q2338.52 1426.2 2338.52 1417.47 Q2338.52 1408.72 2341.58 1404.14 Q2344.66 1399.53 2350.47 1399.53 Z\" fill=\"#000000\" fill-rule=\"evenodd\" fill-opacity=\"1\" /><path clip-path=\"url(#clip050)\" d=\"M 0 0 M2367.53 1400.15 L2385.88 1400.15 L2385.88 1404.09 L2371.81 1404.09 L2371.81 1412.56 Q2372.83 1412.21 2373.85 1412.05 Q2374.87 1411.87 2375.88 1411.87 Q2381.67 1411.87 2385.05 1415.04 Q2388.43 1418.21 2388.43 1423.63 Q2388.43 1429.2 2384.96 1432.31 Q2381.49 1435.39 2375.17 1435.39 Q2372.99 1435.39 2370.72 1435.02 Q2368.48 1434.64 2366.07 1433.9 L2366.07 1429.2 Q2368.15 1430.34 2370.38 1430.89 Q2372.6 1431.45 2375.07 1431.45 Q2379.08 1431.45 2381.42 1429.34 Q2383.76 1427.24 2383.76 1423.63 Q2383.76 1420.02 2381.42 1417.91 Q2379.08 1415.8 2375.07 1415.8 Q2373.2 1415.8 2371.32 1416.22 Q2369.47 1416.64 2367.53 1417.52 L2367.53 1400.15 Z\" fill=\"#000000\" fill-rule=\"evenodd\" fill-opacity=\"1\" /><path clip-path=\"url(#clip050)\" d=\"M 0 0 M2403.5 1403.23 Q2399.89 1403.23 2398.06 1406.8 Q2396.26 1410.34 2396.26 1417.47 Q2396.26 1424.58 2398.06 1428.14 Q2399.89 1431.68 2403.5 1431.68 Q2407.13 1431.68 2408.94 1428.14 Q2410.77 1424.58 2410.77 1417.47 Q2410.77 1410.34 2408.94 1406.8 Q2407.13 1403.23 2403.5 1403.23 M2403.5 1399.53 Q2409.31 1399.53 2412.37 1404.14 Q2415.44 1408.72 2415.44 1417.47 Q2415.44 1426.2 2412.37 1430.8 Q2409.31 1435.39 2403.5 1435.39 Q2397.69 1435.39 2394.61 1430.8 Q2391.56 1426.2 2391.56 1417.47 Q2391.56 1408.72 2394.61 1404.14 Q2397.69 1399.53 2403.5 1399.53 Z\" fill=\"#000000\" fill-rule=\"evenodd\" fill-opacity=\"1\" /><path clip-path=\"url(#clip050)\" d=\"M 0 0 M2268.76 1090.78 L2298.43 1090.78 L2298.43 1094.71 L2268.76 1094.71 L2268.76 1090.78 Z\" fill=\"#000000\" fill-rule=\"evenodd\" fill-opacity=\"1\" /><path clip-path=\"url(#clip050)\" d=\"M 0 0 M2313.5 1076.12 Q2309.89 1076.12 2308.06 1079.69 Q2306.26 1083.23 2306.26 1090.36 Q2306.26 1097.47 2308.06 1101.03 Q2309.89 1104.57 2313.5 1104.57 Q2317.14 1104.57 2318.94 1101.03 Q2320.77 1097.47 2320.77 1090.36 Q2320.77 1083.23 2318.94 1079.69 Q2317.14 1076.12 2313.5 1076.12 M2313.5 1072.42 Q2319.31 1072.42 2322.37 1077.03 Q2325.45 1081.61 2325.45 1090.36 Q2325.45 1099.09 2322.37 1103.69 Q2319.31 1108.28 2313.5 1108.28 Q2307.69 1108.28 2304.61 1103.69 Q2301.56 1099.09 2301.56 1090.36 Q2301.56 1081.61 2304.61 1077.03 Q2307.69 1072.42 2313.5 1072.42 Z\" fill=\"#000000\" fill-rule=\"evenodd\" fill-opacity=\"1\" /><path clip-path=\"url(#clip050)\" d=\"M 0 0 M2330.51 1101.73 L2335.4 1101.73 L2335.4 1107.61 L2330.51 1107.61 L2330.51 1101.73 Z\" fill=\"#000000\" fill-rule=\"evenodd\" fill-opacity=\"1\" /><path clip-path=\"url(#clip050)\" d=\"M 0 0 M2350.47 1076.12 Q2346.86 1076.12 2345.03 1079.69 Q2343.22 1083.23 2343.22 1090.36 Q2343.22 1097.47 2345.03 1101.03 Q2346.86 1104.57 2350.47 1104.57 Q2354.1 1104.57 2355.91 1101.03 Q2357.74 1097.47 2357.74 1090.36 Q2357.74 1083.23 2355.91 1079.69 Q2354.1 1076.12 2350.47 1076.12 M2350.47 1072.42 Q2356.28 1072.42 2359.33 1077.03 Q2362.41 1081.61 2362.41 1090.36 Q2362.41 1099.09 2359.33 1103.69 Q2356.28 1108.28 2350.47 1108.28 Q2344.66 1108.28 2341.58 1103.69 Q2338.52 1099.09 2338.52 1090.36 Q2338.52 1081.61 2341.58 1077.03 Q2344.66 1072.42 2350.47 1072.42 Z\" fill=\"#000000\" fill-rule=\"evenodd\" fill-opacity=\"1\" /><path clip-path=\"url(#clip050)\" d=\"M 0 0 M2371.51 1103.67 L2387.83 1103.67 L2387.83 1107.61 L2365.89 1107.61 L2365.89 1103.67 Q2368.55 1100.92 2373.13 1096.29 Q2377.74 1091.63 2378.92 1090.29 Q2381.16 1087.77 2382.04 1086.03 Q2382.95 1084.27 2382.95 1082.58 Q2382.95 1079.83 2381 1078.09 Q2379.08 1076.36 2375.98 1076.36 Q2373.78 1076.36 2371.32 1077.12 Q2368.89 1077.88 2366.12 1079.43 L2366.12 1074.71 Q2368.94 1073.58 2371.39 1073 Q2373.85 1072.42 2375.88 1072.42 Q2381.26 1072.42 2384.45 1075.11 Q2387.64 1077.79 2387.64 1082.28 Q2387.64 1084.41 2386.83 1086.33 Q2386.05 1088.23 2383.94 1090.82 Q2383.36 1091.49 2380.26 1094.71 Q2377.16 1097.91 2371.51 1103.67 Z\" fill=\"#000000\" fill-rule=\"evenodd\" fill-opacity=\"1\" /><path clip-path=\"url(#clip050)\" d=\"M 0 0 M2392.95 1073.05 L2411.3 1073.05 L2411.3 1076.98 L2397.23 1076.98 L2397.23 1085.45 Q2398.25 1085.11 2399.26 1084.94 Q2400.28 1084.76 2401.3 1084.76 Q2407.09 1084.76 2410.47 1087.93 Q2413.85 1091.1 2413.85 1096.52 Q2413.85 1102.1 2410.38 1105.2 Q2406.9 1108.28 2400.58 1108.28 Q2398.41 1108.28 2396.14 1107.91 Q2393.89 1107.54 2391.49 1106.8 L2391.49 1102.1 Q2393.57 1103.23 2395.79 1103.79 Q2398.01 1104.34 2400.49 1104.34 Q2404.5 1104.34 2406.83 1102.24 Q2409.17 1100.13 2409.17 1096.52 Q2409.17 1092.91 2406.83 1090.8 Q2404.5 1088.69 2400.49 1088.69 Q2398.62 1088.69 2396.74 1089.11 Q2394.89 1089.53 2392.95 1090.41 L2392.95 1073.05 Z\" fill=\"#000000\" fill-rule=\"evenodd\" fill-opacity=\"1\" /><path clip-path=\"url(#clip050)\" d=\"M 0 0 M2280.7 749.016 Q2277.09 749.016 2275.26 752.581 Q2273.45 756.122 2273.45 763.252 Q2273.45 770.358 2275.26 773.923 Q2277.09 777.465 2280.7 777.465 Q2284.33 777.465 2286.14 773.923 Q2287.97 770.358 2287.97 763.252 Q2287.97 756.122 2286.14 752.581 Q2284.33 749.016 2280.7 749.016 M2280.7 745.312 Q2286.51 745.312 2289.57 749.919 Q2292.64 754.502 2292.64 763.252 Q2292.64 771.979 2289.57 776.585 Q2286.51 781.168 2280.7 781.168 Q2274.89 781.168 2271.81 776.585 Q2268.76 771.979 2268.76 763.252 Q2268.76 754.502 2271.81 749.919 Q2274.89 745.312 2280.7 745.312 Z\" fill=\"#000000\" fill-rule=\"evenodd\" fill-opacity=\"1\" /><path clip-path=\"url(#clip050)\" d=\"M 0 0 M2280.7 421.907 Q2277.09 421.907 2275.26 425.472 Q2273.45 429.014 2273.45 436.143 Q2273.45 443.25 2275.26 446.815 Q2277.09 450.356 2280.7 450.356 Q2284.33 450.356 2286.14 446.815 Q2287.97 443.25 2287.97 436.143 Q2287.97 429.014 2286.14 425.472 Q2284.33 421.907 2280.7 421.907 M2280.7 418.204 Q2286.51 418.204 2289.57 422.81 Q2292.64 427.393 2292.64 436.143 Q2292.64 444.87 2289.57 449.477 Q2286.51 454.06 2280.7 454.06 Q2274.89 454.06 2271.81 449.477 Q2268.76 444.87 2268.76 436.143 Q2268.76 427.393 2271.81 422.81 Q2274.89 418.204 2280.7 418.204 Z\" fill=\"#000000\" fill-rule=\"evenodd\" fill-opacity=\"1\" /><path clip-path=\"url(#clip050)\" d=\"M 0 0 M2297.71 447.509 L2302.6 447.509 L2302.6 453.389 L2297.71 453.389 L2297.71 447.509 Z\" fill=\"#000000\" fill-rule=\"evenodd\" fill-opacity=\"1\" /><path clip-path=\"url(#clip050)\" d=\"M 0 0 M2317.67 421.907 Q2314.06 421.907 2312.23 425.472 Q2310.42 429.014 2310.42 436.143 Q2310.42 443.25 2312.23 446.815 Q2314.06 450.356 2317.67 450.356 Q2321.3 450.356 2323.11 446.815 Q2324.94 443.25 2324.94 436.143 Q2324.94 429.014 2323.11 425.472 Q2321.3 421.907 2317.67 421.907 M2317.67 418.204 Q2323.48 418.204 2326.53 422.81 Q2329.61 427.393 2329.61 436.143 Q2329.61 444.87 2326.53 449.477 Q2323.48 454.06 2317.67 454.06 Q2311.86 454.06 2308.78 449.477 Q2305.72 444.87 2305.72 436.143 Q2305.72 427.393 2308.78 422.81 Q2311.86 418.204 2317.67 418.204 Z\" fill=\"#000000\" fill-rule=\"evenodd\" fill-opacity=\"1\" /><path clip-path=\"url(#clip050)\" d=\"M 0 0 M2338.71 449.454 L2355.03 449.454 L2355.03 453.389 L2333.08 453.389 L2333.08 449.454 Q2335.75 446.699 2340.33 442.069 Q2344.94 437.417 2346.12 436.074 Q2348.36 433.551 2349.24 431.815 Q2350.14 430.056 2350.14 428.366 Q2350.14 425.611 2348.2 423.875 Q2346.28 422.139 2343.18 422.139 Q2340.98 422.139 2338.52 422.903 Q2336.09 423.667 2333.32 425.218 L2333.32 420.495 Q2336.14 419.361 2338.59 418.782 Q2341.05 418.204 2343.08 418.204 Q2348.45 418.204 2351.65 420.889 Q2354.84 423.574 2354.84 428.065 Q2354.84 430.194 2354.03 432.116 Q2353.25 434.014 2351.14 436.606 Q2350.56 437.278 2347.46 440.495 Q2344.36 443.69 2338.71 449.454 Z\" fill=\"#000000\" fill-rule=\"evenodd\" fill-opacity=\"1\" /><path clip-path=\"url(#clip050)\" d=\"M 0 0 M2360.14 418.829 L2378.5 418.829 L2378.5 422.764 L2364.43 422.764 L2364.43 431.236 Q2365.45 430.889 2366.46 430.727 Q2367.48 430.542 2368.5 430.542 Q2374.29 430.542 2377.67 433.713 Q2381.05 436.884 2381.05 442.301 Q2381.05 447.879 2377.57 450.981 Q2374.1 454.06 2367.78 454.06 Q2365.61 454.06 2363.34 453.69 Q2361.09 453.319 2358.69 452.579 L2358.69 447.879 Q2360.77 449.014 2362.99 449.569 Q2365.21 450.125 2367.69 450.125 Q2371.7 450.125 2374.03 448.018 Q2376.37 445.912 2376.37 442.301 Q2376.37 438.69 2374.03 436.583 Q2371.7 434.477 2367.69 434.477 Q2365.82 434.477 2363.94 434.893 Q2362.09 435.31 2360.14 436.19 L2360.14 418.829 Z\" fill=\"#000000\" fill-rule=\"evenodd\" fill-opacity=\"1\" /><path clip-path=\"url(#clip050)\" d=\"M 0 0 M2280.7 94.799 Q2277.09 94.799 2275.26 98.3638 Q2273.45 101.905 2273.45 109.035 Q2273.45 116.141 2275.26 119.706 Q2277.09 123.248 2280.7 123.248 Q2284.33 123.248 2286.14 119.706 Q2287.97 116.141 2287.97 109.035 Q2287.97 101.905 2286.14 98.3638 Q2284.33 94.799 2280.7 94.799 M2280.7 91.0953 Q2286.51 91.0953 2289.57 95.7017 Q2292.64 100.285 2292.64 109.035 Q2292.64 117.762 2289.57 122.368 Q2286.51 126.952 2280.7 126.952 Q2274.89 126.952 2271.81 122.368 Q2268.76 117.762 2268.76 109.035 Q2268.76 100.285 2271.81 95.7017 Q2274.89 91.0953 2280.7 91.0953 Z\" fill=\"#000000\" fill-rule=\"evenodd\" fill-opacity=\"1\" /><path clip-path=\"url(#clip050)\" d=\"M 0 0 M2297.71 120.401 L2302.6 120.401 L2302.6 126.28 L2297.71 126.28 L2297.71 120.401 Z\" fill=\"#000000\" fill-rule=\"evenodd\" fill-opacity=\"1\" /><path clip-path=\"url(#clip050)\" d=\"M 0 0 M2317.67 94.799 Q2314.06 94.799 2312.23 98.3638 Q2310.42 101.905 2310.42 109.035 Q2310.42 116.141 2312.23 119.706 Q2314.06 123.248 2317.67 123.248 Q2321.3 123.248 2323.11 119.706 Q2324.94 116.141 2324.94 109.035 Q2324.94 101.905 2323.11 98.3638 Q2321.3 94.799 2317.67 94.799 M2317.67 91.0953 Q2323.48 91.0953 2326.53 95.7017 Q2329.61 100.285 2329.61 109.035 Q2329.61 117.762 2326.53 122.368 Q2323.48 126.952 2317.67 126.952 Q2311.86 126.952 2308.78 122.368 Q2305.72 117.762 2305.72 109.035 Q2305.72 100.285 2308.78 95.7017 Q2311.86 91.0953 2317.67 91.0953 Z\" fill=\"#000000\" fill-rule=\"evenodd\" fill-opacity=\"1\" /><path clip-path=\"url(#clip050)\" d=\"M 0 0 M2334.73 91.7203 L2353.08 91.7203 L2353.08 95.6554 L2339.01 95.6554 L2339.01 104.128 Q2340.03 103.78 2341.05 103.618 Q2342.07 103.433 2343.08 103.433 Q2348.87 103.433 2352.25 106.604 Q2355.63 109.776 2355.63 115.192 Q2355.63 120.771 2352.16 123.873 Q2348.69 126.952 2342.37 126.952 Q2340.19 126.952 2337.92 126.581 Q2335.68 126.211 2333.27 125.47 L2333.27 120.771 Q2335.35 121.905 2337.57 122.461 Q2339.8 123.016 2342.27 123.016 Q2346.28 123.016 2348.62 120.91 Q2350.95 118.803 2350.95 115.192 Q2350.95 111.581 2348.62 109.475 Q2346.28 107.368 2342.27 107.368 Q2340.4 107.368 2338.52 107.785 Q2336.67 108.202 2334.73 109.081 L2334.73 91.7203 Z\" fill=\"#000000\" fill-rule=\"evenodd\" fill-opacity=\"1\" /><path clip-path=\"url(#clip050)\" d=\"M 0 0 M2370.7 94.799 Q2367.09 94.799 2365.26 98.3638 Q2363.45 101.905 2363.45 109.035 Q2363.45 116.141 2365.26 119.706 Q2367.09 123.248 2370.7 123.248 Q2374.33 123.248 2376.14 119.706 Q2377.97 116.141 2377.97 109.035 Q2377.97 101.905 2376.14 98.3638 Q2374.33 94.799 2370.7 94.799 M2370.7 91.0953 Q2376.51 91.0953 2379.57 95.7017 Q2382.64 100.285 2382.64 109.035 Q2382.64 117.762 2379.57 122.368 Q2376.51 126.952 2370.7 126.952 Q2364.89 126.952 2361.81 122.368 Q2358.76 117.762 2358.76 109.035 Q2358.76 100.285 2361.81 95.7017 Q2364.89 91.0953 2370.7 91.0953 Z\" fill=\"#000000\" fill-rule=\"evenodd\" fill-opacity=\"1\" /><polyline clip-path=\"url(#clip050)\" style=\"stroke:#000000; stroke-width:4; stroke-opacity:1; fill:none\" points=\"\n  2232.76,1486.45 2232.76,1421.06 2256.76,1421.06 2232.76,1421.06 2232.76,1093.95 2256.76,1093.95 2232.76,1093.95 2232.76,766.846 2256.76,766.846 2232.76,766.846 \n  2232.76,439.738 2256.76,439.738 2232.76,439.738 2232.76,112.629 2256.76,112.629 2232.76,112.629 2232.76,47.2441 \n  \"/>\n</svg>\n"
          },
          "metadata": {
            "tags": []
          },
          "execution_count": 17
        },
        {
          "output_type": "stream",
          "text": [
            "QH6154 Qhull precision error: Initial simplex is flat (facet 1 is coplanar with the interior point)\n",
            "\n",
            "While executing:  | qhull d Qt QbB Qz\n",
            "Options selected for Qhull 2015.2 2016/01/18:\n",
            "  run-id 2120803229  delaunay  Qtriangulate  QbBound-unit-box 0.5\n",
            "  Qz-infinity-point  _pre-merge  _zero-centrum  Pgood  _max-width  1\n",
            "  Error-roundoff 6.9e-16  _one-merge 4.9e-15  _near-inside 2.4e-14\n",
            "  Visible-distance 1.4e-15  U-coplanar-distance 1.4e-15  Width-outside 2.8e-15\n",
            "  _wide-facet 8.3e-15\n",
            "\n",
            "The input to qhull appears to be less than 3 dimensional, or a\n",
            "computation has overflowed.\n",
            "\n",
            "Qhull could not construct a clearly convex simplex from points:\n",
            "- p16(v3): -0.34 -0.34 -0.084\n",
            "- p100(v2): 2.3e-17 2.3e-17   0.5\n",
            "- p99(v1):   0.5   0.5  0.41\n",
            "- p0(v0):  -0.5  -0.5  0.41\n",
            "\n",
            "The center point is coplanar with a facet, or a vertex is coplanar\n",
            "with a neighboring facet.  The maximum round off error for\n",
            "computing distances is 6.9e-16.  The center point, facets and distances\n",
            "to the center point are as follows:\n",
            "\n",
            "center point  -0.0846  -0.0846   0.3086\n",
            "\n",
            "facet p100 p99 p0 distance=    0\n",
            "facet p16 p99 p0 distance=    0\n",
            "facet p16 p100 p0 distance=    0\n",
            "facet p16 p100 p99 distance=    0\n",
            "\n",
            "These points either have a maximum or minimum x-coordinate, or\n",
            "they maximize the determinant for k coordinates.  Trial points\n",
            "are first selected from points that maximize a coordinate.\n",
            "\n",
            "The min and max coordinates for each dimension are:\n",
            "  0:      -0.5       0.5  difference=    1\n",
            "  1:      -0.5       0.5  difference=    1\n",
            "  2:      -0.5       0.5  difference=    1\n",
            "\n",
            "If the input should be full dimensional, you have several options that\n",
            "may determine an initial simplex:\n",
            "  - use 'QJ'  to joggle the input and make it full dimensional\n",
            "  - use 'QbB' to scale the points to the unit cube\n",
            "  - use 'QR0' to randomly rotate the input for different maximum points\n",
            "  - use 'Qs'  to search all points for the initial simplex\n",
            "  - use 'En'  to specify a maximum roundoff error less than 6.9e-16.\n",
            "  - trace execution with 'T3' to see the determinant for each point.\n",
            "\n",
            "If the input is lower dimensional:\n",
            "  - use 'QJ' to joggle the input and make it full dimensional\n",
            "  - use 'Qbk:0Bk:0' to delete coordinate k from the input.  You should\n",
            "    pick the coordinate with the least range.  The hull will have the\n",
            "    correct topology.\n",
            "  - determine the flat containing the points, rotate the points\n",
            "    into a coordinate plane, and delete the other coordinates.\n",
            "  - add one or more points to make the input full dimensional.\n",
            "Error in Delaunay triangulation calculation\n",
            "QH6154 Qhull precision error: Initial simplex is flat (facet 1 is coplanar with the interior point)\n",
            "\n",
            "While executing:  | qhull d Qt QbB Qz\n",
            "Options selected for Qhull 2015.2 2016/01/18:\n",
            "  run-id 2120803229  delaunay  Qtriangulate  QbBound-unit-box 0.5\n",
            "  Qz-infinity-point  _pre-merge  _zero-centrum  Pgood  _max-width  1\n",
            "  Error-roundoff 6.9e-16  _one-merge 4.9e-15  _near-inside 2.4e-14\n",
            "  Visible-distance 1.4e-15  U-coplanar-distance 1.4e-15  Width-outside 2.8e-15\n",
            "  _wide-facet 8.3e-15\n",
            "\n",
            "The input to qhull appears to be less than 3 dimensional, or a\n",
            "computation has overflowed.\n",
            "\n",
            "Qhull could not construct a clearly convex simplex from points:\n",
            "- p16(v3): -0.34 -0.34 -0.084\n",
            "- p100(v2): 2.3e-17 2.3e-17   0.5\n",
            "- p99(v1):   0.5   0.5  0.41\n",
            "- p0(v0):  -0.5  -0.5  0.41\n",
            "\n",
            "The center point is coplanar with a facet, or a vertex is coplanar\n",
            "with a neighboring facet.  The maximum round off error for\n",
            "computing distances is 6.9e-16.  The center point, facets and distances\n",
            "to the center point are as follows:\n",
            "\n",
            "center point  -0.0846  -0.0846   0.3086\n",
            "\n",
            "facet p100 p99 p0 distance=    0\n",
            "facet p16 p99 p0 distance=    0\n",
            "facet p16 p100 p0 distance=    0\n",
            "facet p16 p100 p99 distance=    0\n",
            "\n",
            "These points either have a maximum or minimum x-coordinate, or\n",
            "they maximize the determinant for k coordinates.  Trial points\n",
            "are first selected from points that maximize a coordinate.\n",
            "\n",
            "The min and max coordinates for each dimension are:\n",
            "  0:      -0.5       0.5  difference=    1\n",
            "  1:      -0.5       0.5  difference=    1\n",
            "  2:      -0.5       0.5  difference=    1\n",
            "\n",
            "If the input should be full dimensional, you have several options that\n",
            "may determine an initial simplex:\n",
            "  - use 'QJ'  to joggle the input and make it full dimensional\n",
            "  - use 'QbB' to scale the points to the unit cube\n",
            "  - use 'QR0' to randomly rotate the input for different maximum points\n",
            "  - use 'Qs'  to search all points for the initial simplex\n",
            "  - use 'En'  to specify a maximum roundoff error less than 6.9e-16.\n",
            "  - trace execution with 'T3' to see the determinant for each point.\n",
            "\n",
            "If the input is lower dimensional:\n",
            "  - use 'QJ' to joggle the input and make it full dimensional\n",
            "  - use 'Qbk:0Bk:0' to delete coordinate k from the input.  You should\n",
            "    pick the coordinate with the least range.  The hull will have the\n",
            "    correct topology.\n",
            "  - determine the flat containing the points, rotate the points\n",
            "    into a coordinate plane, and delete the other coordinates.\n",
            "  - add one or more points to make the input full dimensional.\n",
            "Error in Delaunay triangulation calculation\n",
            "QH6154 Qhull precision error: Initial simplex is flat (facet 1 is coplanar with the interior point)\n",
            "\n",
            "While executing:  | qhull d Qt QbB Qz\n",
            "Options selected for Qhull 2015.2 2016/01/18:\n",
            "  run-id 2120803229  delaunay  Qtriangulate  QbBound-unit-box 0.5\n",
            "  Qz-infinity-point  _pre-merge  _zero-centrum  Pgood  _max-width  1\n",
            "  Error-roundoff 6.9e-16  _one-merge 4.9e-15  _near-inside 2.4e-14\n",
            "  Visible-distance 1.4e-15  U-coplanar-distance 1.4e-15  Width-outside 2.8e-15\n",
            "  _wide-facet 8.3e-15\n",
            "\n",
            "The input to qhull appears to be less than 3 dimensional, or a\n",
            "computation has overflowed.\n",
            "\n",
            "Qhull could not construct a clearly convex simplex from points:\n",
            "- p16(v3): -0.34 -0.34 -0.084\n",
            "- p100(v2): 2.3e-17 2.3e-17   0.5\n",
            "- p99(v1):   0.5   0.5  0.41\n",
            "- p0(v0):  -0.5  -0.5  0.41\n",
            "\n",
            "The center point is coplanar with a facet, or a vertex is coplanar\n",
            "with a neighboring facet.  The maximum round off error for\n",
            "computing distances is 6.9e-16.  The center point, facets and distances\n",
            "to the center point are as follows:\n",
            "\n",
            "center point  -0.0846  -0.0846   0.3086\n",
            "\n",
            "facet p100 p99 p0 distance=    0\n",
            "facet p16 p99 p0 distance=    0\n",
            "facet p16 p100 p0 distance=    0\n",
            "facet p16 p100 p99 distance=    0\n",
            "\n",
            "These points either have a maximum or minimum x-coordinate, or\n",
            "they maximize the determinant for k coordinates.  Trial points\n",
            "are first selected from points that maximize a coordinate.\n",
            "\n",
            "The min and max coordinates for each dimension are:\n",
            "  0:      -0.5       0.5  difference=    1\n",
            "  1:      -0.5       0.5  difference=    1\n",
            "  2:      -0.5       0.5  difference=    1\n",
            "\n",
            "If the input should be full dimensional, you have several options that\n",
            "may determine an initial simplex:\n",
            "  - use 'QJ'  to joggle the input and make it full dimensional\n",
            "  - use 'QbB' to scale the points to the unit cube\n",
            "  - use 'QR0' to randomly rotate the input for different maximum points\n",
            "  - use 'Qs'  to search all points for the initial simplex\n",
            "  - use 'En'  to specify a maximum roundoff error less than 6.9e-16.\n",
            "  - trace execution with 'T3' to see the determinant for each point.\n",
            "\n",
            "If the input is lower dimensional:\n",
            "  - use 'QJ' to joggle the input and make it full dimensional\n",
            "  - use 'Qbk:0Bk:0' to delete coordinate k from the input.  You should\n",
            "    pick the coordinate with the least range.  The hull will have the\n",
            "    correct topology.\n",
            "  - determine the flat containing the points, rotate the points\n",
            "    into a coordinate plane, and delete the other coordinates.\n",
            "  - add one or more points to make the input full dimensional.\n",
            "Error in Delaunay triangulation calculation\n",
            "QH6154 Qhull precision error: Initial simplex is flat (facet 1 is coplanar with the interior point)\n",
            "\n",
            "While executing:  | qhull d Qt QbB Qz\n",
            "Options selected for Qhull 2015.2 2016/01/18:\n",
            "  run-id 2120803229  delaunay  Qtriangulate  QbBound-unit-box 0.5\n",
            "  Qz-infinity-point  _pre-merge  _zero-centrum  Pgood  _max-width  1\n",
            "  Error-roundoff 6.9e-16  _one-merge 4.9e-15  _near-inside 2.4e-14\n",
            "  Visible-distance 1.4e-15  U-coplanar-distance 1.4e-15  Width-outside 2.8e-15\n",
            "  _wide-facet 8.3e-15\n",
            "\n",
            "The input to qhull appears to be less than 3 dimensional, or a\n",
            "computation has overflowed.\n",
            "\n",
            "Qhull could not construct a clearly convex simplex from points:\n",
            "- p16(v3): -0.34 -0.34 -0.084\n",
            "- p100(v2): 2.3e-17 2.3e-17   0.5\n",
            "- p99(v1):   0.5   0.5  0.41\n",
            "- p0(v0):  -0.5  -0.5  0.41\n",
            "\n",
            "The center point is coplanar with a facet, or a vertex is coplanar\n",
            "with a neighboring facet.  The maximum round off error for\n",
            "computing distances is 6.9e-16.  The center point, facets and distances\n",
            "to the center point are as follows:\n",
            "\n",
            "center point  -0.0846  -0.0846   0.3086\n",
            "\n",
            "facet p100 p99 p0 distance=    0\n",
            "facet p16 p99 p0 distance=    0\n",
            "facet p16 p100 p0 distance=    0\n",
            "facet p16 p100 p99 distance=    0\n",
            "\n",
            "These points either have a maximum or minimum x-coordinate, or\n",
            "they maximize the determinant for k coordinates.  Trial points\n",
            "are first selected from points that maximize a coordinate.\n",
            "\n",
            "The min and max coordinates for each dimension are:\n",
            "  0:      -0.5       0.5  difference=    1\n",
            "  1:      -0.5       0.5  difference=    1\n",
            "  2:      -0.5       0.5  difference=    1\n",
            "\n",
            "If the input should be full dimensional, you have several options that\n",
            "may determine an initial simplex:\n",
            "  - use 'QJ'  to joggle the input and make it full dimensional\n",
            "  - use 'QbB' to scale the points to the unit cube\n",
            "  - use 'QR0' to randomly rotate the input for different maximum points\n",
            "  - use 'Qs'  to search all points for the initial simplex\n",
            "  - use 'En'  to specify a maximum roundoff error less than 6.9e-16.\n",
            "  - trace execution with 'T3' to see the determinant for each point.\n",
            "\n",
            "If the input is lower dimensional:\n",
            "  - use 'QJ' to joggle the input and make it full dimensional\n",
            "  - use 'Qbk:0Bk:0' to delete coordinate k from the input.  You should\n",
            "    pick the coordinate with the least range.  The hull will have the\n",
            "    correct topology.\n",
            "  - determine the flat containing the points, rotate the points\n",
            "    into a coordinate plane, and delete the other coordinates.\n",
            "  - add one or more points to make the input full dimensional.\n",
            "Error in Delaunay triangulation calculation\n",
            "QH6154 Qhull precision error: Initial simplex is flat (facet 1 is coplanar with the interior point)\n",
            "\n",
            "While executing:  | qhull d Qt QbB Qz\n",
            "Options selected for Qhull 2015.2 2016/01/18:\n",
            "  run-id 2120803229  delaunay  Qtriangulate  QbBound-unit-box 0.5\n",
            "  Qz-infinity-point  _pre-merge  _zero-centrum  Pgood  _max-width  1\n",
            "  Error-roundoff 6.9e-16  _one-merge 4.9e-15  _near-inside 2.4e-14\n",
            "  Visible-distance 1.4e-15  U-coplanar-distance 1.4e-15  Width-outside 2.8e-15\n",
            "  _wide-facet 8.3e-15\n",
            "\n",
            "The input to qhull appears to be less than 3 dimensional, or a\n",
            "computation has overflowed.\n",
            "\n",
            "Qhull could not construct a clearly convex simplex from points:\n",
            "- p16(v3): -0.34 -0.34 -0.084\n",
            "- p100(v2): 2.3e-17 2.3e-17   0.5\n",
            "- p99(v1):   0.5   0.5  0.41\n",
            "- p0(v0):  -0.5  -0.5  0.41\n",
            "\n",
            "The center point is coplanar with a facet, or a vertex is coplanar\n",
            "with a neighboring facet.  The maximum round off error for\n",
            "computing distances is 6.9e-16.  The center point, facets and distances\n",
            "to the center point are as follows:\n",
            "\n",
            "center point  -0.0846  -0.0846   0.3086\n",
            "\n",
            "facet p100 p99 p0 distance=    0\n",
            "facet p16 p99 p0 distance=    0\n",
            "facet p16 p100 p0 distance=    0\n",
            "facet p16 p100 p99 distance=    0\n",
            "\n",
            "These points either have a maximum or minimum x-coordinate, or\n",
            "they maximize the determinant for k coordinates.  Trial points\n",
            "are first selected from points that maximize a coordinate.\n",
            "\n",
            "The min and max coordinates for each dimension are:\n",
            "  0:      -0.5       0.5  difference=    1\n",
            "  1:      -0.5       0.5  difference=    1\n",
            "  2:      -0.5       0.5  difference=    1\n",
            "\n",
            "If the input should be full dimensional, you have several options that\n",
            "may determine an initial simplex:\n",
            "  - use 'QJ'  to joggle the input and make it full dimensional\n",
            "  - use 'QbB' to scale the points to the unit cube\n",
            "  - use 'QR0' to randomly rotate the input for different maximum points\n",
            "  - use 'Qs'  to search all points for the initial simplex\n",
            "  - use 'En'  to specify a maximum roundoff error less than 6.9e-16.\n",
            "  - trace execution with 'T3' to see the determinant for each point.\n",
            "\n",
            "If the input is lower dimensional:\n",
            "  - use 'QJ' to joggle the input and make it full dimensional\n",
            "  - use 'Qbk:0Bk:0' to delete coordinate k from the input.  You should\n",
            "    pick the coordinate with the least range.  The hull will have the\n",
            "    correct topology.\n",
            "  - determine the flat containing the points, rotate the points\n",
            "    into a coordinate plane, and delete the other coordinates.\n",
            "  - add one or more points to make the input full dimensional.\n",
            "Error in Delaunay triangulation calculation\n",
            "QH6154 Qhull precision error: Initial simplex is flat (facet 1 is coplanar with the interior point)\n",
            "\n",
            "While executing:  | qhull d Qt QbB Qz\n",
            "Options selected for Qhull 2015.2 2016/01/18:\n",
            "  run-id 2120803229  delaunay  Qtriangulate  QbBound-unit-box 0.5\n",
            "  Qz-infinity-point  _pre-merge  _zero-centrum  Pgood  _max-width  1\n",
            "  Error-roundoff 6.9e-16  _one-merge 4.9e-15  _near-inside 2.4e-14\n",
            "  Visible-distance 1.4e-15  U-coplanar-distance 1.4e-15  Width-outside 2.8e-15\n",
            "  _wide-facet 8.3e-15\n",
            "\n",
            "The input to qhull appears to be less than 3 dimensional, or a\n",
            "computation has overflowed.\n",
            "\n",
            "Qhull could not construct a clearly convex simplex from points:\n",
            "- p16(v3): -0.34 -0.34 -0.084\n",
            "- p100(v2): 2.3e-17 2.3e-17   0.5\n",
            "- p99(v1):   0.5   0.5  0.41\n",
            "- p0(v0):  -0.5  -0.5  0.41\n",
            "\n",
            "The center point is coplanar with a facet, or a vertex is coplanar\n",
            "with a neighboring facet.  The maximum round off error for\n",
            "computing distances is 6.9e-16.  The center point, facets and distances\n",
            "to the center point are as follows:\n",
            "\n",
            "center point  -0.0846  -0.0846   0.3086\n",
            "\n",
            "facet p100 p99 p0 distance=    0\n",
            "facet p16 p99 p0 distance=    0\n",
            "facet p16 p100 p0 distance=    0\n",
            "facet p16 p100 p99 distance=    0\n",
            "\n",
            "These points either have a maximum or minimum x-coordinate, or\n",
            "they maximize the determinant for k coordinates.  Trial points\n",
            "are first selected from points that maximize a coordinate.\n",
            "\n",
            "The min and max coordinates for each dimension are:\n",
            "  0:      -0.5       0.5  difference=    1\n",
            "  1:      -0.5       0.5  difference=    1\n",
            "  2:      -0.5       0.5  difference=    1\n",
            "\n",
            "If the input should be full dimensional, you have several options that\n",
            "may determine an initial simplex:\n",
            "  - use 'QJ'  to joggle the input and make it full dimensional\n",
            "  - use 'QbB' to scale the points to the unit cube\n",
            "  - use 'QR0' to randomly rotate the input for different maximum points\n",
            "  - use 'Qs'  to search all points for the initial simplex\n",
            "  - use 'En'  to specify a maximum roundoff error less than 6.9e-16.\n",
            "  - trace execution with 'T3' to see the determinant for each point.\n",
            "\n",
            "If the input is lower dimensional:\n",
            "  - use 'QJ' to joggle the input and make it full dimensional\n",
            "  - use 'Qbk:0Bk:0' to delete coordinate k from the input.  You should\n",
            "    pick the coordinate with the least range.  The hull will have the\n",
            "    correct topology.\n",
            "  - determine the flat containing the points, rotate the points\n",
            "    into a coordinate plane, and delete the other coordinates.\n",
            "  - add one or more points to make the input full dimensional.\n",
            "Error in Delaunay triangulation calculation\n"
          ],
          "name": "stderr"
        }
      ]
    },
    {
      "cell_type": "markdown",
      "metadata": {
        "id": "QhvLof3BJJ8Z"
      },
      "source": [
        "We are also interested in simulations involving more atoms"
      ]
    },
    {
      "cell_type": "code",
      "metadata": {
        "id": "DQTJbHjgKGYe",
        "colab": {
          "base_uri": "https://localhost:8080/",
          "height": 558
        },
        "outputId": "c26748f5-2a68-4e2d-c2cb-8479325b29a6"
      },
      "source": [
        "positions_over_time = readdlm(file_position)\n",
        "speeds_over_time = readdlm(file_speed)"
      ],
      "execution_count": null,
      "outputs": [
        {
          "output_type": "stream",
          "text": [
            "tcmalloc: large alloc 4058939392 bytes == 0xb058000 @  0x7f82e963bb6b 0x7f82e965b379 0x7f82e8f307c8 0x7f82e8effd2d 0x7f82a990bf3b 0x7f82a990c10c 0x7f82e8ef7ef6 0x7f82e8ef7b40 0x7f82e8ef8544 0x7f82e8ef97a8 0x7f82e8f16a1a 0x7f82e8ee9206 0x7f82da8a3724 0x7f82d4fe2a3a 0x7f82a98fcadb 0x7f82e8edebf3 0x7f82e8eee9d4 0x7f82e8eef2b2 0x7f82d4fcf750 0x7f82d4fcf98f 0x7f82e8efd26f (nil)\n",
            "tcmalloc: large alloc 1562255360 bytes == 0x1a41e2000 @  0x7f82e963bb6b 0x7f82e965b379 0x7f82e8f31611 0x7f82e8eff6cc 0x7f82a9910425 0x7f82a9910671 0x7f82a990ac1e 0x7f82a990bcf0 0x7f82a990ba26 0x7f82a990bf65 0x7f82a990c10c 0x7f82e8ef7ef6 0x7f82e8ef7b40 0x7f82e8ef8544 0x7f82e8ef97a8 0x7f82e8f16a1a 0x7f82e8ee9206 0x7f82da8a3724 0x7f82d4fe2a3a 0x7f82a98fcadb 0x7f82e8edebf3 0x7f82e8eee9d4 0x7f82e8eef2b2 0x7f82d4fcf750 0x7f82d4fcf98f 0x7f82e8efd26f (nil)\n",
            "tcmalloc: large alloc 3740614656 bytes == 0x2013c4000 @  0x7f82e963bb6b 0x7f82e965b379 0x7f82e8f307c8 0x7f82e8effd2d 0x7f82a990bf3b 0x7f82a990c10c 0x7f82e8ef7ef6 0x7f82e8ef7b40 0x7f82e8ef8544 0x7f82e8ef97a8 0x7f82e8f16a1a 0x7f82e8ee9206 0x7f82da8a3724 0x7f82d4fe2a3a 0x7f82a98fcadb 0x7f82e8edebf3 0x7f82e8eee9d4 0x7f82e8eef2b2 0x7f82d4fcf750 0x7f82d4fcf98f 0x7f82e8efd26f (nil)\n",
            "tcmalloc: large alloc 1562255360 bytes == 0x2e0b2c000 @  0x7f82e963bb6b 0x7f82e965b379 0x7f82e8f31611 0x7f82e8eff6cc 0x7f82a9910425 0x7f82a9910671 0x7f82a990ac1e 0x7f82a990bcf0 0x7f82a990ba26 0x7f82a990bf65 0x7f82a990c10c 0x7f82e8ef7ef6 0x7f82e8ef7b40 0x7f82e8ef8544 0x7f82e8ef97a8 0x7f82e8f16a1a 0x7f82e8ee9206 0x7f82da8a3724 0x7f82d4fe2a3a 0x7f82a98fcadb 0x7f82e8edebf3 0x7f82e8eee9d4 0x7f82e8eef2b2 0x7f82d4fcf750 0x7f82d4fcf98f 0x7f82e8efd26f (nil)\n"
          ],
          "name": "stderr"
        },
        {
          "output_type": "execute_result",
          "data": {
            "text/plain": [
              "19528146×10 Array{Float64,2}:\n",
              "  -1.2267     2.12016    1.70225  …   -4.54364   -11.3321     -4.2928\n",
              " -10.7969    13.245      2.85652      -1.35778    -3.98207     6.57705\n",
              "  -0.993083  11.9513   -16.9648       11.3985      5.00412     7.40403\n",
              "  -1.2267     2.12016    1.70225      -4.54364   -11.3321     -4.2928\n",
              " -10.7969    13.245      2.85652      -1.35778    -3.98207     6.57705\n",
              "  -0.993083  11.9513   -16.9648   …   11.3985      5.00412     7.40403\n",
              "  -1.2267     2.12016    1.70225      -4.54364   -11.3321     -4.2928\n",
              " -10.7969    13.245      2.85652      -1.35778    -3.98207     6.57705\n",
              "  -0.993083  11.9513   -16.9648       11.3985      5.00412     7.40403\n",
              "  -1.2267     2.12016    1.70225      -4.54364   -11.3321     -4.2928\n",
              " -10.7969    13.245      2.85652  …   -1.35778    -3.98207     6.57705\n",
              "  -0.993083  11.9513   -16.9648       11.3985      5.00412     7.40403\n",
              "  -1.2267     2.12016    1.70225      -4.54364   -11.3321     -4.2928\n",
              "   ⋮                              ⋱                           \n",
              "  -0.145553   0.5385     7.10225      -0.655129   -0.0164445  -3.79848\n",
              "  -0.899752  -3.83506    5.62749  …  -15.3584     22.5459      4.15276\n",
              "   6.06958   -1.95371   -2.2453      -17.6668     -4.10962     2.39141\n",
              "  -0.145553   0.5385     7.10225      -0.655129   -0.0164445  -3.79848\n",
              "  -0.899752  -3.83506    5.62749     -15.3584     22.5459      4.15276\n",
              "   6.06958   -1.95371   -2.2453      -17.6668     -4.10962     2.39141\n",
              "  -0.145553   0.5385     7.10225  …   -0.655129   -0.0164445  -3.79848\n",
              "  -0.899752  -3.83506    5.62749     -15.3584     22.5459      4.15276\n",
              "   6.06958   -1.95371   -2.2453      -17.6668     -4.10962     2.39141\n",
              "  -0.145553   0.5385     7.10225      -0.655129   -0.0164445  -3.79848\n",
              "  -0.899752  -3.83506    5.62749     -15.3584     22.5459      4.15276\n",
              "   6.06958   -1.95371   -2.2453   …  -17.6668     -4.10962     2.39141"
            ]
          },
          "metadata": {
            "tags": []
          },
          "execution_count": 9
        }
      ]
    },
    {
      "cell_type": "code",
      "metadata": {
        "id": "-bJpYnKmVC1w",
        "colab": {
          "base_uri": "https://localhost:8080/",
          "height": 34
        },
        "outputId": "e339e4d4-3e2d-4ead-fee5-6f3b74f1f7fe"
      },
      "source": [
        "Nb_simulation = convert(Int, size(positions_over_time)[1]/(3*(Nt+1)))"
      ],
      "execution_count": null,
      "outputs": [
        {
          "output_type": "execute_result",
          "data": {
            "text/plain": [
              "2"
            ]
          },
          "metadata": {
            "tags": []
          },
          "execution_count": 15
        }
      ]
    },
    {
      "cell_type": "code",
      "metadata": {
        "id": "wtoZi0IO7XTm",
        "colab": {
          "base_uri": "https://localhost:8080/",
          "height": 202
        },
        "outputId": "c617ba43-c44b-4070-90cc-841e01bea5e7"
      },
      "source": [
        "vmax = maximum([[speeds_over_time[[(Nt+1)*(i-1)+3*k-2],:][j]^2 + speeds_over_time[[(Nt+1)*(i-1)+3*k-1],:][j]^2 + speeds_over_time[[(Nt+1)*(i-1)+3*k],:][j]^2 for j=1:N] for k in 1:Nt+1, i in 1:Nb_simulation])"
      ],
      "execution_count": null,
      "outputs": [
        {
          "output_type": "execute_result",
          "data": {
            "text/plain": [
              "10-element Array{Float64,1}:\n",
              " 122.12728617213399\n",
              " 320.5670614319697\n",
              " 299.4090123726691\n",
              " 250.0568797391279\n",
              " 206.96746779238447\n",
              " 278.65688733358\n",
              " 202.773727658771\n",
              " 148.83956760476565\n",
              " 167.33987264342062\n",
              "  92.88949919169248"
            ]
          },
          "metadata": {
            "tags": []
          },
          "execution_count": 16
        }
      ]
    },
    {
      "cell_type": "code",
      "metadata": {
        "id": "mdAQ0YdcK1H9",
        "colab": {
          "base_uri": "https://localhost:8080/",
          "height": 145
        },
        "outputId": "389f1345-0ab2-420b-ff4e-8fcb165577cb"
      },
      "source": [
        "anim = Animation()\n",
        "\n",
        "for k in range(1, step=10000, stop = Nt) \n",
        "    #x = range(-Bx, stop = Bx, length = 1000)\n",
        "    #y = range(-By, stop = By, length = 1000)\n",
        "    #z = range(-Bz, stop = Bz, length = 1000)\n",
        "    plot3d(xlim = (-Bx, Bx),ylim = (-By, By),zlim = (-Bz, Bz))\n",
        "    for i in 1:Nb_simulation\n",
        "        scatter!(positions_over_time[[(Nt+1)*(i-1)+3*k-2],:],positions_over_time[[(Nt+1)*(i-1)+3*k-1],:],positions_over_time[[(Nt+1)*(i-1)+3*k],:], title = \"Evolution of the system over time\", xlabel = \"x(m)\", ylabel = \"y(m)\", zlabel = \"z(m)\", zcolor = [[round(1/3/vmax[j]*(speeds_over_time[[(Nt+1)*(i-1)+3*k-2],:][j]^2 + speeds_over_time[[(Nt+1)*(i-1)+3*k-1],:][j]^2 + speeds_over_time[[(Nt+1)*(i-1)+3*k],:][j]^2), digits = 5) for j=1:N]], leg = false)\n",
        "    end\n",
        "    Plots.frame(anim)\n",
        "end\n",
        "gif(anim, \"simulation_3D3Lasers_doppler.gif\", fps=10)"
      ],
      "execution_count": null,
      "outputs": [
        {
          "output_type": "error",
          "ename": "LoadError",
          "evalue": "ignored",
          "traceback": [
            "UndefVarError: Nb_simulation not defined",
            "",
            "Stacktrace:",
            " [1] top-level scope at In[12]:8",
            " [2] include_string(::Function, ::Module, ::String, ::String) at ./loading.jl:1091"
          ]
        }
      ]
    },
    {
      "cell_type": "markdown",
      "metadata": {
        "id": "gZJFH4GpFHRU"
      },
      "source": [
        "Let's now interest ourselves on the force applied on the system"
      ]
    },
    {
      "cell_type": "code",
      "metadata": {
        "id": "KhZQmW2lvmAI"
      },
      "source": [
        "#Method 1 : Sliding Mean\n",
        "#Step A : smooth the the mean_over_time\n",
        "\n",
        "p = 1000 #smooth parameter\n",
        "proper_mean_speed = []\n",
        "\n",
        "for j in p:Nt+1\n",
        "\n",
        "   append!(proper_mean_speed, sum(mean_over_time[j-p+1:j])/p)\n",
        "\n",
        "end\n",
        "png(plot(time[p:Nt+1],proper_mean_speed, xlabel = \"t (s)\", ylabel = \"<v(t)> (m.s-1)\"), \"Mean_speed_over_time_filtered\")"
      ],
      "execution_count": null,
      "outputs": []
    },
    {
      "cell_type": "code",
      "metadata": {
        "id": "3uuHkjHJbOtS"
      },
      "source": [
        "#Step B : Compute its derivative over time\n",
        "\n",
        "derivative_mean_speed = []\n",
        "\n",
        "for j in 2:Nt+2-p\n",
        "\n",
        "    append!(derivative_mean_speed,(proper_mean_speed[j]-proper_mean_speed[j-1])/dt)\n",
        "\n",
        "end"
      ],
      "execution_count": null,
      "outputs": []
    },
    {
      "cell_type": "code",
      "metadata": {
        "id": "zOlXBtGsn9x4"
      },
      "source": [
        "#Step C : We are interested in comparing the computed derivative of the speed with the theory\n",
        "expected_derivative = []\n",
        "for speed in proper_mean_speed[2:Nt+2-p]\n",
        "    append!(expected_derivative, 1/m*h/2/pi*k*γ/2*s(0)*(1/(1+s(0)+(2*(δ-k*speed)/γ)^2)))\n",
        "end"
      ],
      "execution_count": null,
      "outputs": []
    },
    {
      "cell_type": "code",
      "metadata": {
        "id": "agJ8lvjfnlDL"
      },
      "source": [
        "#Step D : Show the unfiltered derivative and compare it with the theory\n",
        "#Plot the derivative of the speed as a function of the speed\n",
        "#Plot the expected value of the Fore \n",
        "plt1 = plot(proper_mean_speed[2:Nt+2-p], derivative_mean_speed, label = \"computed\", title = \"Derivative of mean speed in function of mean speed\", xlabel = \"<v>(t) (m.s-1)\", ylabel = \"d<v(t)>/dt (m/s)\")\n",
        "plot!(proper_mean_speed[2:Nt+2-p], expected_derivative, label = \"theory\") \n",
        "png(plt1, \"Forces_1D1Laser\")"
      ],
      "execution_count": null,
      "outputs": []
    },
    {
      "cell_type": "code",
      "metadata": {
        "id": "8dnaaYFb555b",
        "colab": {
          "base_uri": "https://localhost:8080/",
          "height": 34
        },
        "outputId": "bb27aa14-09be-43de-d6ff-d6db33aae236"
      },
      "source": [
        "test2 = [[1;2];[1;2];[1;2]]\n",
        "file_data = \"mytestfile.txt\"#stores the data of the particles over time\n",
        "touch(file_data)\n",
        "open(file_data, \"a\") do io\n",
        "       writedlm(io, test2)\n",
        "       end\n",
        "result_test = readdlm(file_data)\n",
        "print(result_test)"
      ],
      "execution_count": null,
      "outputs": [
        {
          "output_type": "stream",
          "text": [
            "[1.0; 1.0; 1.0; 1.0; 1.0; 1.0; 1.0; 1.0; 1.0; 1.0; 1.0; 1.0; 1.0; 1.0; 1.0; 2.0; 1.0; 2.0; 1.0; 2.0]"
          ],
          "name": "stdout"
        }
      ]
    },
    {
      "cell_type": "markdown",
      "metadata": {
        "id": "PzeCrQQYg_Ra"
      },
      "source": [
        "Now, you can go to [1D2Lasers](https://colab.research.google.com/drive/1siLkJ8t9mFWwrorNqlWw1CHur62hV_bC#scrollTo=ag4PCq1W2hDf) or 2D1Laser[to be created]"
      ]
    }
  ]
}