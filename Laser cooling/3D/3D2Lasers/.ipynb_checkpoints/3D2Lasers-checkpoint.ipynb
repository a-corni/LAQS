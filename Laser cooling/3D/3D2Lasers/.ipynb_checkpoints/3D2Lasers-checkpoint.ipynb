{
 "cells": [
  {
   "cell_type": "code",
   "execution_count": null,
   "metadata": {
    "colab": {
     "base_uri": "https://localhost:8080/",
     "height": 319
    },
    "id": "3ux9kkXZip4b",
    "outputId": "6bccf382-883a-4099-e4a5-7eb80f9837b2"
   },
   "outputs": [
    {
     "name": "stderr",
     "output_type": "stream",
     "text": [
      "\u001b[32m\u001b[1m   Updating\u001b[22m\u001b[39m registry at `D:\\Users\\Antoine\\.julia\\registries\\General`\n"
     ]
    }
   ],
   "source": [
    "Pkg.add(\"ColorSchemes\");\n",
    "precompile"
   ]
  },
  {
   "cell_type": "code",
   "execution_count": 5,
   "metadata": {
    "colab": {
     "base_uri": "https://localhost:8080/",
     "height": 34
    },
    "id": "ag4PCq1W2hDf",
    "outputId": "eb47de8d-0de8-417d-b66a-4efd027044c7"
   },
   "outputs": [
    {
     "data": {
      "text/plain": [
       "Plots.GRBackend()"
      ]
     },
     "execution_count": 5,
     "metadata": {},
     "output_type": "execute_result"
    }
   ],
   "source": [
    "using Pkg; using Random; using Distributions; using DelimitedFiles;using LinearAlgebra; using Plots; gr()"
   ]
  },
  {
   "cell_type": "code",
   "execution_count": 38,
   "metadata": {
    "id": "yzdmgzQB1EUr"
   },
   "outputs": [
    {
     "data": {
      "text/plain": [
       "sx (generic function with 1 method)"
      ]
     },
     "execution_count": 38,
     "metadata": {},
     "output_type": "execute_result"
    }
   ],
   "source": [
    "#Define space :\n",
    "\n",
    "# Description of an experiment in a cavity\n",
    "# The experiment here is in free space, uncomment to place yourself in the conditions of this experiment\n",
    "\n",
    "struct Dimension\n",
    "    Lx ::Float64  #length of the cavity along x-axis - in m\n",
    "    Ly ::Float64\n",
    "    Lz::Float64\n",
    "    #origin of the x axis placed at the center of the cavity\n",
    "    Bx ::Float64 #Lx/2 #extreme point along x axis\n",
    "    By ::Float64\n",
    "    Bz ::Float64\n",
    "end\n",
    "\n",
    "const Lx = 20*10^(-2) #m\n",
    "const Ly = 20*10^(-2) #m\n",
    "const Lz = 10^(-1) #m\n",
    "\n",
    "dimension = Dimension(Lx, Ly, Lz, Lx/2, Ly/2, Lz/2)\n",
    "\n",
    "#General Physical constants:\n",
    "struct Physics\n",
    "    mu0 ::Float64  #T.m/A\n",
    "    k_B ::Float64 #J/K\n",
    "    e ::Float64 #C\n",
    "    a0 ::Float64 #m #Bohr Radius\n",
    "    c ::Float64 #m/s\n",
    "    h ::Float64 #m².kg/s\n",
    "end\n",
    "\n",
    "physics = Physics(4*pi*10^(-7) , 1.3806504*10^(-23), 1.602176487*10^(-19), 0.52917720859*10^(-10), 299792458,6.62607004*10^(-34))        \n",
    "#Initial Properties of Cesium gaz:\n",
    "struct Cloud\n",
    "    T ::Float64 #°K\n",
    "    N ::Int64 #Number of Cesium atoms\n",
    "end\n",
    "cloud = Cloud( 0.1, 10)\n",
    "#Model Cesium atoms as 2-level atoms:\n",
    "#Transition Cs |6S(1/2) F = 4> -> Cs |6P(3/2) F = 5>\n",
    "struct Particle\n",
    "    m ::Float64  #kg\n",
    "    wa ::Float64  #rad.s-1 #transition frequency\n",
    "    γ ::Float64  #Hz #decay rate\n",
    "    tau ::Float64  #s #lifetime\n",
    "    vr ::Float64  #m.s-1 #recoil velocity\n",
    "    wr ::Float64 #Hz #recoil \"energy\"\n",
    "    Tr ::Float64  #K #recoil Temperature\n",
    "    Td ::Float64  #K #doppler Temperature\n",
    "    d ::Float64  \n",
    "    Is ::Float64 #W/m^2 #Staturation Intensity for a σ+- light for a Cs |6S(1/2) F = 4, mF = +-4> -> Cs |6P(3/2) F = 5, mF = +-5>\n",
    "end\n",
    "\n",
    "cesium = Particle(2.2*10^(-25), 2*pi*351.72571850*10^(12),2*pi*5.18*10^6, 30.405*10^(-9), 3.5225 * 10^(-3), 2*pi*2.0663*10^3, 198.34 * 10^(-9), 125.61*10^(-6), 2.5886*physics.e*physics.a0, 11.049)\n",
    "#Beam properties:\n",
    "struct Beam\n",
    "    Dl :: Float64  #m #diameter of the beam at the origin\n",
    "    δ :: Float64  #s-1 #detuning frequency\n",
    "    wl :: Float64  #rad.s-1 #laser frequency\n",
    "    λ :: Float64   #m #laser wavelength\n",
    "    k :: Float64 #rad.m-1 #laser wave number\n",
    "    I0 :: Float64  #intensity at \n",
    "    w0 :: Float64 # = Dl/2 #cm \n",
    "    zR :: Float64 # = pi*w0^2/λ\n",
    "    direction_x :: Int64\n",
    "    direction_y :: Int64\n",
    "    direction_z :: Int64\n",
    "end\n",
    "\n",
    "const w0 = 11/2*10^(-2)\n",
    "const δ = -0.5*cesium.γ\n",
    "const wl = cesium.wa + δ\n",
    "const λ = 2*pi*physics.c/wl\n",
    "\n",
    "#Beam A1 : sigma - polarized transverse gaussian light propagating in the direction -ex\n",
    "#maximum intensity reached at the origin  \n",
    "beam_A1 = Beam(2*w0, δ, wl , λ,  wl/physics.c, 0.1*cesium.Is, w0, pi*w0^2/λ, -1,0,0)\n",
    "#Beam A2 : sigma + polarized transverse gaussian light propagating in the direction +ex  \n",
    "#maximum intensity reached at the origin\n",
    "beam_A2 = Beam(2*w0, δ, wl , λ,  wl/physics.c, 0.1*cesium.Is, w0, pi*w0^2/λ, 1,0,0)\n",
    "\n",
    "beams = Vector{Beam}(undef,2)\n",
    "beams[1] = beam_A1\n",
    "beams[2] = beam_A2\n",
    "\n",
    "#Simulation time :\n",
    "struct Simulation\n",
    "    t ::Float64  #s #time of the simulation\n",
    "    dt ::Float64 ; #time step\n",
    "    Nt ::Int64 ; # = convert(Int, round(t/dt))#number of iteration\n",
    "end\n",
    "const t = 10*10^(-3)\n",
    "const dt = 0.1/cesium.γ\n",
    "const Nt = convert(Int, round(t/dt))\n",
    "simulation = Simulation(t, dt, Nt)\n",
    "\n",
    "function Ix(beam::Beam, x::Float64, y::Float64, z::Float64) \n",
    "    return beam.I0/abs(1+(x/beam.zR)^2)*exp(-2*(y^2+z^2)/beam.w0^2/(1+(x/beam.zR)^2))    \n",
    "end\n",
    "\n",
    "function sx(particle::Particle, beam::Beam, x::Float64, y::Float64, z::Float64) #saturation parameter Beam A2\n",
    "    return Ix(beam, x, y, z)/particle.Is\n",
    "end\n",
    "\n"
   ]
  },
  {
   "cell_type": "code",
   "execution_count": 39,
   "metadata": {},
   "outputs": [],
   "source": [
    "time = [0.01*k/10000. for k=1:10000]\n",
    "beta = -8*physics.h/2/pi*beam_A1.k^2*δ*0.1/(1+0.1+(2*δ/cesium.γ)^2)^2\n",
    "expected = -10. .* exp.(beta .* time)\n",
    "png(Plots.plot(time, expected, title = \"Expected evolution of the speedalong x\", xlabel = \"t (s)\", ylabel = \"<vx>(t) (m2.s-2)\"), \"Expected_speed_x_3D2lasers\") "
   ]
  },
  {
   "cell_type": "code",
   "execution_count": 40,
   "metadata": {
    "colab": {
     "base_uri": "https://localhost:8080/",
     "height": 202
    },
    "id": "SnhGdOlS2REy",
    "outputId": "502f18a5-5a44-4df2-edbc-683cc6ab5dd6"
   },
   "outputs": [
    {
     "name": "stdout",
     "output_type": "stream",
     "text": [
      "wa = 2.2099578666363832e15\n",
      "δ = -1.6273449945595128e7\n",
      "wl = 2.2099578503629332e15\n",
      "λ = 8.523472820983929e-7\n",
      "k = 7.371625907823649e6\n",
      "γ = 3.2546899891190257e7\n",
      "tau = 3.0405000000000026e-8\n",
      "Is =11.049\n",
      "Nt = 3254690\n",
      "dt = 3.0724892488782887e-9\n",
      "zR = 11149.584185583273\n",
      "0.003533594910711686"
     ]
    }
   ],
   "source": [
    "print(\"wa = \",cesium.wa,\"\\n\") \n",
    "print(\"δ = \", beam_A1.δ, \"\\n\")\n",
    "print(\"wl = \", beam_A1.wl, \"\\n\")\n",
    "print(\"λ = \", beam_A1.λ, \"\\n\")\n",
    "print(\"k = \", beam_A1.k, \"\\n\")\n",
    "print(\"γ = \",cesium.γ, \"\\n\")\n",
    "print(\"tau = \", cesium.tau, \"\\n\")\n",
    "print(\"Is =\", cesium.Is, \"\\n\")\n",
    "print(\"Nt = \", simulation.Nt, \"\\n\")\n",
    "print(\"dt = \", simulation.dt, \"\\n\")\n",
    "print(\"zR = \", beam_A1.zR, \"\\n\")\n",
    "print(physics.h/2/pi/cesium.m*beam_A1.k)"
   ]
  },
  {
   "cell_type": "code",
   "execution_count": 41,
   "metadata": {
    "id": "tKbACiyv2dSn"
   },
   "outputs": [
    {
     "data": {
      "text/plain": [
       "System{Array{Float64,1}}([-0.20000000000000004, -0.10000000000000002, -0.05000000000000001, -0.025000000000000005, 0.0, 0.012500000000000002, 0.025000000000000005, 0.05000000000000001, 0.10000000000000002, 0.20000000000000004], [0.0, 0.0, 0.0, 0.0, 0.0, 0.0, 0.0, 0.0, 0.0, 0.0], [0.0, 0.0, 0.0, 0.0, 0.0, 0.0, 0.0, 0.0, 0.0, 0.0], [-4.6129934449414955, -0.7897768042416081, 4.277566053008021, -3.3170962428786814, -3.10541390147758, 1.8014760767064983, 0.5105873386214722, -1.4406397070700006, 0.42717426078252857, 0.30206516121319277], [0.0, 0.0, 0.0, 0.0, 0.0, 0.0, 0.0, 0.0, 0.0, 0.0], [0.0, 0.0, 0.0, 0.0, 0.0, 0.0, 0.0, 0.0, 0.0, 0.0])"
      ]
     },
     "execution_count": 41,
     "metadata": {},
     "output_type": "execute_result"
    }
   ],
   "source": [
    "mutable struct System{A<:AbstractVector}\n",
    "    position_x ::A \n",
    "    position_y ::A\n",
    "    position_z ::A\n",
    "    speed_x ::A\n",
    "    speed_y ::A\n",
    "    speed_z ::A\n",
    "end\n",
    "\n",
    "#Position vectors are taken randomly following a uniform distribution over space\n",
    "#particles_x = rand(range(-dimension.Bx, stop = dimension.Bx, length = 10000), cloud.N); \n",
    "#particles_y = rand(range(-dimension.By, stop = dimension.By, length = 10000), cloud.N);\n",
    "#particles_z = rand(range(-dimension.Bz, stop = dimension.Bz, length = 10000), cloud.N);\n",
    "\n",
    "#If you want to initialize by hand\n",
    "particles_x = [-2*dimension.Bx, -dimension.Bx, -dimension.Bx/2, -dimension.Bx /4, 0, dimension.Bx/8, dimension.Bx/4, dimension.Bx/2, dimension.Bx, 2*dimension.Bx]\n",
    "particles_y = zeros(cloud.N)\n",
    "particles_z = zeros(cloud.N)\n",
    "\n",
    "#Velocity vectors are taken randomly following a Maxwell-Boltzmann distribution over space\n",
    "#Equivalent : Each component of each velocity vector is taken randomly following a Gaussian distribution over space\n",
    "\n",
    "d = Normal() #Normal distribution\n",
    "#k_B = 1.38064852*10^(-23) #m² kg s² K^(-1)\n",
    "sigma = sqrt(physics.k_B*cloud.T/cesium.m) #Variance\n",
    "particles_vx = sigma*rand(d, cloud.N);\n",
    "#particles_vy = sigma*rand(d, cloud.N);\n",
    "#particles_vz = sigma*rand(d, cloud.N);\n",
    "\n",
    "#Arbitrary Velocity vectors\n",
    "#particles_vx = -10.0*ones(cloud.N)\n",
    "particles_vy = zeros(cloud.N)\n",
    "particles_vz = zeros(cloud.N)\n",
    "\n",
    "system = System(particles_x, particles_y, particles_z, particles_vx, particles_vy, particles_vz)"
   ]
  },
  {
   "cell_type": "code",
   "execution_count": 42,
   "metadata": {
    "colab": {
     "base_uri": "https://localhost:8080/",
     "height": 34
    },
    "id": "66u3sH3126zt",
    "outputId": "40adfa75-69d6-47bf-9f55-8b12313880f1"
   },
   "outputs": [
    {
     "data": {
      "text/plain": [
       "mean (generic function with 1 method)"
      ]
     },
     "execution_count": 42,
     "metadata": {},
     "output_type": "execute_result"
    }
   ],
   "source": [
    "function mean_speed_squared(cloud::Cloud, system::System)\n",
    "    \n",
    "    #returns the instantaneous temperature of the system T= m/(degree_of_freedom*N*k_B)*sum_{i=1,N}(v_i^2) \n",
    "    #Here we have 1 degree of freedom\n",
    "\n",
    "    return 1/cloud.N*sum(system.speed_x.^2) #.+ system.speed_y.^2 .+ system.speed_z.^2 )\n",
    "end\n",
    "\n",
    "function mean(cloud::Cloud, system::System)\n",
    "\n",
    "  #compute the mean of the system\n",
    "\n",
    "  return [sum(system.speed_x), sum(system.speed_y), sum(system.speed_z)]/cloud.N\n",
    "  \n",
    "end "
   ]
  },
  {
   "cell_type": "code",
   "execution_count": 43,
   "metadata": {
    "colab": {
     "base_uri": "https://localhost:8080/",
     "height": 50
    },
    "id": "QYeHG5MA3Aik",
    "outputId": "bf90c58d-0464-4375-e816-926def23d70c"
   },
   "outputs": [
    {
     "data": {
      "text/plain": [
       "6.670292970703497"
      ]
     },
     "execution_count": 43,
     "metadata": {},
     "output_type": "execute_result"
    }
   ],
   "source": [
    "mean_speed_squared(cloud, system)"
   ]
  },
  {
   "cell_type": "code",
   "execution_count": 44,
   "metadata": {
    "colab": {
     "base_uri": "https://localhost:8080/",
     "height": 50
    },
    "id": "dQx3j51zS83P",
    "outputId": "12d3e1ba-9122-48d2-b158-a0edd0be0ecf"
   },
   "outputs": [
    {
     "data": {
      "text/plain": [
       "3-element Array{Float64,1}:\n",
       " -0.5947051210277652\n",
       "  0.0\n",
       "  0.0"
      ]
     },
     "execution_count": 44,
     "metadata": {},
     "output_type": "execute_result"
    }
   ],
   "source": [
    "mean(cloud, system)"
   ]
  },
  {
   "cell_type": "code",
   "execution_count": 45,
   "metadata": {},
   "outputs": [
    {
     "data": {
      "text/plain": [
       "experiment (generic function with 1 method)"
      ]
     },
     "execution_count": 45,
     "metadata": {},
     "output_type": "execute_result"
    }
   ],
   "source": [
    "function step!(dimension::Dimension, physics::Physics, particle::Particle, cloud::Cloud, beams::Vector{Beam}, simulation::Simulation, system::System, system_over_time ::Vector{System})\n",
    "    rva = Vector{Float64}(undef, cloud.N)\n",
    "    rho_ee = Vector{Float64}(undef, cloud.N)\n",
    "    theta = Vector{Float64}(undef, cloud.N)\n",
    "    phi = Vector{Float64}(undef, cloud.N)\n",
    "    scatter_event = Vector{Float64}(undef, cloud.N)\n",
    "    \n",
    "    for j = 2 : simulation.Nt #at each time step\n",
    "        for beam in beams\n",
    "            \n",
    "            rva = rand(Float64, cloud.N)\n",
    "            rho_ee .= simulation.dt .* particle.γ .* sx.([particle], [beam], system.position_x, system.position_y, system.position_z) ./ 2 ./ (1 .+ sx.([particle], [beam], system.position_x, system.position_y, system.position_z) .+ (2 .*(beam.δ .- beam.direction_x .* beam.k .* system.speed_x .- beam.direction_y .* beam.k .* system.speed_y .- beam.direction_z .* beam.k .* system.speed_z) ./ particle.γ) .^2) #laser1\n",
    "            \n",
    "            scatter_event .= physics.h ./ 2. ./ pi ./ particle.m .* beam.k .* (rva .< rho_ee)\n",
    "            theta = 2*pi*rand(Float64, cloud.N) #random inclination of the emitted photon\n",
    "            phi = 2*pi*rand(Float64, cloud.N) #random azimuth of the emitted photon\n",
    "            \n",
    "            system.speed_x .= system.speed_x .+  scatter_event .*(beam.direction_x .+ sin.(theta).*cos.(phi)) \n",
    "            system.speed_y .= system.speed_y .+  scatter_event .*(beam.direction_y .+ sin.(theta).*sin.(phi)) \n",
    "            system.speed_z .= system.speed_z .+  scatter_event .*(beam.direction_z .+ cos.(theta)) \n",
    "\n",
    "            system.position_x .= system.position_x .+ system.speed_x .*simulation.dt\n",
    "            system.position_y .= system.position_y .+ system.speed_y .*simulation.dt\n",
    "            system.position_z .= system.position_z .+ system.speed_z .*simulation.dt\n",
    "        end\n",
    "        system_over_time[j] = deepcopy(system)\n",
    "    end\n",
    "end\n",
    "\n",
    "function experiment(dimension::Dimension, physics::Physics, particle::Particle, cloud::Cloud, beams::Vector{Beam}, simulation::Simulation, system::System)\n",
    "\n",
    "    system_over_time = Vector{System}(undef,simulation.Nt)\n",
    "    \n",
    "    system_over_time[1] = deepcopy(system)\n",
    "    \n",
    "    step!(dimension, physics, particle, cloud, beams, simulation, system, system_over_time)\n",
    "    \n",
    "    return system_over_time\n",
    "end"
   ]
  },
  {
   "cell_type": "code",
   "execution_count": null,
   "metadata": {},
   "outputs": [],
   "source": [
    "@time system_over_time = experiment(dimension, physics, cesium, cloud, beams, simulation, system)"
   ]
  },
  {
   "cell_type": "code",
   "execution_count": null,
   "metadata": {},
   "outputs": [],
   "source": [
    "const position_x_over_time = [system_over_time[i].position_x for i=1:Nt]\n",
    "const position_y_over_time = [system_over_time[i].position_y for i=1:Nt]\n",
    "const position_z_over_time = [system_over_time[i].position_z for i=1:Nt]\n",
    "const speed_x_over_time = [system_over_time[i].speed_x for i=1:Nt]\n",
    "const speed_y_over_time = [system_over_time[i].speed_y for i=1:Nt]\n",
    "const speed_z_over_time = [system_over_time[i].speed_z for i=1:Nt]"
   ]
  },
  {
   "cell_type": "code",
   "execution_count": null,
   "metadata": {},
   "outputs": [],
   "source": [
    "time = [k*simulation.dt for k=1:simulation.Nt]"
   ]
  },
  {
   "cell_type": "code",
   "execution_count": null,
   "metadata": {},
   "outputs": [],
   "source": [
    "mean_speed_squared_over_time = [mean_speed_squared(cloud, system_over_time[i]) for i = 1 : simulation.Nt]"
   ]
  },
  {
   "cell_type": "code",
   "execution_count": null,
   "metadata": {
    "id": "KNUQUcCq3JHQ"
   },
   "outputs": [],
   "source": [
    "#We are interested in the squared speed over time\n",
    "png(Plots.plot(time, mean_speed_squared_over_time, title = \"Mean of the square of the component of the speed along x over time\", xlabel = \"t (s)\", ylabel = \"<vx²>(t) (m2.s-2)\"), \"Squared_speed_3D2lasers_1\") "
   ]
  },
  {
   "cell_type": "code",
   "execution_count": null,
   "metadata": {},
   "outputs": [],
   "source": [
    "mean_over_time = [mean(cloud, system_over_time[i]) for i=1:Nt] "
   ]
  },
  {
   "cell_type": "code",
   "execution_count": null,
   "metadata": {},
   "outputs": [],
   "source": [
    "0.02*cesium.m/physics.k_B"
   ]
  },
  {
   "cell_type": "code",
   "execution_count": null,
   "metadata": {
    "id": "FCY8Gtu7Tyy3"
   },
   "outputs": [],
   "source": [
    "#We are interested in the mean over time\n",
    "\n",
    "png(Plots.plot(time, [mean[1] for mean in mean_over_time], title = \"Mean speed along x absciss over time\", xlabel = \"t (s)\", ylabel = \"<vx>(t) (m/s)\"), \"Meanx_3D2lasers\")\n",
    "png(Plots.plot(time, [mean[2] for mean in mean_over_time], title = \"Mean speed along y absciss over time\", xlabel = \"t (s)\", ylabel = \"<vy>(t) (m/s)\"), \"Meany_3D2lasers\")\n",
    "png(Plots.plot(time, [mean[3] for mean in mean_over_time], title = \"Mean speed along z absciss over time\", xlabel = \"t (s)\", ylabel = \"<vz>(t) (m/s)\"), \"Meanz_3D2lasers\")"
   ]
  },
  {
   "cell_type": "code",
   "execution_count": null,
   "metadata": {},
   "outputs": [],
   "source": [
    "variance_over_time = [mean_speed_squared_over_time[i] - norm(mean_over_time[i]) for i=1:simulation.Nt]"
   ]
  },
  {
   "cell_type": "code",
   "execution_count": null,
   "metadata": {
    "id": "mIO2QSfm-XXZ"
   },
   "outputs": [],
   "source": [
    "#We are interested in the variance over time\n",
    "png(Plots.plot(time, variance_over_time, title = \"Variance over time\", xlabel = \"t (s)\", ylabel = \"<v²(t)>-<v(t)>² (m/s)²\"), \"Variance_3Dlaser_3lasers\")"
   ]
  },
  {
   "cell_type": "code",
   "execution_count": null,
   "metadata": {
    "colab": {
     "base_uri": "https://localhost:8080/",
     "height": 34
    },
    "id": "pSPH8GrF0swM",
    "outputId": "f3aeb1b7-58ef-4684-b60b-bfbfa85d966f"
   },
   "outputs": [],
   "source": [
    "file_data = string(\"simulation_data.txt\")#stores the data of the particles over time\n",
    "touch(file_data)"
   ]
  },
  {
   "cell_type": "code",
   "execution_count": null,
   "metadata": {
    "colab": {
     "base_uri": "https://localhost:8080/",
     "height": 34
    },
    "id": "A6nSHciWDHCO",
    "outputId": "09ad2d0b-d911-4be7-c447-00f94fe18d8d"
   },
   "outputs": [],
   "source": [
    "#We are interested in the minimum speed reached by the system\n",
    "min_v = minimum(mean_speed_squared_over_time)\n",
    "data1 = string(\"minimum speed reached : \",sqrt(min_v),\" m.s-1\")\n",
    "print(data1)\n",
    "writedlm(file_data, data1)"
   ]
  },
  {
   "cell_type": "code",
   "execution_count": null,
   "metadata": {
    "colab": {
     "base_uri": "https://localhost:8080/",
     "height": 34
    },
    "id": "LTYXHGvccJAa",
    "outputId": "4a3b3a35-bdf7-4434-c40d-b433c690aaeb"
   },
   "outputs": [],
   "source": [
    "#We are interested in the time it takes to get this speed\n",
    "min_v_reached = findfirst(isequal(min_v),mean_speed_squared_over_time)\n",
    "data2 = string(\"minimum speed is reached after \", min_v_reached*dt, \" s (that is, after \", min_v_reached,\" iteration)\")\n",
    "print(data2)\n",
    "writedlm(file_data, [readdlm(file_data), data2])"
   ]
  },
  {
   "cell_type": "code",
   "execution_count": null,
   "metadata": {},
   "outputs": [],
   "source": [
    "2*pi*3*10^8/6/10^(-6)"
   ]
  },
  {
   "cell_type": "code",
   "execution_count": null,
   "metadata": {
    "colab": {
     "base_uri": "https://localhost:8080/",
     "height": 34
    },
    "id": "Da6SKqWcD6Aj",
    "outputId": "8200aa4f-9aa5-4487-da75-75281fda7f3b"
   },
   "outputs": [],
   "source": [
    "#We are interested in the maximum variance reached\n",
    "data3 = string(\"maximum variance reached : \", maximum(variance_over_time), \" m2.s-2\")\n",
    "print(data3)\n",
    "writedlm(file_data, [readdlm(file_data), data3])"
   ]
  },
  {
   "cell_type": "code",
   "execution_count": null,
   "metadata": {
    "id": "N9pgl23H3P5w"
   },
   "outputs": [],
   "source": [
    "#We are interested in the dynamics of the atoms over time\n",
    "for i = 1:cloud.N\n",
    "    pltvx = Plots.plot(time,[system_over_time[j].speed_x[i] for j in 1:Nt], title = \"Projected speed on x over time\", xlabel = \"t (s)\", ylabel = \"vx(t) (m/s)\")  \n",
    "    pltvy = Plots.plot(time,[system_over_time[j].speed_y[i] for j in 1:Nt], title = \"Projected speed on y over time\", xlabel = \"t (s)\", ylabel = \"vy(t) (m/s)\")\n",
    "    pltvz = Plots.plot(time,[system_over_time[j].speed_z[i] for j in 1:Nt], title = \"Projected speed on z over time\", xlabel = \"t (s)\", ylabel = \"vz(t) (m/s)\")  \n",
    "\n",
    "    pltx = Plots.plot(time,[system_over_time[j].position_x[i] for j in 1:Nt], title = \"Position x over time\", xlabel = \"t (s)\", ylabel = \"x(t) (m)\")  \n",
    "    plty = Plots.plot(time,[system_over_time[j].position_y[i] for j in 1:Nt], title = \"Position y over time\", xlabel = \"t (s)\", ylabel = \"y(t) (m)\")\n",
    "    pltz = Plots.plot(time,[system_over_time[j].position_z[i] for j in 1:Nt], title = \"Position z over time\", xlabel = \"t (s)\", ylabel = \"z(t) (m)\")  \n",
    "\n",
    "    #show the two graphics on the same image\n",
    "    png(Plots.plot(pltvx, pltx, layout = (2,1)), string(\"movement_x_part_\",string(i),\"_3D6lasers_1\"))\n",
    "    png(Plots.plot(pltvy, plty, layout = (2,1)), string(\"movement_y_part_\",string(i),\"_3D6lasers_1\"))\n",
    "    png(Plots.plot(pltvz, pltz, layout = (2,1)), string(\"movement_z_part_\",string(i),\"_3D6lasers_1\"))  \n",
    "end"
   ]
  },
  {
   "cell_type": "code",
   "execution_count": null,
   "metadata": {
    "colab": {
     "base_uri": "https://localhost:8080/",
     "height": 202
    },
    "id": "3jAj1Y5-Cry4",
    "outputId": "f47e7206-d5f2-4c9c-cb6a-11a0f164eaf5"
   },
   "outputs": [],
   "source": [
    "v2max = [system_over_time[i].speed_x.^2+system_over_time[i].speed_y.^2+system_over_time[i].speed_z.^2 for i=1:simulation.Nt]"
   ]
  },
  {
   "cell_type": "code",
   "execution_count": null,
   "metadata": {
    "colab": {
     "base_uri": "https://localhost:8080/",
     "height": 471
    },
    "id": "3iwaI6QvWT_a",
    "outputId": "1632cb67-139a-4ab8-f675-012e4cd462d3"
   },
   "outputs": [],
   "source": [
    "anim = Animation()\n",
    "\n",
    "for j in range(1, step=1000000, stop = simulation.Nt+1) \n",
    "\n",
    "    X = range(-dimension.Bx, stop = dimension.Bx, length = 100)\n",
    "    Y = range(-dimension.By, stop = dimension.By, length = 100)\n",
    "    Z = range(-dimension.Bz, stop = dimension.Bz, length = 100)\n",
    "    \n",
    "    #Plots.plot(X,range(-w0, stop = w0, length = 100),[sqrt(w0^2-y^2) for x in X, y in range(-w0, stop = w0, length = 100)],st=:surface, c=:blues, opacity = 0.3,  leg = false, camera = (-30,30))\n",
    "    #Plots.plot(X,range(-w0, stop = w0, length = 100),[-sqrt(w0^2-y^2) for x in X, y in range(-w0, stop = w0, length = 100)],st=:surface, c = :blues, opacity = 0.3, leg = false, camera = (-30,30))\n",
    "    Plots.scatter(system_over_time[j].position_x,system_over_time[j].position_y,system_over_time[j].position_z, title = string(\"Evolution of the system over time, t =\", j*dt, \" s\"), xlabel = \"x(m)\", ylabel = \"y(m)\", zlabel = \"z(m)\", xlim = (-dimension.Bx,dimension.Bx), ylim = (-dimension.By,dimension.By), zlim = (-dimension.Bz,dimension.Bz), marker_z = 1 ./ v2max[j] .* (system_over_time[j].position_x.^2 .+ system_over_time[j].position_y.^2 .+ system_over_time[j].position_z.^2), leg = false)\n",
    "    #Plots.plot(range(-w0, stop = w0, length = 100),Y,[sqrt(w0^2-x^2) for x in range(-w0, stop = w0, length = 100), y in Y],st=:surface, c=:blues, opacity = 0.3, leg = false, camera = (-30,30) )\n",
    "    #Plots.plot(range(-w0, stop = w0, length = 100),Y,[-sqrt(w0^2-x^2) for x in range(-w0, stop = w0, length = 100), y in Y],st=:surface, c=:blues, opacity = 0.3, leg = false, camera = (-30,30))\n",
    "    Plots.frame(anim)\n",
    "end\n",
    "gif(anim, \"simulation_3D6Lasers_1.gif\", fps=1)"
   ]
  },
  {
   "cell_type": "code",
   "execution_count": null,
   "metadata": {},
   "outputs": [],
   "source": [
    "for i =1:cloud.N\n",
    "    plt = plot3d(\n",
    "    1,\n",
    "    xlim = (-dimension.Bx, dimension.Bx),\n",
    "    ylim = (-dimension.By, dimension.By),\n",
    "    zlim = (-dimension.Bz, dimension.Bz),\n",
    "    title = string(\"Trajectory of particle\", string(i)),\n",
    "    xlabel = \"x (m)\",\n",
    "    ylabel = \"y (m)\",\n",
    "    zlabel = \"z (m)\",\n",
    "    marker = 2)\n",
    "    for j in range(1, step=10000, stop=simulation.Nt+1)\n",
    "        push!(plt, system_over_time[j].position_x[i] ,system_over_time[j].position_y[i],system_over_time[j].position_z[i])\n",
    "    end\n",
    "    png(plt, string(\"traj_\",string(i),\"_3D6lasers_MOT_0.001\"))\n",
    "end\n",
    "# build an animated gif by pushing new points to the plot, saving every 10th frame"
   ]
  },
  {
   "cell_type": "code",
   "execution_count": null,
   "metadata": {
    "colab": {
     "base_uri": "https://localhost:8080/",
     "height": 471
    },
    "id": "CghLb-eIuopB",
    "outputId": "d39e1e79-f58d-47cf-a805-6bcd410eaac6"
   },
   "outputs": [],
   "source": [
    "#distribution of speed\n",
    "anim = Animation()\n",
    "\n",
    "for k in range(1, step=10000, stop=Nt+1)\n",
    "    #plot(xlim = (-Bx, Bx),ylim = (-1, 1))    \n",
    "    Plots.histogram([speed_x_over_time[k] speed_y_over_time[k] speed_z_over_time[k]],opacity = 0.6, title = string(\"Distribution of speed at time t =\", k*simulation.dt, \" s (simulation time =\",simulation.t, \" s)\"))\n",
    "    Plots.frame(anim)\n",
    "end\n",
    "gif(anim, \"speed_distribution_1D1Laser_doppler.gif\", fps=3)"
   ]
  },
  {
   "cell_type": "markdown",
   "metadata": {
    "id": "dBsjTmwzIA0Y"
   },
   "source": [
    "After each simulation, we add the simulated atoms to a storage file"
   ]
  },
  {
   "cell_type": "code",
   "execution_count": 39,
   "metadata": {
    "colab": {
     "base_uri": "https://localhost:8080/",
     "height": 34
    },
    "id": "UOr9WUiv0Gtc",
    "outputId": "c39e76e4-8c90-4748-b2cf-6557a17d36f5"
   },
   "outputs": [
    {
     "data": {
      "text/plain": [
       "\"speed_T_1.0.txt\""
      ]
     },
     "execution_count": 39,
     "metadata": {},
     "output_type": "execute_result"
    }
   ],
   "source": [
    "#file storing the position\n",
    "file_position = string(\"position_T_\",cloud.T,\".txt\")#stores the position of the particles over time\n",
    "touch(file_position)\n",
    "\n",
    "#file storing the speed\n",
    "file_speed = string(\"speed_T_\",cloud.T,\".txt\") #stores the position of the particles over time\n",
    "touch(file_speed) #create the file if it does not exist"
   ]
  },
  {
   "cell_type": "code",
   "execution_count": 40,
   "metadata": {
    "id": "gVoqjfXZ0Rqq"
   },
   "outputs": [],
   "source": [
    "#add the new positions to the file\n",
    "open(file_position, \"a\") do io\n",
    "       writedlm(io, [position_x_over_time, position_y_over_time, position_z_over_time])\n",
    "       end\n",
    "       \n",
    "#add the new speeds to the file\n",
    "open(file_speed, \"a\") do io\n",
    "       writedlm(io, [speed_x_over_time, speed_y_over_time, speed_z_over_time])\n",
    "       end"
   ]
  },
  {
   "cell_type": "code",
   "execution_count": null,
   "metadata": {
    "id": "V-GFbFcbOpL3"
   },
   "outputs": [],
   "source": [
    "#One way to visualize the intensity \n",
    "X = range(-Bx, stop = Bx, length = 1000)\n",
    "Y = range(-By, stop = By, length = 1000)\n",
    "Z = range(-Bz, stop = Bz, length = 1000)\n",
    "Plots.plot(X,Y,[Ix(x,y,0)+Ix(x,y,0) for x in X, y in Y],st=:surface,camera=(-30,30))"
   ]
  },
  {
   "cell_type": "markdown",
   "metadata": {
    "id": "gZJFH4GpFHRU"
   },
   "source": [
    "Let's now interest ourselves on the force applied on the system"
   ]
  },
  {
   "cell_type": "code",
   "execution_count": null,
   "metadata": {
    "colab": {
     "base_uri": "https://localhost:8080/",
     "height": 34
    },
    "id": "6-FHNQ6Nkt_f",
    "outputId": "130fcb2d-a0fc-48e6-cd97-934e7f248299"
   },
   "outputs": [
    {
     "data": {
      "text/plain": [
       "(3,)"
      ]
     },
     "execution_count": 34,
     "metadata": {
      "tags": []
     },
     "output_type": "execute_result"
    }
   ],
   "source": [
    "size(mean_over_time[1]) "
   ]
  },
  {
   "cell_type": "code",
   "execution_count": null,
   "metadata": {
    "id": "KhZQmW2lvmAI"
   },
   "outputs": [],
   "source": [
    "#Method 1 : Sliding Mean\n",
    "#Step A : smooth the the mean_over_time\n",
    "\n",
    "p = 3000 #smooth parameter\n",
    "proper_mean_speed = []\n",
    "\n",
    "for j in p:Nt+1\n",
    "\n",
    "   append!(proper_mean_speed, sum(mean_over_time[j-p+1:j][1])/p)\n",
    "\n",
    "end\n",
    "png(plot(time[p:Nt+1],proper_mean_speed, xlabel = \"t (s)\", ylabel = \"<v(t)> (m.s-1)\"), \"Mean_speed_over_time_filtered\")"
   ]
  },
  {
   "cell_type": "code",
   "execution_count": null,
   "metadata": {
    "id": "3uuHkjHJbOtS"
   },
   "outputs": [],
   "source": [
    "#Step B : Compute its derivative over time\n",
    "\n",
    "derivative_mean_speed = []\n",
    "\n",
    "for j in 2:Nt+2-p\n",
    "\n",
    "    append!(derivative_mean_speed,(proper_mean_speed[j]-proper_mean_speed[j-1])/dt)\n",
    "\n",
    "end"
   ]
  },
  {
   "cell_type": "code",
   "execution_count": null,
   "metadata": {
    "id": "zOlXBtGsn9x4"
   },
   "outputs": [],
   "source": [
    "#Step C : We are interested in comparing the computed derivative of the speed with the theory\n",
    "expected_derivative = []\n",
    "for speed in proper_mean_speed[2:Nt+2-p]\n",
    "    append!(expected_derivative, 1/m*h/2/pi*k*γ/2*I0/Is*(1/(1+I0/Is+(2*(δ-k*speed)/γ)^2)- 1/(1+I0/Is+(2*(δ+k*speed)/γ)^2)))\n",
    "end"
   ]
  },
  {
   "cell_type": "code",
   "execution_count": null,
   "metadata": {
    "id": "agJ8lvjfnlDL"
   },
   "outputs": [],
   "source": [
    "#Step D : Show the unfiltered derivative and compare it with the theory\n",
    "#Plot the derivative of the speed as a function of the speed\n",
    "#Plot the expected value of the Fore \n",
    "plt1 = plot(proper_mean_speed[2:Nt+2-p], derivative_mean_speed, label = \"computed\", title = \"Derivative of mean speed in function of mean speed\", xlabel = \"<v>(t) (m.s-1)\", ylabel = \"d<v(t)>/dt (m/s)\")\n",
    "plot!(proper_mean_speed[2:Nt+2-p], expected_derivative, label = \"theory\") \n",
    "png(plt1, \"Forces_3D2Lasers\")"
   ]
  },
  {
   "cell_type": "code",
   "execution_count": null,
   "metadata": {
    "colab": {
     "base_uri": "https://localhost:8080/",
     "height": 34
    },
    "id": "8dnaaYFb555b",
    "outputId": "bb27aa14-09be-43de-d6ff-d6db33aae236"
   },
   "outputs": [
    {
     "name": "stdout",
     "output_type": "stream",
     "text": [
      "[1.0; 1.0; 1.0; 1.0; 1.0; 1.0; 1.0; 1.0; 1.0; 1.0; 1.0; 1.0; 1.0; 1.0; 1.0; 2.0; 1.0; 2.0; 1.0; 2.0]"
     ]
    }
   ],
   "source": [
    "test2 = [[1;2];[1;2];[1;2]]\n",
    "file_data = \"mytestfile.txt\"#stores the data of the particles over time\n",
    "touch(file_data)\n",
    "open(file_data, \"a\") do io\n",
    "       writedlm(io, test2)\n",
    "       end\n",
    "result_test = readdlm(file_data)\n",
    "print(result_test)"
   ]
  }
 ],
 "metadata": {
  "colab": {
   "collapsed_sections": [],
   "name": "3D2Lasers.ipynb",
   "provenance": []
  },
  "kernelspec": {
   "display_name": "Julia 1.5.0",
   "language": "julia",
   "name": "julia-1.5"
  },
  "language_info": {
   "file_extension": ".jl",
   "mimetype": "application/julia",
   "name": "julia",
   "version": "1.5.0"
  }
 },
 "nbformat": 4,
 "nbformat_minor": 1
}
